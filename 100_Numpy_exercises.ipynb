{
  "cells": [
    {
      "cell_type": "markdown",
      "id": "f44a2f2b",
      "metadata": {
        "id": "f44a2f2b"
      },
      "source": [
        "# 100 numpy exercises\n",
        "\n",
        "This is a collection of exercises that have been collected in the numpy mailing list, on stack overflow\n",
        "and in the numpy documentation. The goal of this collection is to offer a quick reference for both old\n",
        "and new users but also to provide a set of exercises for those who teach.\n",
        "\n",
        "Inspired from:<https://github.com/rougier/numpy-100>."
      ]
    },
    {
      "cell_type": "markdown",
      "id": "96443564",
      "metadata": {
        "id": "96443564"
      },
      "source": [
        "#### 1. Import the numpy package under the name `np` (★☆☆)"
      ]
    },
    {
      "cell_type": "code",
      "execution_count": 2,
      "id": "ffe1047e",
      "metadata": {
        "id": "ffe1047e"
      },
      "outputs": [],
      "source": [
        "import numpy as np\n",
        "import pandas as pd"
      ]
    },
    {
      "cell_type": "markdown",
      "id": "c807bf1d",
      "metadata": {
        "id": "c807bf1d"
      },
      "source": [
        "#### 2. Print the numpy version and the configuration (★☆☆)"
      ]
    },
    {
      "cell_type": "code",
      "execution_count": null,
      "id": "f396b717",
      "metadata": {
        "id": "f396b717",
        "outputId": "af386417-24d8-4424-a007-2e929c9531ee",
        "colab": {
          "base_uri": "https://localhost:8080/",
          "height": 35
        }
      },
      "outputs": [
        {
          "output_type": "execute_result",
          "data": {
            "text/plain": [
              "'1.21.6'"
            ],
            "application/vnd.google.colaboratory.intrinsic+json": {
              "type": "string"
            }
          },
          "metadata": {},
          "execution_count": 2
        }
      ],
      "source": [
        "np.__version__"
      ]
    },
    {
      "cell_type": "markdown",
      "id": "572c1bdb",
      "metadata": {
        "id": "572c1bdb"
      },
      "source": [
        "#### 3. Create a null vector of size 10 (★☆☆)"
      ]
    },
    {
      "cell_type": "code",
      "execution_count": null,
      "id": "31c9f6a5",
      "metadata": {
        "id": "31c9f6a5",
        "outputId": "b4b9c219-27ea-4640-c8fa-2a98cde10cf2",
        "colab": {
          "base_uri": "https://localhost:8080/"
        }
      },
      "outputs": [
        {
          "output_type": "execute_result",
          "data": {
            "text/plain": [
              "array([0., 0., 0., 0., 0., 0., 0., 0., 0., 0.])"
            ]
          },
          "metadata": {},
          "execution_count": 3
        }
      ],
      "source": [
        "np.zeros(10)"
      ]
    },
    {
      "cell_type": "markdown",
      "id": "337e6e36",
      "metadata": {
        "id": "337e6e36"
      },
      "source": [
        "#### 4. How to find the memory size of any array (★☆☆)"
      ]
    },
    {
      "cell_type": "code",
      "execution_count": null,
      "id": "31e8ec2e",
      "metadata": {
        "id": "31e8ec2e",
        "outputId": "3a3a86c5-290c-4cb8-bc7b-7c738513a6d6",
        "colab": {
          "base_uri": "https://localhost:8080/"
        }
      },
      "outputs": [
        {
          "output_type": "stream",
          "name": "stdout",
          "text": [
            "800 bytes\n"
          ]
        }
      ],
      "source": [
        "z=np.zeros((10,10))\n",
        "print(\"%d bytes\"%(z.size*z.itemsize))"
      ]
    },
    {
      "cell_type": "markdown",
      "id": "166079c8",
      "metadata": {
        "id": "166079c8"
      },
      "source": [
        "#### 5. How to get the documentation of the numpy add function from the command line? (★☆☆)"
      ]
    },
    {
      "cell_type": "code",
      "execution_count": null,
      "id": "593cd80f",
      "metadata": {
        "id": "593cd80f",
        "outputId": "64a0fc2a-6981-46c2-f0f3-010cd1c50c83",
        "colab": {
          "base_uri": "https://localhost:8080/"
        }
      },
      "outputs": [
        {
          "output_type": "stream",
          "name": "stderr",
          "text": [
            "ERROR:root:File `'`python.py'` not found.\n"
          ]
        }
      ],
      "source": [
        "%run `python -c \"import numpy; numpy.info(numpy.add)\"`"
      ]
    },
    {
      "cell_type": "markdown",
      "id": "3add7101",
      "metadata": {
        "id": "3add7101"
      },
      "source": [
        "#### 6. Create a null vector of size 10 but the fifth value which is 1 (★☆☆)"
      ]
    },
    {
      "cell_type": "code",
      "execution_count": null,
      "id": "2edf3c42",
      "metadata": {
        "id": "2edf3c42",
        "outputId": "d5f6fb76-cc04-4749-ab6a-275afc32bedf",
        "colab": {
          "base_uri": "https://localhost:8080/"
        }
      },
      "outputs": [
        {
          "output_type": "stream",
          "name": "stdout",
          "text": [
            "[0. 0. 0. 0. 1. 0. 0. 0. 0. 0.]\n"
          ]
        }
      ],
      "source": [
        "z=np.zeros(10)\n",
        "z[4]=1\n",
        "print(z)"
      ]
    },
    {
      "cell_type": "markdown",
      "id": "cfc46304",
      "metadata": {
        "id": "cfc46304"
      },
      "source": [
        "#### 7. Create a vector with values ranging from 10 to 49 (★☆☆)"
      ]
    },
    {
      "cell_type": "code",
      "execution_count": null,
      "id": "d8b86640",
      "metadata": {
        "id": "d8b86640",
        "outputId": "589c04b9-62e7-4e46-ae10-99544f4f158b",
        "colab": {
          "base_uri": "https://localhost:8080/"
        }
      },
      "outputs": [
        {
          "output_type": "stream",
          "name": "stdout",
          "text": [
            "[10 11 12 13 14 15 16 17 18 19 20 21 22 23 24 25 26 27 28 29 30 31 32 33\n",
            " 34 35 36 37 38 39 40 41 42 43 44 45 46 47 48 49]\n"
          ]
        }
      ],
      "source": [
        "z=np.arange(10,50)\n",
        "print(z)"
      ]
    },
    {
      "cell_type": "markdown",
      "id": "0cc200be",
      "metadata": {
        "id": "0cc200be"
      },
      "source": [
        "#### 8. Reverse a vector (first element becomes last) (★☆☆)"
      ]
    },
    {
      "cell_type": "code",
      "execution_count": null,
      "id": "ec044bb5",
      "metadata": {
        "id": "ec044bb5",
        "outputId": "962e1013-f90d-4065-fa49-ca05a31e660c",
        "colab": {
          "base_uri": "https://localhost:8080/"
        }
      },
      "outputs": [
        {
          "output_type": "stream",
          "name": "stdout",
          "text": [
            "[49 48 47 46 45 44 43 42 41 40 39 38 37 36 35 34 33 32 31 30 29 28 27 26\n",
            " 25 24 23 22 21 20 19 18 17 16 15 14 13 12 11 10  9  8  7  6  5  4  3  2\n",
            "  1  0]\n"
          ]
        }
      ],
      "source": [
        "z=np.arange(50)\n",
        "z=z[::-1]\n",
        "print(z)"
      ]
    },
    {
      "cell_type": "markdown",
      "id": "29d9ede4",
      "metadata": {
        "id": "29d9ede4"
      },
      "source": [
        "#### 9. Create a 3x3 matrix with values ranging from 0 to 8 (★☆☆)"
      ]
    },
    {
      "cell_type": "code",
      "execution_count": null,
      "id": "d9e39043",
      "metadata": {
        "id": "d9e39043",
        "outputId": "af93b2e7-753f-4a2e-d58a-9b275fe24600",
        "colab": {
          "base_uri": "https://localhost:8080/"
        }
      },
      "outputs": [
        {
          "output_type": "stream",
          "name": "stdout",
          "text": [
            "[[0 1 2]\n",
            " [3 4 5]\n",
            " [6 7 8]]\n"
          ]
        }
      ],
      "source": [
        "z=np.arange(0,9).reshape(3,3)\n",
        "print(z)"
      ]
    },
    {
      "cell_type": "markdown",
      "id": "88905ceb",
      "metadata": {
        "id": "88905ceb"
      },
      "source": [
        "#### 10. Find indices of non-zero elements from [1,2,0,0,4,0] (★☆☆)"
      ]
    },
    {
      "cell_type": "code",
      "execution_count": null,
      "id": "b2f3c90a",
      "metadata": {
        "id": "b2f3c90a",
        "outputId": "30d26f07-c4e5-45ba-c855-917c862a3626",
        "colab": {
          "base_uri": "https://localhost:8080/"
        }
      },
      "outputs": [
        {
          "output_type": "stream",
          "name": "stdout",
          "text": [
            "(array([0, 1, 4]),)\n"
          ]
        }
      ],
      "source": [
        "nz=np.nonzero([1,2,0,0,4,0])\n",
        "print(nz)"
      ]
    },
    {
      "cell_type": "markdown",
      "id": "49603e91",
      "metadata": {
        "id": "49603e91"
      },
      "source": [
        "#### 11. Create a 3x3 identity matrix (★☆☆)"
      ]
    },
    {
      "cell_type": "code",
      "execution_count": null,
      "id": "5b607b5c",
      "metadata": {
        "id": "5b607b5c",
        "outputId": "454c95b7-5cf6-4352-b884-38bb81e038f5",
        "colab": {
          "base_uri": "https://localhost:8080/"
        }
      },
      "outputs": [
        {
          "output_type": "stream",
          "name": "stdout",
          "text": [
            "[[1. 0. 0.]\n",
            " [0. 1. 0.]\n",
            " [0. 0. 1.]]\n"
          ]
        }
      ],
      "source": [
        "identity=np.eye(3)\n",
        "print(identity)"
      ]
    },
    {
      "cell_type": "markdown",
      "id": "e15c249a",
      "metadata": {
        "id": "e15c249a"
      },
      "source": [
        "#### 12. Create a 3x3x3 array with random values (★☆☆)"
      ]
    },
    {
      "cell_type": "code",
      "execution_count": null,
      "id": "ab21ed50",
      "metadata": {
        "id": "ab21ed50",
        "outputId": "a92547d3-0fa5-471b-a306-5f3725e775f2",
        "colab": {
          "base_uri": "https://localhost:8080/"
        }
      },
      "outputs": [
        {
          "output_type": "execute_result",
          "data": {
            "text/plain": [
              "array([[[0.37785237, 0.17276328, 0.61726934],\n",
              "        [0.20657335, 0.54662015, 0.0031717 ],\n",
              "        [0.68934133, 0.58245801, 0.32208603]],\n",
              "\n",
              "       [[0.38304164, 0.55251437, 0.6796141 ],\n",
              "        [0.15210413, 0.59500195, 0.13642365],\n",
              "        [0.34922849, 0.29804594, 0.98288359]],\n",
              "\n",
              "       [[0.58779273, 0.49615615, 0.30305787],\n",
              "        [0.35228625, 0.22943438, 0.67239895],\n",
              "        [0.74869523, 0.4447265 , 0.73453169]]])"
            ]
          },
          "metadata": {},
          "execution_count": 22
        }
      ],
      "source": [
        "np.random.random((3,3,3))"
      ]
    },
    {
      "cell_type": "markdown",
      "id": "157a129c",
      "metadata": {
        "id": "157a129c"
      },
      "source": [
        "#### 13. Create a 10x10 array with random values and find the minimum and maximum values (★☆☆)"
      ]
    },
    {
      "cell_type": "code",
      "execution_count": null,
      "id": "c0066de5",
      "metadata": {
        "id": "c0066de5",
        "outputId": "f064e272-2fca-43fb-9298-a5ef975e55c1",
        "colab": {
          "base_uri": "https://localhost:8080/"
        }
      },
      "outputs": [
        {
          "output_type": "stream",
          "name": "stdout",
          "text": [
            "[[0.22977159 0.77968416 0.24788245 0.18252458 0.53386923 0.87063139\n",
            "  0.33527884 0.5714566  0.01131981 0.18829693]\n",
            " [0.39118911 0.10695902 0.79280923 0.28267483 0.91506599 0.13746614\n",
            "  0.76894263 0.35012001 0.88095763 0.68980872]\n",
            " [0.28530649 0.89711464 0.95711838 0.15763672 0.24713247 0.35761754\n",
            "  0.46586199 0.30677371 0.96548184 0.87147008]\n",
            " [0.32669273 0.24370382 0.29246493 0.0976755  0.56452737 0.61165361\n",
            "  0.24664754 0.68419158 0.33067221 0.67518992]\n",
            " [0.05562133 0.36632967 0.92450668 0.73650465 0.69566816 0.16814719\n",
            "  0.88603003 0.14838993 0.48333719 0.16795211]\n",
            " [0.9769813  0.03026407 0.54127108 0.03770475 0.17488089 0.0440303\n",
            "  0.42703813 0.19334547 0.82375096 0.00956921]\n",
            " [0.13280359 0.02784426 0.13082901 0.07388032 0.56631141 0.36209643\n",
            "  0.24219269 0.55613319 0.46249827 0.86919515]\n",
            " [0.86886008 0.92767525 0.20506473 0.46926553 0.04464378 0.62721781\n",
            "  0.69414993 0.91802188 0.8650049  0.65088071]\n",
            " [0.45499052 0.6183317  0.88667342 0.88891873 0.27492716 0.66455574\n",
            "  0.20229993 0.62656505 0.44358288 0.01401056]\n",
            " [0.60999218 0.557214   0.56896133 0.86928518 0.93755735 0.32326911\n",
            "  0.37946558 0.84827315 0.11291638 0.453003  ]]\n",
            "0.9769813001503816\n",
            "0.009569213094493656\n"
          ]
        }
      ],
      "source": [
        "z=np.random.random((10,10))\n",
        "print(z)\n",
        "print(z.max())\n",
        "print(z.min())"
      ]
    },
    {
      "cell_type": "markdown",
      "id": "d92d7b32",
      "metadata": {
        "id": "d92d7b32"
      },
      "source": [
        "#### 14. Create a random vector of size 30 and find the mean value (★☆☆)"
      ]
    },
    {
      "cell_type": "code",
      "execution_count": null,
      "id": "9672d023",
      "metadata": {
        "id": "9672d023",
        "outputId": "3e7949a2-386e-4cdd-ce74-686968df338b",
        "colab": {
          "base_uri": "https://localhost:8080/"
        }
      },
      "outputs": [
        {
          "output_type": "stream",
          "name": "stdout",
          "text": [
            "62.456032779498294\n"
          ]
        }
      ],
      "source": [
        "z=np.random.random(30)\n",
        "print(z.mean()*100)"
      ]
    },
    {
      "cell_type": "markdown",
      "id": "f361efc0",
      "metadata": {
        "id": "f361efc0"
      },
      "source": [
        "#### 15. Create a 2d array with 1 on the border and 0 inside (★☆☆)"
      ]
    },
    {
      "cell_type": "code",
      "execution_count": null,
      "id": "a55b6666",
      "metadata": {
        "id": "a55b6666",
        "outputId": "f1a52cba-80f4-4663-dbed-d35c291c9e2f",
        "colab": {
          "base_uri": "https://localhost:8080/"
        }
      },
      "outputs": [
        {
          "output_type": "stream",
          "name": "stdout",
          "text": [
            "[[1. 1. 1. 1. 1. 1. 1. 1. 1. 1.]\n",
            " [1. 1. 1. 1. 1. 1. 1. 1. 1. 1.]\n",
            " [1. 1. 1. 1. 1. 1. 1. 1. 1. 1.]\n",
            " [1. 1. 1. 1. 1. 1. 1. 1. 1. 1.]\n",
            " [1. 1. 1. 1. 1. 1. 1. 1. 1. 1.]\n",
            " [1. 1. 1. 1. 1. 1. 1. 1. 1. 1.]\n",
            " [1. 1. 1. 1. 1. 1. 1. 1. 1. 1.]\n",
            " [1. 1. 1. 1. 1. 1. 1. 1. 1. 1.]\n",
            " [1. 1. 1. 1. 1. 1. 1. 1. 1. 1.]\n",
            " [1. 1. 1. 1. 1. 1. 1. 1. 1. 1.]]\n",
            "[[1. 1. 1. 1. 1. 1. 1. 1. 1. 1.]\n",
            " [1. 0. 0. 0. 0. 0. 0. 0. 0. 1.]\n",
            " [1. 0. 0. 0. 0. 0. 0. 0. 0. 1.]\n",
            " [1. 0. 0. 0. 0. 0. 0. 0. 0. 1.]\n",
            " [1. 0. 0. 0. 0. 0. 0. 0. 0. 1.]\n",
            " [1. 0. 0. 0. 0. 0. 0. 0. 0. 1.]\n",
            " [1. 0. 0. 0. 0. 0. 0. 0. 0. 1.]\n",
            " [1. 0. 0. 0. 0. 0. 0. 0. 0. 1.]\n",
            " [1. 0. 0. 0. 0. 0. 0. 0. 0. 1.]\n",
            " [1. 1. 1. 1. 1. 1. 1. 1. 1. 1.]]\n"
          ]
        }
      ],
      "source": [
        "z=np.ones((10,10))\n",
        "print(z)\n",
        "z[1:-1,1:-1]=0\n",
        "print(z)"
      ]
    },
    {
      "cell_type": "markdown",
      "id": "475808cb",
      "metadata": {
        "id": "475808cb"
      },
      "source": [
        "#### 16. How to add a border (filled with 0's) around an existing array? (★☆☆)"
      ]
    },
    {
      "cell_type": "code",
      "execution_count": null,
      "id": "b2df3a8a",
      "metadata": {
        "id": "b2df3a8a",
        "outputId": "62ccbd4c-c5cd-4a70-d838-eac98590ba21",
        "colab": {
          "base_uri": "https://localhost:8080/"
        }
      },
      "outputs": [
        {
          "output_type": "stream",
          "name": "stdout",
          "text": [
            "[[1. 1. 1. 1. 1.]\n",
            " [1. 1. 1. 1. 1.]\n",
            " [1. 1. 1. 1. 1.]\n",
            " [1. 1. 1. 1. 1.]\n",
            " [1. 1. 1. 1. 1.]]\n",
            "[[0. 0. 0. 0. 0.]\n",
            " [0. 1. 1. 1. 0.]\n",
            " [0. 1. 1. 1. 0.]\n",
            " [0. 1. 1. 1. 0.]\n",
            " [0. 0. 0. 0. 0.]]\n"
          ]
        }
      ],
      "source": [
        "z = np.ones((5,5))\n",
        "#Z = np.pad(Z, pad_width=1, mode='constant', constant_values=0)\n",
        "print(Z)\n",
        "z[:,[0,-1]]=0\n",
        "z[[0,-1],:]=0\n",
        "print(z)"
      ]
    },
    {
      "cell_type": "markdown",
      "id": "1af07d85",
      "metadata": {
        "id": "1af07d85"
      },
      "source": [
        "#### 17. What is the result of the following expression? (★☆☆)\n",
        "```python\n",
        "0 * np.nan\n",
        "np.nan == np.nan\n",
        "np.inf > np.nan\n",
        "np.nan - np.nan\n",
        "np.nan in set([np.nan])\n",
        "0.3 == 3 * 0.1\n",
        "```"
      ]
    },
    {
      "cell_type": "code",
      "execution_count": null,
      "id": "109cf327",
      "metadata": {
        "id": "109cf327",
        "outputId": "656a59bc-7d13-4bb2-808c-f3cf543cfd51",
        "colab": {
          "base_uri": "https://localhost:8080/"
        }
      },
      "outputs": [
        {
          "output_type": "stream",
          "name": "stdout",
          "text": [
            "nan\n",
            "False\n",
            "False\n",
            "nan\n",
            "True\n",
            "False\n"
          ]
        }
      ],
      "source": [
        "print(0*np.nan)\n",
        "print(np.nan==np.nan)\n",
        "print(np.inf>np.nan)\n",
        "print(np.nan-np.nan)\n",
        "print(np.nan in set([np.nan]))\n",
        "print(0.3 == 3*0.1)"
      ]
    },
    {
      "cell_type": "markdown",
      "id": "6a235316",
      "metadata": {
        "id": "6a235316"
      },
      "source": [
        "#### 18. Create a 5x5 matrix with values 1,2,3,4 just below the diagonal (★☆☆)"
      ]
    },
    {
      "cell_type": "code",
      "execution_count": null,
      "id": "f2e6cfa6",
      "metadata": {
        "id": "f2e6cfa6",
        "outputId": "2a4c06df-4e48-47c2-9ccb-b069300d412f",
        "colab": {
          "base_uri": "https://localhost:8080/"
        }
      },
      "outputs": [
        {
          "output_type": "execute_result",
          "data": {
            "text/plain": [
              "array([[0, 0, 0, 0, 0],\n",
              "       [1, 0, 0, 0, 0],\n",
              "       [0, 2, 0, 0, 0],\n",
              "       [0, 0, 3, 0, 0],\n",
              "       [0, 0, 0, 4, 0]])"
            ]
          },
          "metadata": {},
          "execution_count": 63
        }
      ],
      "source": [
        "np.diag(1+np.arange(4),k=-1)"
      ]
    },
    {
      "cell_type": "markdown",
      "source": [
        " 19. Create a 8x8 matrix and fill it with a checkerboard pattern (★☆☆)\n"
      ],
      "metadata": {
        "id": "lGkUTCM9WZx7"
      },
      "id": "lGkUTCM9WZx7"
    },
    {
      "cell_type": "code",
      "source": [
        "z=np.zeros((8,8),dtype=\"int\")\n",
        "print(z)\n",
        "z[1::2,::2]=1\n",
        "z[::2,1::2]=1\n",
        "print(z)"
      ],
      "metadata": {
        "id": "kQjkcegKWX_8",
        "outputId": "74b421b9-ee18-464f-f530-467b43dbba7c",
        "colab": {
          "base_uri": "https://localhost:8080/"
        }
      },
      "id": "kQjkcegKWX_8",
      "execution_count": null,
      "outputs": [
        {
          "output_type": "stream",
          "name": "stdout",
          "text": [
            "[[0 0 0 0 0 0 0 0]\n",
            " [0 0 0 0 0 0 0 0]\n",
            " [0 0 0 0 0 0 0 0]\n",
            " [0 0 0 0 0 0 0 0]\n",
            " [0 0 0 0 0 0 0 0]\n",
            " [0 0 0 0 0 0 0 0]\n",
            " [0 0 0 0 0 0 0 0]\n",
            " [0 0 0 0 0 0 0 0]]\n",
            "[[0 1 0 1 0 1 0 1]\n",
            " [1 0 1 0 1 0 1 0]\n",
            " [0 1 0 1 0 1 0 1]\n",
            " [1 0 1 0 1 0 1 0]\n",
            " [0 1 0 1 0 1 0 1]\n",
            " [1 0 1 0 1 0 1 0]\n",
            " [0 1 0 1 0 1 0 1]\n",
            " [1 0 1 0 1 0 1 0]]\n"
          ]
        }
      ]
    },
    {
      "cell_type": "markdown",
      "id": "6431e977",
      "metadata": {
        "id": "6431e977"
      },
      "source": [
        "#### 20. Consider a (6,7,8) shape array, what is the index (x,y,z) of the 100th element? (★☆☆)"
      ]
    },
    {
      "cell_type": "code",
      "execution_count": null,
      "id": "de8b0245",
      "metadata": {
        "id": "de8b0245",
        "outputId": "0e04de73-cf22-463b-ab97-df1a41cbc6ae",
        "colab": {
          "base_uri": "https://localhost:8080/"
        }
      },
      "outputs": [
        {
          "output_type": "execute_result",
          "data": {
            "text/plain": [
              "(1, 5, 3)"
            ]
          },
          "metadata": {},
          "execution_count": 68
        }
      ],
      "source": [
        "np.unravel_index(99,(6,7,8))"
      ]
    },
    {
      "cell_type": "markdown",
      "id": "31abe6fe",
      "metadata": {
        "id": "31abe6fe"
      },
      "source": [
        "#### 21. Create a checkerboard 8x8 matrix using the tile function (★☆☆)"
      ]
    },
    {
      "cell_type": "code",
      "execution_count": null,
      "id": "6da26fd3",
      "metadata": {
        "id": "6da26fd3",
        "outputId": "208c20ec-640e-4eaa-a69c-237ee55b87d7",
        "colab": {
          "base_uri": "https://localhost:8080/"
        }
      },
      "outputs": [
        {
          "output_type": "stream",
          "name": "stdout",
          "text": [
            "[[0 1 0 1 0 1 0 1]\n",
            " [1 0 1 0 1 0 1 0]\n",
            " [0 1 0 1 0 1 0 1]\n",
            " [1 0 1 0 1 0 1 0]\n",
            " [0 1 0 1 0 1 0 1]\n",
            " [1 0 1 0 1 0 1 0]\n",
            " [0 1 0 1 0 1 0 1]\n",
            " [1 0 1 0 1 0 1 0]]\n"
          ]
        }
      ],
      "source": [
        "z=np.tile(np.array([[0,1],[1,0]]),(4,4))\n",
        "print(z)"
      ]
    },
    {
      "cell_type": "markdown",
      "id": "fd88b3f4",
      "metadata": {
        "id": "fd88b3f4"
      },
      "source": [
        "#### 22. Normalize a 5x5 random matrix (★☆☆)"
      ]
    },
    {
      "cell_type": "code",
      "execution_count": null,
      "id": "ee6ced60",
      "metadata": {
        "id": "ee6ced60",
        "outputId": "1c2557e2-93f7-4628-81e5-beca40fe6839",
        "colab": {
          "base_uri": "https://localhost:8080/"
        }
      },
      "outputs": [
        {
          "output_type": "stream",
          "name": "stdout",
          "text": [
            "[[-2.08922217 -1.70267292 -1.58091215 -1.9776765  -1.73935337]\n",
            " [-1.86915354 -1.34852408 -1.79506644 -1.40827392 -1.35305409]\n",
            " [-1.72579213 -1.43218795 -1.96820399 -2.2692491  -1.91919267]\n",
            " [-1.71338677 -1.81860888 -1.58869245 -1.83110113 -1.47777683]\n",
            " [-1.45928874 -1.71183952 -2.01924992 -2.05446515 -1.87293945]]\n"
          ]
        }
      ],
      "source": [
        "z=np.random.random((5,5))\n",
        "z=(z-np.mean(z)/(np.std(z)))\n",
        "print(z)"
      ]
    },
    {
      "cell_type": "markdown",
      "id": "464d8590",
      "metadata": {
        "id": "464d8590"
      },
      "source": [
        "#### 23. Create a custom dtype that describes a color as four unsigned bytes (RGBA) (★☆☆)"
      ]
    },
    {
      "cell_type": "code",
      "execution_count": null,
      "id": "e2f9cfc6",
      "metadata": {
        "id": "e2f9cfc6",
        "outputId": "e8102e28-90dc-479c-ad08-f283c4314aa5",
        "colab": {
          "base_uri": "https://localhost:8080/"
        }
      },
      "outputs": [
        {
          "output_type": "stream",
          "name": "stdout",
          "text": [
            "[('r', 'u1'), ('g', 'u1'), ('b', 'u1'), ('a', 'u1')]\n"
          ]
        }
      ],
      "source": [
        "color=np.dtype([(\"r\",np.ubyte),\n",
        "           (\"g\",np.ubyte),\n",
        "           (\"b\",np.ubyte),\n",
        "           (\"a\",np.ubyte)])\n",
        "print(color)"
      ]
    },
    {
      "cell_type": "markdown",
      "id": "06c63bb3",
      "metadata": {
        "id": "06c63bb3"
      },
      "source": [
        "#### 24. Multiply a 5x3 matrix by a 3x2 matrix (real matrix product) (★☆☆)"
      ]
    },
    {
      "cell_type": "code",
      "execution_count": null,
      "id": "9fc0d553",
      "metadata": {
        "id": "9fc0d553",
        "outputId": "babe8326-dfc2-4f6c-ccc5-c7d515e028bb",
        "colab": {
          "base_uri": "https://localhost:8080/"
        }
      },
      "outputs": [
        {
          "output_type": "execute_result",
          "data": {
            "text/plain": [
              "array([[3., 3.],\n",
              "       [3., 3.],\n",
              "       [3., 3.],\n",
              "       [3., 3.],\n",
              "       [3., 3.]])"
            ]
          },
          "metadata": {},
          "execution_count": 80
        }
      ],
      "source": [
        "np.dot(np.ones((5,3)),np.ones((3,2)))"
      ]
    },
    {
      "cell_type": "markdown",
      "id": "76fa6285",
      "metadata": {
        "id": "76fa6285"
      },
      "source": [
        "#### 25. Given a 1D array, negate all elements which are between 3 and 8, in place. (★☆☆)"
      ]
    },
    {
      "cell_type": "code",
      "execution_count": null,
      "id": "0e25eca7",
      "metadata": {
        "id": "0e25eca7",
        "outputId": "a82a764d-b12f-42fd-b090-cb1c3771a9e0",
        "colab": {
          "base_uri": "https://localhost:8080/"
        }
      },
      "outputs": [
        {
          "output_type": "stream",
          "name": "stdout",
          "text": [
            "[ 0  1  2  3  4  5  6  7  8  9 10]\n",
            "[ 0  1  2  3 -4 -5 -6 -7  8  9 10]\n"
          ]
        }
      ],
      "source": [
        "z = np.arange(11)\n",
        "print(z)\n",
        "z[(3 < z) & (z < 8)] *= -1\n",
        "print(z)"
      ]
    },
    {
      "cell_type": "markdown",
      "id": "930ed8bb",
      "metadata": {
        "id": "930ed8bb"
      },
      "source": [
        "#### 26. What is the output of the following script? (★☆☆)\n",
        "```python\n",
        "# Author: Jake VanderPlas\n",
        "\n",
        "print(sum(range(5),-1))\n",
        "from numpy import *\n",
        "print(sum(range(5),-1))\n",
        "```"
      ]
    },
    {
      "cell_type": "code",
      "execution_count": null,
      "id": "f02eedba",
      "metadata": {
        "id": "f02eedba",
        "colab": {
          "base_uri": "https://localhost:8080/"
        },
        "outputId": "a81863cd-5c64-414b-fe4b-e51eec598fda"
      },
      "outputs": [
        {
          "output_type": "stream",
          "name": "stdout",
          "text": [
            "10\n",
            "10\n"
          ]
        }
      ],
      "source": [
        "print(sum(range(5),-1))\n",
        "from numpy import *\n",
        "print(sum(range(5),-1))"
      ]
    },
    {
      "cell_type": "markdown",
      "id": "177120e7",
      "metadata": {
        "id": "177120e7"
      },
      "source": [
        "#### 27. Consider an integer vector Z, which of these expressions are legal? (★☆☆)\n",
        "```python\n",
        "Z**Z\n",
        "2 << Z >> 2\n",
        "Z <- Z\n",
        "1j*Z\n",
        "Z/1/1\n",
        "Z<Z>Z\n",
        "```"
      ]
    },
    {
      "cell_type": "code",
      "execution_count": null,
      "id": "86d6cbef",
      "metadata": {
        "id": "86d6cbef",
        "colab": {
          "base_uri": "https://localhost:8080/"
        },
        "outputId": "d9c2f381-eb01-446d-9f29-30f0684b4361"
      },
      "outputs": [
        {
          "output_type": "stream",
          "name": "stdout",
          "text": [
            "[  0   1   2   4   0   0   0   0 128 256 512]\n",
            "[False False False False  True  True  True  True False False False]\n",
            "[ 0. +0.j  0. +1.j  0. +2.j  0. +3.j -0. -4.j -0. -5.j -0. -6.j -0. -7.j\n",
            "  0. +8.j  0. +9.j  0.+10.j]\n",
            "[ 0.  1.  2.  3. -4. -5. -6. -7.  8.  9. 10.]\n"
          ]
        }
      ],
      "source": [
        "#print(z**z) #illegal\n",
        "print(2<<z>>2) #legal\n",
        "print(z<-z) #legal\n",
        "print(1j*z) #legal\n",
        "print(z/1/1)#legal\n",
        "#print(z<z>z)#illegal"
      ]
    },
    {
      "cell_type": "markdown",
      "id": "a6eaf0e8",
      "metadata": {
        "id": "a6eaf0e8"
      },
      "source": [
        "#### 28. What are the result of the following expressions? (★☆☆)\n",
        "```python\n",
        "np.array(0) / np.array(0)\n",
        "np.array(0) // np.array(0)\n",
        "np.array([np.nan]).astype(int).astype(float)\n",
        "```"
      ]
    },
    {
      "cell_type": "code",
      "execution_count": null,
      "id": "93684068",
      "metadata": {
        "id": "93684068",
        "colab": {
          "base_uri": "https://localhost:8080/"
        },
        "outputId": "dc494d28-27fd-4ab8-cf6a-102ec851d604"
      },
      "outputs": [
        {
          "output_type": "stream",
          "name": "stdout",
          "text": [
            "nan\n",
            "0\n",
            "[-9.22337204e+18]\n"
          ]
        },
        {
          "output_type": "stream",
          "name": "stderr",
          "text": [
            "/usr/local/lib/python3.7/dist-packages/ipykernel_launcher.py:1: RuntimeWarning: invalid value encountered in true_divide\n",
            "  \"\"\"Entry point for launching an IPython kernel.\n",
            "/usr/local/lib/python3.7/dist-packages/ipykernel_launcher.py:2: RuntimeWarning: divide by zero encountered in floor_divide\n",
            "  \n"
          ]
        }
      ],
      "source": [
        "print(np.array(0)/np.array(0))\n",
        "print(np.array(0)//np.array(0))\n",
        "print(np.array([np.nan]).astype(int).astype(float))"
      ]
    },
    {
      "cell_type": "markdown",
      "id": "524b65f8",
      "metadata": {
        "id": "524b65f8"
      },
      "source": [
        "#### 29. How to round away from zero a float array ? (★☆☆)"
      ]
    },
    {
      "cell_type": "code",
      "execution_count": null,
      "id": "61fbb78e",
      "metadata": {
        "id": "61fbb78e",
        "colab": {
          "base_uri": "https://localhost:8080/"
        },
        "outputId": "6f7a150c-78bf-486a-ad71-242a28b92ef0"
      },
      "outputs": [
        {
          "output_type": "stream",
          "name": "stdout",
          "text": [
            "[ 1. -7. 10.  1. -6. -8. -8.  4. -9. -6.]\n"
          ]
        }
      ],
      "source": [
        "z=np.random.uniform(-10,+10,10)\n",
        "print(np.copysign(np.ceil(np.abs(z)),z))"
      ]
    },
    {
      "cell_type": "markdown",
      "id": "8dc40752",
      "metadata": {
        "id": "8dc40752"
      },
      "source": [
        "#### 30. How to find common values between two arrays? (★☆☆)"
      ]
    },
    {
      "cell_type": "code",
      "execution_count": null,
      "id": "54399cbe",
      "metadata": {
        "id": "54399cbe",
        "colab": {
          "base_uri": "https://localhost:8080/"
        },
        "outputId": "a3cd6098-3f15-4d16-9332-5e3e83bc4871"
      },
      "outputs": [
        {
          "output_type": "stream",
          "name": "stdout",
          "text": [
            "[1 2 3 5 6 7]\n"
          ]
        }
      ],
      "source": [
        "z1 = np.random.randint(0,10,15)\n",
        "z2 = np.random.randint(0,20,15) \n",
        "print(np.intersect1d(z1,z2))"
      ]
    },
    {
      "cell_type": "markdown",
      "id": "b7f38e21",
      "metadata": {
        "id": "b7f38e21"
      },
      "source": [
        "#### 31. How to ignore all numpy warnings (not recommended)? (★☆☆)"
      ]
    },
    {
      "cell_type": "code",
      "execution_count": null,
      "id": "2ca3289c",
      "metadata": {
        "id": "2ca3289c",
        "colab": {
          "base_uri": "https://localhost:8080/"
        },
        "outputId": "c5ca2ff7-1ac3-4b9d-fd79-67fc857db820"
      },
      "outputs": [
        {
          "output_type": "stream",
          "name": "stdout",
          "text": [
            "[inf]\n"
          ]
        }
      ],
      "source": [
        "defaults = np.seterr(all=\"ignore\")\n",
        "z = np.ones(1)/0\n",
        "#back to sanity\n",
        "np.seterr(**defaults)\n",
        "print(z)\n",
        "\n",
        "# Equivalently with a context manager\n",
        "with np.errstate(all=\"ignore\"):\n",
        "    np.arange(3) / 0"
      ]
    },
    {
      "cell_type": "markdown",
      "id": "2d850aab",
      "metadata": {
        "id": "2d850aab"
      },
      "source": [
        "#### 32. Is the following expressions true? (★☆☆)\n",
        "```python\n",
        "np.sqrt(-1) == np.emath.sqrt(-1)\n",
        "```"
      ]
    },
    {
      "cell_type": "code",
      "execution_count": null,
      "id": "5c83ffce",
      "metadata": {
        "id": "5c83ffce",
        "colab": {
          "base_uri": "https://localhost:8080/"
        },
        "outputId": "7c5f61fc-e262-4f8b-c197-6385a5208cd3"
      },
      "outputs": [
        {
          "output_type": "stream",
          "name": "stdout",
          "text": [
            "False\n"
          ]
        }
      ],
      "source": [
        "print(np.sqrt(-1)==np.emath.sqrt(-1)) #false"
      ]
    },
    {
      "cell_type": "markdown",
      "id": "5c4a556f",
      "metadata": {
        "id": "5c4a556f"
      },
      "source": [
        "#### 33. How to get the dates of yesterday, today and tomorrow? (★☆☆)"
      ]
    },
    {
      "cell_type": "code",
      "execution_count": null,
      "id": "c3b683a0",
      "metadata": {
        "id": "c3b683a0",
        "colab": {
          "base_uri": "https://localhost:8080/"
        },
        "outputId": "5f316d21-aa61-41ba-d177-854778da0b88"
      },
      "outputs": [
        {
          "output_type": "stream",
          "name": "stdout",
          "text": [
            "today date is : 2022-08-27\n",
            "yesterday date is: 2022-08-26\n",
            "tomorrow date is: 2022-08-28\n"
          ]
        }
      ],
      "source": [
        "today=np.datetime64(\"today\")\n",
        "print(f'today date is : {today}')\n",
        "yesterday = np.datetime64(\"today\")- np.timedelta64(1)\n",
        "print(f'yesterday date is: {yesterday}')\n",
        "tomorrow = np.datetime64(\"today\")+np.timedelta64(1)\n",
        "print(f'tomorrow date is: {tomorrow}')"
      ]
    },
    {
      "cell_type": "markdown",
      "id": "453cdd64",
      "metadata": {
        "id": "453cdd64"
      },
      "source": [
        "#### 34. How to get all the dates corresponding to the month of July 2016? (★★☆)"
      ]
    },
    {
      "cell_type": "code",
      "execution_count": null,
      "id": "4ba4d37c",
      "metadata": {
        "id": "4ba4d37c",
        "colab": {
          "base_uri": "https://localhost:8080/"
        },
        "outputId": "9785c43d-fd85-4966-861a-df1faa34a059"
      },
      "outputs": [
        {
          "output_type": "execute_result",
          "data": {
            "text/plain": [
              "array(['2016-07-01', '2016-07-02', '2016-07-03', '2016-07-04',\n",
              "       '2016-07-05', '2016-07-06', '2016-07-07', '2016-07-08',\n",
              "       '2016-07-09', '2016-07-10', '2016-07-11', '2016-07-12',\n",
              "       '2016-07-13', '2016-07-14', '2016-07-15', '2016-07-16',\n",
              "       '2016-07-17', '2016-07-18', '2016-07-19', '2016-07-20',\n",
              "       '2016-07-21', '2016-07-22', '2016-07-23', '2016-07-24',\n",
              "       '2016-07-25', '2016-07-26', '2016-07-27', '2016-07-28',\n",
              "       '2016-07-29', '2016-07-30', '2016-07-31'], dtype='datetime64[D]')"
            ]
          },
          "metadata": {},
          "execution_count": 150
        }
      ],
      "source": [
        "np.arange(\"2016-07\",\"2016-08\",dtype=\"datetime64[D]\")"
      ]
    },
    {
      "cell_type": "markdown",
      "id": "52667b6e",
      "metadata": {
        "id": "52667b6e"
      },
      "source": [
        "#### 35. How to compute ((A+B)*(-A/2)) in place (without copy)? (★★☆)"
      ]
    },
    {
      "cell_type": "code",
      "source": [
        "A = np.ones(3)*1       #1,1,1\n",
        "B = np.ones(3)*1       #1,1,1\n",
        "np.add(A,B,out=B)      #add a,b #2,2,2\n",
        "np.divide(A,2,out=A)   #divide by 2 #0.5 0.5 0.5\n",
        "np.negative(A,out=A)   #negative the value a:-0.5 -0.5 -0.5\n",
        "np.multiply(A,B,out=A) #mutiply the value A,B :-1,-1,-1"
      ],
      "metadata": {
        "colab": {
          "base_uri": "https://localhost:8080/"
        },
        "id": "ZbPC5KWbyXUv",
        "outputId": "15bd4f95-617a-4a71-f297-92aabb84c57c"
      },
      "id": "ZbPC5KWbyXUv",
      "execution_count": null,
      "outputs": [
        {
          "output_type": "execute_result",
          "data": {
            "text/plain": [
              "array([-1., -1., -1.])"
            ]
          },
          "metadata": {},
          "execution_count": 167
        }
      ]
    },
    {
      "cell_type": "markdown",
      "id": "9a8f3738",
      "metadata": {
        "id": "9a8f3738"
      },
      "source": [
        "#### 36. Extract the integer part of a random array of positive numbers using 4 different methods (★★☆)"
      ]
    },
    {
      "cell_type": "code",
      "execution_count": null,
      "id": "e6e7c030",
      "metadata": {
        "id": "e6e7c030",
        "colab": {
          "base_uri": "https://localhost:8080/"
        },
        "outputId": "16d1e07c-241a-41a1-cb68-b994ab1a6acb"
      },
      "outputs": [
        {
          "output_type": "stream",
          "name": "stdout",
          "text": [
            "[7. 9. 3. 7. 6. 0. 3. 2. 4. 1.]\n",
            "[7. 9. 3. 7. 6. 0. 3. 2. 4. 1.]\n",
            "[7. 9. 3. 7. 6. 0. 3. 2. 4. 1.]\n",
            "[7 9 3 7 6 0 3 2 4 1]\n",
            "[7. 9. 3. 7. 6. 0. 3. 2. 4. 1.]\n"
          ]
        }
      ],
      "source": [
        "z=np.random.uniform(0,10,10)\n",
        "print(z-z%1)\n",
        "print(z//1)\n",
        "print(np.floor(z))\n",
        "print(z.astype(int))\n",
        "print(np.trunc(z))"
      ]
    },
    {
      "cell_type": "markdown",
      "id": "cab1eed1",
      "metadata": {
        "id": "cab1eed1"
      },
      "source": [
        "#### 37. Create a 5x5 matrix with row values ranging from 0 to 4 (★★☆)"
      ]
    },
    {
      "cell_type": "code",
      "execution_count": null,
      "id": "f1b579ba",
      "metadata": {
        "id": "f1b579ba",
        "colab": {
          "base_uri": "https://localhost:8080/"
        },
        "outputId": "d0134ddd-cd5b-472d-a8ca-8b4865fece6b"
      },
      "outputs": [
        {
          "output_type": "stream",
          "name": "stdout",
          "text": [
            "[[0. 1. 2. 3. 4.]\n",
            " [0. 1. 2. 3. 4.]\n",
            " [0. 1. 2. 3. 4.]\n",
            " [0. 1. 2. 3. 4.]\n",
            " [0. 1. 2. 3. 4.]]\n"
          ]
        }
      ],
      "source": [
        "z=np.zeros((5,5))\n",
        "z+= np.arange(5)\n",
        "print(z)"
      ]
    },
    {
      "cell_type": "markdown",
      "id": "cd0ce6b1",
      "metadata": {
        "id": "cd0ce6b1"
      },
      "source": [
        "#### 38. Consider a generator function that generates 10 integers and use it to build an array (★☆☆)"
      ]
    },
    {
      "cell_type": "code",
      "execution_count": null,
      "id": "aab193a6",
      "metadata": {
        "id": "aab193a6",
        "colab": {
          "base_uri": "https://localhost:8080/"
        },
        "outputId": "16365965-65ee-47dc-fee9-22f9b5388fe1"
      },
      "outputs": [
        {
          "output_type": "stream",
          "name": "stdout",
          "text": [
            "[0. 1. 2. 3. 4. 5. 6. 7. 8. 9.]\n"
          ]
        }
      ],
      "source": [
        "def generate():\n",
        "  for x in range(10):\n",
        "    yield x\n",
        "z = np.fromiter(generate(),dtype=float,count=-1)\n",
        "print(z)"
      ]
    },
    {
      "cell_type": "markdown",
      "id": "c4c942d1",
      "metadata": {
        "id": "c4c942d1"
      },
      "source": [
        "#### 39. Create a vector of size 10 with values ranging from 0 to 1, both excluded (★★☆)"
      ]
    },
    {
      "cell_type": "code",
      "execution_count": null,
      "id": "e42eaa4b",
      "metadata": {
        "id": "e42eaa4b",
        "colab": {
          "base_uri": "https://localhost:8080/"
        },
        "outputId": "8a498769-b5ba-463f-9c85-906a88173ed8"
      },
      "outputs": [
        {
          "output_type": "execute_result",
          "data": {
            "text/plain": [
              "array([0.09090909, 0.18181818, 0.27272727, 0.36363636, 0.45454545,\n",
              "       0.54545455, 0.63636364, 0.72727273, 0.81818182, 0.90909091])"
            ]
          },
          "metadata": {},
          "execution_count": 10
        }
      ],
      "source": [
        "np.linspace(0,1,11,endpoint=False)[1:]"
      ]
    },
    {
      "cell_type": "markdown",
      "id": "9b3cb8d2",
      "metadata": {
        "id": "9b3cb8d2"
      },
      "source": [
        "#### 40. Create a random vector of size 10 and sort it (★★☆)"
      ]
    },
    {
      "cell_type": "code",
      "execution_count": null,
      "id": "37d2b341",
      "metadata": {
        "id": "37d2b341",
        "colab": {
          "base_uri": "https://localhost:8080/"
        },
        "outputId": "2bbaa24c-5272-4f26-cb09-a3e34c5227ab"
      },
      "outputs": [
        {
          "output_type": "stream",
          "name": "stdout",
          "text": [
            "[0.28695744 0.36249496 0.40813707 0.4195934  0.42087291 0.44469241\n",
            " 0.68434778 0.73014462 0.90678987 0.9357514 ]\n"
          ]
        }
      ],
      "source": [
        "z=np.random.random(10)\n",
        "z.sort()\n",
        "print(z)"
      ]
    },
    {
      "cell_type": "markdown",
      "id": "2facfddc",
      "metadata": {
        "id": "2facfddc"
      },
      "source": [
        "#### 41. How to sum a small array faster than np.sum? (★★☆)"
      ]
    },
    {
      "cell_type": "code",
      "execution_count": null,
      "id": "4bb8864f",
      "metadata": {
        "id": "4bb8864f",
        "colab": {
          "base_uri": "https://localhost:8080/"
        },
        "outputId": "32467b4e-b972-4cd3-de29-e2b1cc9a4467"
      },
      "outputs": [
        {
          "output_type": "stream",
          "name": "stdout",
          "text": [
            "45\n"
          ]
        }
      ],
      "source": [
        "z = np.arange(10)\n",
        "#print(np.sum(z))\n",
        "print(np.add.reduce(z))"
      ]
    },
    {
      "cell_type": "markdown",
      "id": "539cd2a5",
      "metadata": {
        "id": "539cd2a5"
      },
      "source": [
        "#### 42. Consider two random array A and B, check if they are equal (★★☆)"
      ]
    },
    {
      "cell_type": "code",
      "execution_count": null,
      "id": "5246d7bf",
      "metadata": {
        "id": "5246d7bf",
        "colab": {
          "base_uri": "https://localhost:8080/"
        },
        "outputId": "816a13e3-e04e-4006-e32f-d0aceb58391b"
      },
      "outputs": [
        {
          "output_type": "stream",
          "name": "stdout",
          "text": [
            "False\n",
            "False\n"
          ]
        }
      ],
      "source": [
        "x = np.random.randint(0,2,5)\n",
        "y = np.random.randint(0,2,5)\n",
        "# Assuming identical shape of the arrays and a tolerance for the comparison of values\n",
        "equal = np.allclose(x,y)\n",
        "print(equal)\n",
        "# Checking both the shape and the element values, no tolerance (values have to be exactly equal)\n",
        "equal = np.array_equal(x,y)\n",
        "print(equal)"
      ]
    },
    {
      "cell_type": "markdown",
      "id": "448f8274",
      "metadata": {
        "id": "448f8274"
      },
      "source": [
        "#### 43. Make an array immutable (read-only) (★★☆)"
      ]
    },
    {
      "cell_type": "code",
      "execution_count": null,
      "id": "7cf2b3dd",
      "metadata": {
        "id": "7cf2b3dd",
        "colab": {
          "base_uri": "https://localhost:8080/",
          "height": 217
        },
        "outputId": "c220dd0f-3555-43eb-a73b-c421be208a5b"
      },
      "outputs": [
        {
          "output_type": "stream",
          "name": "stdout",
          "text": [
            "[0. 0. 0. 0. 0. 0. 0. 0. 0. 0.]\n"
          ]
        },
        {
          "output_type": "error",
          "ename": "ValueError",
          "evalue": "ignored",
          "traceback": [
            "\u001b[0;31m---------------------------------------------------------------------------\u001b[0m",
            "\u001b[0;31mValueError\u001b[0m                                Traceback (most recent call last)",
            "\u001b[0;32m<ipython-input-15-1669bfa35203>\u001b[0m in \u001b[0;36m<module>\u001b[0;34m\u001b[0m\n\u001b[1;32m      2\u001b[0m \u001b[0mprint\u001b[0m\u001b[0;34m(\u001b[0m\u001b[0mz\u001b[0m\u001b[0;34m)\u001b[0m\u001b[0;34m\u001b[0m\u001b[0;34m\u001b[0m\u001b[0m\n\u001b[1;32m      3\u001b[0m \u001b[0mz\u001b[0m\u001b[0;34m.\u001b[0m\u001b[0mflags\u001b[0m\u001b[0;34m.\u001b[0m\u001b[0mwriteable\u001b[0m\u001b[0;34m=\u001b[0m\u001b[0;32mFalse\u001b[0m\u001b[0;34m\u001b[0m\u001b[0;34m\u001b[0m\u001b[0m\n\u001b[0;32m----> 4\u001b[0;31m \u001b[0mz\u001b[0m\u001b[0;34m[\u001b[0m\u001b[0;36m0\u001b[0m\u001b[0;34m]\u001b[0m\u001b[0;34m=\u001b[0m\u001b[0;36m1\u001b[0m\u001b[0;34m\u001b[0m\u001b[0;34m\u001b[0m\u001b[0m\n\u001b[0m",
            "\u001b[0;31mValueError\u001b[0m: assignment destination is read-only"
          ]
        }
      ],
      "source": [
        "z=np.zeros(10)\n",
        "print(z)\n",
        "z.flags.writeable=False\n",
        "z[0]=1"
      ]
    },
    {
      "cell_type": "markdown",
      "id": "d7b7aaf3",
      "metadata": {
        "id": "d7b7aaf3"
      },
      "source": [
        "#### 44. Consider a random 10x2 matrix representing cartesian coordinates, convert them to polar coordinates (★★☆)"
      ]
    },
    {
      "cell_type": "code",
      "execution_count": null,
      "id": "e2337585",
      "metadata": {
        "id": "e2337585",
        "colab": {
          "base_uri": "https://localhost:8080/"
        },
        "outputId": "92275307-1593-4e4d-af8b-0901a0931953"
      },
      "outputs": [
        {
          "output_type": "stream",
          "name": "stdout",
          "text": [
            "[1.34419331 0.21901014 0.2561825  1.20558165 0.59891986 0.61980431\n",
            " 0.86246786 0.90954199 0.76175097 0.92522068]\n",
            "[0.83381861 1.31296458 0.09018665 0.79758091 0.47700205 0.36694589\n",
            " 0.62915564 0.32084128 0.02417125 1.21692257]\n"
          ]
        }
      ],
      "source": [
        "z= np.random.random((10,2))\n",
        "x,y = z[:,0],z[:,1]\n",
        "r = np.sqrt(x**2+y**2)\n",
        "t = np.arctan2(y,x)\n",
        "print(r)\n",
        "print(t)"
      ]
    },
    {
      "cell_type": "markdown",
      "id": "a556027a",
      "metadata": {
        "id": "a556027a"
      },
      "source": [
        "#### 45. Create random vector of size 10 and replace the maximum value by 0 (★★☆)"
      ]
    },
    {
      "cell_type": "code",
      "execution_count": null,
      "id": "9e07cb87",
      "metadata": {
        "id": "9e07cb87",
        "colab": {
          "base_uri": "https://localhost:8080/"
        },
        "outputId": "a50cc9c8-68dd-4ebb-b345-0337a75b666a"
      },
      "outputs": [
        {
          "output_type": "stream",
          "name": "stdout",
          "text": [
            "[0.34685032 0.58046826 0.72539718 0.16858124 0.30483828 0.67542107\n",
            " 0.07947493 0.49854492 0.21100101 0.        ]\n"
          ]
        }
      ],
      "source": [
        "z=np.random.random(10)\n",
        "z[z.argmax()]= 0\n",
        "print(z)"
      ]
    },
    {
      "cell_type": "markdown",
      "id": "004f3da1",
      "metadata": {
        "id": "004f3da1"
      },
      "source": [
        "#### 46. Create a structured array with `x` and `y` coordinates covering the [0,1]x[0,1] area (★★☆)"
      ]
    },
    {
      "cell_type": "code",
      "execution_count": null,
      "id": "b3824741",
      "metadata": {
        "id": "b3824741",
        "colab": {
          "base_uri": "https://localhost:8080/"
        },
        "outputId": "8fb94326-3758-4d31-b483-5a2fff7875d7"
      },
      "outputs": [
        {
          "output_type": "stream",
          "name": "stdout",
          "text": [
            "[[(0.  , 0.  ) (0.25, 0.  ) (0.5 , 0.  ) (0.75, 0.  ) (1.  , 0.  )]\n",
            " [(0.  , 0.25) (0.25, 0.25) (0.5 , 0.25) (0.75, 0.25) (1.  , 0.25)]\n",
            " [(0.  , 0.5 ) (0.25, 0.5 ) (0.5 , 0.5 ) (0.75, 0.5 ) (1.  , 0.5 )]\n",
            " [(0.  , 0.75) (0.25, 0.75) (0.5 , 0.75) (0.75, 0.75) (1.  , 0.75)]\n",
            " [(0.  , 1.  ) (0.25, 1.  ) (0.5 , 1.  ) (0.75, 1.  ) (1.  , 1.  )]]\n"
          ]
        }
      ],
      "source": [
        "#copied\n",
        "Z = np.zeros((5,5), [('x',float),('y',float)])\n",
        "Z['x'], Z['y'] = np.meshgrid(np.linspace(0,1,5),\n",
        "                             np.linspace(0,1,5))\n",
        "print(Z)"
      ]
    },
    {
      "cell_type": "markdown",
      "id": "1c0adc0d",
      "metadata": {
        "id": "1c0adc0d"
      },
      "source": [
        "#### 47. Given two arrays, X and Y, construct the Cauchy matrix C (Cij =1/(xi - yj)) (★★☆)"
      ]
    },
    {
      "cell_type": "code",
      "execution_count": null,
      "id": "01b3bbb7",
      "metadata": {
        "id": "01b3bbb7"
      },
      "outputs": [],
      "source": [
        "#copied\n",
        "X = np.arange(8)\n",
        "Y = X + 0.5\n",
        "C = 1.0 / np.subtract.outer(X, Y)\n",
        "print(np.linalg.det(C))"
      ]
    },
    {
      "cell_type": "markdown",
      "id": "c8a2f65a",
      "metadata": {
        "id": "c8a2f65a"
      },
      "source": [
        "#### 48. Print the minimum and maximum representable value for each numpy scalar type (★★☆)"
      ]
    },
    {
      "cell_type": "code",
      "execution_count": null,
      "id": "35d844d6",
      "metadata": {
        "id": "35d844d6",
        "colab": {
          "base_uri": "https://localhost:8080/"
        },
        "outputId": "168a4def-c4ee-426a-b154-f0e9f07345a9"
      },
      "outputs": [
        {
          "output_type": "stream",
          "name": "stdout",
          "text": [
            "int dtypes:\n",
            "\n",
            "-128\n",
            "127\n",
            "-32768\n",
            "32767\n",
            "-2147483648\n",
            "2147483647\n",
            "-9223372036854775808\n",
            "9223372036854775807\n",
            "\n",
            "\n",
            "Float dtypes:\n",
            "\n",
            "-65500.0\n",
            "65500.0\n",
            "0.000977\n",
            "-3.4028235e+38\n",
            "3.4028235e+38\n",
            "1.1920929e-07\n",
            "-1.7976931348623157e+308\n",
            "1.7976931348623157e+308\n",
            "2.220446049250313e-16\n"
          ]
        }
      ],
      "source": [
        "print(\"int dtypes:\\n\")\n",
        "for dtype in [np.int8,np.int16,np.int32,np.int64]:\n",
        "  print(np.iinfo(dtype).min)     #to see the info of  int types\n",
        "  print(np.iinfo(dtype).max)\n",
        "print(\"\\n\")\n",
        "print(\"Float dtypes:\\n\")\n",
        "for dtype in [np.float16,np.float32,np.float64]:\n",
        "  print(np.finfo(dtype).min)  #to see the info of float types\n",
        "  print(np.finfo(dtype).max)\n",
        "  print(np.finfo(dtype).eps)"
      ]
    },
    {
      "cell_type": "markdown",
      "id": "11727a69",
      "metadata": {
        "id": "11727a69"
      },
      "source": [
        "#### 49. How to print all the values of an array? (★★☆)"
      ]
    },
    {
      "cell_type": "code",
      "execution_count": null,
      "id": "47e98473",
      "metadata": {
        "id": "47e98473",
        "colab": {
          "base_uri": "https://localhost:8080/"
        },
        "outputId": "81ee039f-0bba-4ff7-81d8-55158753fc16"
      },
      "outputs": [
        {
          "output_type": "stream",
          "name": "stdout",
          "text": [
            "[[0. 0. 0. 0. 0. 0. 0. 0. 0. 0. 0. 0. 0. 0. 0. 0. 0. 0. 0. 0. 0. 0. 0. 0.\n",
            "  0. 0. 0. 0. 0. 0. 0. 0. 0. 0. 0. 0. 0. 0. 0. 0.]\n",
            " [0. 0. 0. 0. 0. 0. 0. 0. 0. 0. 0. 0. 0. 0. 0. 0. 0. 0. 0. 0. 0. 0. 0. 0.\n",
            "  0. 0. 0. 0. 0. 0. 0. 0. 0. 0. 0. 0. 0. 0. 0. 0.]\n",
            " [0. 0. 0. 0. 0. 0. 0. 0. 0. 0. 0. 0. 0. 0. 0. 0. 0. 0. 0. 0. 0. 0. 0. 0.\n",
            "  0. 0. 0. 0. 0. 0. 0. 0. 0. 0. 0. 0. 0. 0. 0. 0.]\n",
            " [0. 0. 0. 0. 0. 0. 0. 0. 0. 0. 0. 0. 0. 0. 0. 0. 0. 0. 0. 0. 0. 0. 0. 0.\n",
            "  0. 0. 0. 0. 0. 0. 0. 0. 0. 0. 0. 0. 0. 0. 0. 0.]\n",
            " [0. 0. 0. 0. 0. 0. 0. 0. 0. 0. 0. 0. 0. 0. 0. 0. 0. 0. 0. 0. 0. 0. 0. 0.\n",
            "  0. 0. 0. 0. 0. 0. 0. 0. 0. 0. 0. 0. 0. 0. 0. 0.]\n",
            " [0. 0. 0. 0. 0. 0. 0. 0. 0. 0. 0. 0. 0. 0. 0. 0. 0. 0. 0. 0. 0. 0. 0. 0.\n",
            "  0. 0. 0. 0. 0. 0. 0. 0. 0. 0. 0. 0. 0. 0. 0. 0.]\n",
            " [0. 0. 0. 0. 0. 0. 0. 0. 0. 0. 0. 0. 0. 0. 0. 0. 0. 0. 0. 0. 0. 0. 0. 0.\n",
            "  0. 0. 0. 0. 0. 0. 0. 0. 0. 0. 0. 0. 0. 0. 0. 0.]\n",
            " [0. 0. 0. 0. 0. 0. 0. 0. 0. 0. 0. 0. 0. 0. 0. 0. 0. 0. 0. 0. 0. 0. 0. 0.\n",
            "  0. 0. 0. 0. 0. 0. 0. 0. 0. 0. 0. 0. 0. 0. 0. 0.]\n",
            " [0. 0. 0. 0. 0. 0. 0. 0. 0. 0. 0. 0. 0. 0. 0. 0. 0. 0. 0. 0. 0. 0. 0. 0.\n",
            "  0. 0. 0. 0. 0. 0. 0. 0. 0. 0. 0. 0. 0. 0. 0. 0.]\n",
            " [0. 0. 0. 0. 0. 0. 0. 0. 0. 0. 0. 0. 0. 0. 0. 0. 0. 0. 0. 0. 0. 0. 0. 0.\n",
            "  0. 0. 0. 0. 0. 0. 0. 0. 0. 0. 0. 0. 0. 0. 0. 0.]\n",
            " [0. 0. 0. 0. 0. 0. 0. 0. 0. 0. 0. 0. 0. 0. 0. 0. 0. 0. 0. 0. 0. 0. 0. 0.\n",
            "  0. 0. 0. 0. 0. 0. 0. 0. 0. 0. 0. 0. 0. 0. 0. 0.]\n",
            " [0. 0. 0. 0. 0. 0. 0. 0. 0. 0. 0. 0. 0. 0. 0. 0. 0. 0. 0. 0. 0. 0. 0. 0.\n",
            "  0. 0. 0. 0. 0. 0. 0. 0. 0. 0. 0. 0. 0. 0. 0. 0.]\n",
            " [0. 0. 0. 0. 0. 0. 0. 0. 0. 0. 0. 0. 0. 0. 0. 0. 0. 0. 0. 0. 0. 0. 0. 0.\n",
            "  0. 0. 0. 0. 0. 0. 0. 0. 0. 0. 0. 0. 0. 0. 0. 0.]\n",
            " [0. 0. 0. 0. 0. 0. 0. 0. 0. 0. 0. 0. 0. 0. 0. 0. 0. 0. 0. 0. 0. 0. 0. 0.\n",
            "  0. 0. 0. 0. 0. 0. 0. 0. 0. 0. 0. 0. 0. 0. 0. 0.]\n",
            " [0. 0. 0. 0. 0. 0. 0. 0. 0. 0. 0. 0. 0. 0. 0. 0. 0. 0. 0. 0. 0. 0. 0. 0.\n",
            "  0. 0. 0. 0. 0. 0. 0. 0. 0. 0. 0. 0. 0. 0. 0. 0.]\n",
            " [0. 0. 0. 0. 0. 0. 0. 0. 0. 0. 0. 0. 0. 0. 0. 0. 0. 0. 0. 0. 0. 0. 0. 0.\n",
            "  0. 0. 0. 0. 0. 0. 0. 0. 0. 0. 0. 0. 0. 0. 0. 0.]\n",
            " [0. 0. 0. 0. 0. 0. 0. 0. 0. 0. 0. 0. 0. 0. 0. 0. 0. 0. 0. 0. 0. 0. 0. 0.\n",
            "  0. 0. 0. 0. 0. 0. 0. 0. 0. 0. 0. 0. 0. 0. 0. 0.]\n",
            " [0. 0. 0. 0. 0. 0. 0. 0. 0. 0. 0. 0. 0. 0. 0. 0. 0. 0. 0. 0. 0. 0. 0. 0.\n",
            "  0. 0. 0. 0. 0. 0. 0. 0. 0. 0. 0. 0. 0. 0. 0. 0.]\n",
            " [0. 0. 0. 0. 0. 0. 0. 0. 0. 0. 0. 0. 0. 0. 0. 0. 0. 0. 0. 0. 0. 0. 0. 0.\n",
            "  0. 0. 0. 0. 0. 0. 0. 0. 0. 0. 0. 0. 0. 0. 0. 0.]\n",
            " [0. 0. 0. 0. 0. 0. 0. 0. 0. 0. 0. 0. 0. 0. 0. 0. 0. 0. 0. 0. 0. 0. 0. 0.\n",
            "  0. 0. 0. 0. 0. 0. 0. 0. 0. 0. 0. 0. 0. 0. 0. 0.]\n",
            " [0. 0. 0. 0. 0. 0. 0. 0. 0. 0. 0. 0. 0. 0. 0. 0. 0. 0. 0. 0. 0. 0. 0. 0.\n",
            "  0. 0. 0. 0. 0. 0. 0. 0. 0. 0. 0. 0. 0. 0. 0. 0.]\n",
            " [0. 0. 0. 0. 0. 0. 0. 0. 0. 0. 0. 0. 0. 0. 0. 0. 0. 0. 0. 0. 0. 0. 0. 0.\n",
            "  0. 0. 0. 0. 0. 0. 0. 0. 0. 0. 0. 0. 0. 0. 0. 0.]\n",
            " [0. 0. 0. 0. 0. 0. 0. 0. 0. 0. 0. 0. 0. 0. 0. 0. 0. 0. 0. 0. 0. 0. 0. 0.\n",
            "  0. 0. 0. 0. 0. 0. 0. 0. 0. 0. 0. 0. 0. 0. 0. 0.]\n",
            " [0. 0. 0. 0. 0. 0. 0. 0. 0. 0. 0. 0. 0. 0. 0. 0. 0. 0. 0. 0. 0. 0. 0. 0.\n",
            "  0. 0. 0. 0. 0. 0. 0. 0. 0. 0. 0. 0. 0. 0. 0. 0.]\n",
            " [0. 0. 0. 0. 0. 0. 0. 0. 0. 0. 0. 0. 0. 0. 0. 0. 0. 0. 0. 0. 0. 0. 0. 0.\n",
            "  0. 0. 0. 0. 0. 0. 0. 0. 0. 0. 0. 0. 0. 0. 0. 0.]\n",
            " [0. 0. 0. 0. 0. 0. 0. 0. 0. 0. 0. 0. 0. 0. 0. 0. 0. 0. 0. 0. 0. 0. 0. 0.\n",
            "  0. 0. 0. 0. 0. 0. 0. 0. 0. 0. 0. 0. 0. 0. 0. 0.]\n",
            " [0. 0. 0. 0. 0. 0. 0. 0. 0. 0. 0. 0. 0. 0. 0. 0. 0. 0. 0. 0. 0. 0. 0. 0.\n",
            "  0. 0. 0. 0. 0. 0. 0. 0. 0. 0. 0. 0. 0. 0. 0. 0.]\n",
            " [0. 0. 0. 0. 0. 0. 0. 0. 0. 0. 0. 0. 0. 0. 0. 0. 0. 0. 0. 0. 0. 0. 0. 0.\n",
            "  0. 0. 0. 0. 0. 0. 0. 0. 0. 0. 0. 0. 0. 0. 0. 0.]\n",
            " [0. 0. 0. 0. 0. 0. 0. 0. 0. 0. 0. 0. 0. 0. 0. 0. 0. 0. 0. 0. 0. 0. 0. 0.\n",
            "  0. 0. 0. 0. 0. 0. 0. 0. 0. 0. 0. 0. 0. 0. 0. 0.]\n",
            " [0. 0. 0. 0. 0. 0. 0. 0. 0. 0. 0. 0. 0. 0. 0. 0. 0. 0. 0. 0. 0. 0. 0. 0.\n",
            "  0. 0. 0. 0. 0. 0. 0. 0. 0. 0. 0. 0. 0. 0. 0. 0.]\n",
            " [0. 0. 0. 0. 0. 0. 0. 0. 0. 0. 0. 0. 0. 0. 0. 0. 0. 0. 0. 0. 0. 0. 0. 0.\n",
            "  0. 0. 0. 0. 0. 0. 0. 0. 0. 0. 0. 0. 0. 0. 0. 0.]\n",
            " [0. 0. 0. 0. 0. 0. 0. 0. 0. 0. 0. 0. 0. 0. 0. 0. 0. 0. 0. 0. 0. 0. 0. 0.\n",
            "  0. 0. 0. 0. 0. 0. 0. 0. 0. 0. 0. 0. 0. 0. 0. 0.]\n",
            " [0. 0. 0. 0. 0. 0. 0. 0. 0. 0. 0. 0. 0. 0. 0. 0. 0. 0. 0. 0. 0. 0. 0. 0.\n",
            "  0. 0. 0. 0. 0. 0. 0. 0. 0. 0. 0. 0. 0. 0. 0. 0.]\n",
            " [0. 0. 0. 0. 0. 0. 0. 0. 0. 0. 0. 0. 0. 0. 0. 0. 0. 0. 0. 0. 0. 0. 0. 0.\n",
            "  0. 0. 0. 0. 0. 0. 0. 0. 0. 0. 0. 0. 0. 0. 0. 0.]\n",
            " [0. 0. 0. 0. 0. 0. 0. 0. 0. 0. 0. 0. 0. 0. 0. 0. 0. 0. 0. 0. 0. 0. 0. 0.\n",
            "  0. 0. 0. 0. 0. 0. 0. 0. 0. 0. 0. 0. 0. 0. 0. 0.]\n",
            " [0. 0. 0. 0. 0. 0. 0. 0. 0. 0. 0. 0. 0. 0. 0. 0. 0. 0. 0. 0. 0. 0. 0. 0.\n",
            "  0. 0. 0. 0. 0. 0. 0. 0. 0. 0. 0. 0. 0. 0. 0. 0.]\n",
            " [0. 0. 0. 0. 0. 0. 0. 0. 0. 0. 0. 0. 0. 0. 0. 0. 0. 0. 0. 0. 0. 0. 0. 0.\n",
            "  0. 0. 0. 0. 0. 0. 0. 0. 0. 0. 0. 0. 0. 0. 0. 0.]\n",
            " [0. 0. 0. 0. 0. 0. 0. 0. 0. 0. 0. 0. 0. 0. 0. 0. 0. 0. 0. 0. 0. 0. 0. 0.\n",
            "  0. 0. 0. 0. 0. 0. 0. 0. 0. 0. 0. 0. 0. 0. 0. 0.]\n",
            " [0. 0. 0. 0. 0. 0. 0. 0. 0. 0. 0. 0. 0. 0. 0. 0. 0. 0. 0. 0. 0. 0. 0. 0.\n",
            "  0. 0. 0. 0. 0. 0. 0. 0. 0. 0. 0. 0. 0. 0. 0. 0.]\n",
            " [0. 0. 0. 0. 0. 0. 0. 0. 0. 0. 0. 0. 0. 0. 0. 0. 0. 0. 0. 0. 0. 0. 0. 0.\n",
            "  0. 0. 0. 0. 0. 0. 0. 0. 0. 0. 0. 0. 0. 0. 0. 0.]]\n"
          ]
        }
      ],
      "source": [
        "#np.set_printoptions(threshold=float(\"inf\")) #print al values of an array\n",
        "z=np.zeros((40,40))\n",
        "print(z)"
      ]
    },
    {
      "cell_type": "markdown",
      "id": "e0e7d741",
      "metadata": {
        "id": "e0e7d741"
      },
      "source": [
        "#### 50. How to find the closest value (to a given scalar) in a vector? (★★☆)"
      ]
    },
    {
      "cell_type": "code",
      "execution_count": null,
      "id": "62cabf6f",
      "metadata": {
        "id": "62cabf6f",
        "colab": {
          "base_uri": "https://localhost:8080/"
        },
        "outputId": "40043a40-e258-4238-f666-4fa7906db110"
      },
      "outputs": [
        {
          "output_type": "stream",
          "name": "stdout",
          "text": [
            "14\n"
          ]
        }
      ],
      "source": [
        "Z = np.arange(100)\n",
        "v = np.random.uniform(0,100)\n",
        "index = (np.abs(Z-v)).argmin()\n",
        "print(Z[index])"
      ]
    },
    {
      "cell_type": "markdown",
      "id": "c5611b9e",
      "metadata": {
        "id": "c5611b9e"
      },
      "source": [
        "#### 51. Create a structured array representing a position (x,y) and a color (r,g,b) (★★☆)"
      ]
    },
    {
      "cell_type": "code",
      "execution_count": null,
      "id": "f622939d",
      "metadata": {
        "id": "f622939d",
        "colab": {
          "base_uri": "https://localhost:8080/"
        },
        "outputId": "a4fc1ffe-7b4f-42c6-c979-b3b0c33847c3"
      },
      "outputs": [
        {
          "output_type": "stream",
          "name": "stdout",
          "text": [
            "[((0., 0.), (0., 0., 0.)) ((0., 0.), (0., 0., 0.))\n",
            " ((0., 0.), (0., 0., 0.)) ((0., 0.), (0., 0., 0.))\n",
            " ((0., 0.), (0., 0., 0.)) ((0., 0.), (0., 0., 0.))\n",
            " ((0., 0.), (0., 0., 0.)) ((0., 0.), (0., 0., 0.))\n",
            " ((0., 0.), (0., 0., 0.)) ((0., 0.), (0., 0., 0.))]\n"
          ]
        },
        {
          "output_type": "stream",
          "name": "stderr",
          "text": [
            "/usr/local/lib/python3.7/dist-packages/ipykernel_launcher.py:5: FutureWarning: Passing (type, 1) or '1type' as a synonym of type is deprecated; in a future version of numpy, it will be understood as (type, (1,)) / '(1,)type'.\n",
            "  \"\"\"\n"
          ]
        }
      ],
      "source": [
        "Z = np.zeros(10, [ ('position', [ ('x', float, 1),\n",
        "                                  ('y', float, 1)]),\n",
        "                   ('color',    [ ('r', float, 1),\n",
        "                                  ('g', float, 1),\n",
        "                                  ('b', float, 1)])])\n",
        "print(Z)"
      ]
    },
    {
      "cell_type": "markdown",
      "id": "d22b8574",
      "metadata": {
        "id": "d22b8574"
      },
      "source": [
        "#### 52. Consider a random vector with shape (100,2) representing coordinates, find point by point distances (★★☆)"
      ]
    },
    {
      "cell_type": "code",
      "execution_count": null,
      "id": "d5c9cdf8",
      "metadata": {
        "id": "d5c9cdf8",
        "colab": {
          "base_uri": "https://localhost:8080/"
        },
        "outputId": "cf4d53b5-16c2-479c-e89d-301c4245888a"
      },
      "outputs": [
        {
          "output_type": "stream",
          "name": "stdout",
          "text": [
            "[[0.         0.19553139 0.94276025 0.54677705 0.81305753 0.61640933\n",
            "  0.90908681 0.6560289  0.3322248  0.47000262]\n",
            " [0.19553139 0.         0.76215253 0.36213408 0.61752715 0.54591696\n",
            "  0.71653478 0.55524736 0.35194736 0.38278569]\n",
            " [0.94276025 0.76215253 0.         0.59137804 0.33017983 0.61480537\n",
            "  0.18461985 0.51095902 0.82190049 0.59904504]\n",
            " [0.54677705 0.36213408 0.59137804 0.         0.3222912  0.71496171\n",
            "  0.46888032 0.66853739 0.66176324 0.57000059]\n",
            " [0.81305753 0.61752715 0.33017983 0.3222912  0.         0.73410843\n",
            "  0.16219262 0.65001826 0.81675235 0.64189049]\n",
            " [0.61640933 0.54591696 0.61480537 0.71496171 0.73410843 0.\n",
            "  0.71023365 0.1050082  0.32077894 0.16403924]\n",
            " [0.90908681 0.71653478 0.18461985 0.46888032 0.16219262 0.71023365\n",
            "  0.         0.61374623 0.85535916 0.65253882]\n",
            " [0.6560289  0.55524736 0.51095902 0.66853739 0.65001826 0.1050082\n",
            "  0.61374623 0.         0.39343061 0.18622553]\n",
            " [0.3322248  0.35194736 0.82190049 0.66176324 0.81675235 0.32077894\n",
            "  0.85535916 0.39343061 0.         0.22922188]\n",
            " [0.47000262 0.38278569 0.59904504 0.57000059 0.64189049 0.16403924\n",
            "  0.65253882 0.18622553 0.22922188 0.        ]]\n"
          ]
        }
      ],
      "source": [
        "Z = np.random.random((10,2))\n",
        "X,Y = np.atleast_2d(Z[:,0], Z[:,1])\n",
        "D = np.sqrt( (X-X.T)**2 + (Y-Y.T)**2)\n",
        "print(D)"
      ]
    },
    {
      "cell_type": "markdown",
      "id": "f5c164f2",
      "metadata": {
        "id": "f5c164f2"
      },
      "source": [
        "#### 53. How to convert a float (32 bits) array into an integer (32 bits) in place?"
      ]
    },
    {
      "cell_type": "code",
      "execution_count": null,
      "id": "ea262de8",
      "metadata": {
        "id": "ea262de8",
        "colab": {
          "base_uri": "https://localhost:8080/"
        },
        "outputId": "c7a86959-2fa8-47e4-d4c9-8bdb28781fe6"
      },
      "outputs": [
        {
          "output_type": "stream",
          "name": "stdout",
          "text": [
            "[77 45 77 95 98 85  7  3 48 24]\n"
          ]
        }
      ],
      "source": [
        "Z = (np.random.rand(10)*100).astype(np.float32)\n",
        "Y = Z.view(np.int32)\n",
        "Y[:] = Z\n",
        "print(Y)"
      ]
    },
    {
      "cell_type": "markdown",
      "id": "a8b7e6f5",
      "metadata": {
        "id": "a8b7e6f5"
      },
      "source": [
        "#### 54. How to read the following file? (★★☆)\n",
        "```\n",
        "1, 2, 3, 4, 5\n",
        "6,  ,  , 7, 8\n",
        " ,  , 9,10,11\n",
        "```"
      ]
    },
    {
      "cell_type": "code",
      "execution_count": null,
      "id": "bde0538a",
      "metadata": {
        "id": "bde0538a",
        "colab": {
          "base_uri": "https://localhost:8080/"
        },
        "outputId": "ba398215-6118-4a16-a4c1-7b0b0b19a6cc"
      },
      "outputs": [
        {
          "output_type": "stream",
          "name": "stdout",
          "text": [
            "[[ 1  2  3  4  5]\n",
            " [ 6 -1 -1  7  8]\n",
            " [-1 -1  9 10 11]]\n"
          ]
        }
      ],
      "source": [
        "from io import StringIO\n",
        "s = StringIO('''1, 2, 3, 4, 5\n",
        "                6,  ,  , 7, 8\n",
        "                 ,  , 9,10,11\n",
        "''')\n",
        "z=np.genfromtxt(s,delimiter=\",\",dtype=int)\n",
        "print(z)"
      ]
    },
    {
      "cell_type": "markdown",
      "id": "c6b32834",
      "metadata": {
        "id": "c6b32834"
      },
      "source": [
        "#### 55. What is the equivalent of enumerate for numpy arrays? (★★☆)"
      ]
    },
    {
      "cell_type": "code",
      "execution_count": null,
      "id": "ab02472a",
      "metadata": {
        "id": "ab02472a",
        "colab": {
          "base_uri": "https://localhost:8080/"
        },
        "outputId": "a58ab60c-76fe-4d5c-add8-4e1ced026ffc"
      },
      "outputs": [
        {
          "output_type": "stream",
          "name": "stdout",
          "text": [
            "(0, 0) 0\n",
            "(0, 1) 1\n",
            "(0, 2) 2\n",
            "(1, 0) 3\n",
            "(1, 1) 4\n",
            "(1, 2) 5\n",
            "(2, 0) 6\n",
            "(2, 1) 7\n",
            "(2, 2) 8\n",
            "(0, 0) 0\n",
            "(0, 1) 1\n",
            "(0, 2) 2\n",
            "(1, 0) 3\n",
            "(1, 1) 4\n",
            "(1, 2) 5\n",
            "(2, 0) 6\n",
            "(2, 1) 7\n",
            "(2, 2) 8\n"
          ]
        }
      ],
      "source": [
        "Z = np.arange(9).reshape(3,3)\n",
        "for index, value in np.ndenumerate(Z):\n",
        "    print(index, value)\n",
        "for index in np.ndindex(Z.shape):\n",
        "    print(index, Z[index])"
      ]
    },
    {
      "cell_type": "markdown",
      "id": "a2121a05",
      "metadata": {
        "id": "a2121a05"
      },
      "source": [
        "#### 56. Generate a generic 2D Gaussian-like array (★★☆)"
      ]
    },
    {
      "cell_type": "code",
      "execution_count": null,
      "id": "18507102",
      "metadata": {
        "id": "18507102",
        "colab": {
          "base_uri": "https://localhost:8080/"
        },
        "outputId": "f3eedbd0-c5dd-45a1-ac36-e1abb043d0d5"
      },
      "outputs": [
        {
          "output_type": "stream",
          "name": "stdout",
          "text": [
            "[[0.36787944 0.44822088 0.51979489 0.57375342 0.60279818 0.60279818\n",
            "  0.57375342 0.51979489 0.44822088 0.36787944]\n",
            " [0.44822088 0.54610814 0.63331324 0.69905581 0.73444367 0.73444367\n",
            "  0.69905581 0.63331324 0.54610814 0.44822088]\n",
            " [0.51979489 0.63331324 0.73444367 0.81068432 0.85172308 0.85172308\n",
            "  0.81068432 0.73444367 0.63331324 0.51979489]\n",
            " [0.57375342 0.69905581 0.81068432 0.89483932 0.9401382  0.9401382\n",
            "  0.89483932 0.81068432 0.69905581 0.57375342]\n",
            " [0.60279818 0.73444367 0.85172308 0.9401382  0.98773022 0.98773022\n",
            "  0.9401382  0.85172308 0.73444367 0.60279818]\n",
            " [0.60279818 0.73444367 0.85172308 0.9401382  0.98773022 0.98773022\n",
            "  0.9401382  0.85172308 0.73444367 0.60279818]\n",
            " [0.57375342 0.69905581 0.81068432 0.89483932 0.9401382  0.9401382\n",
            "  0.89483932 0.81068432 0.69905581 0.57375342]\n",
            " [0.51979489 0.63331324 0.73444367 0.81068432 0.85172308 0.85172308\n",
            "  0.81068432 0.73444367 0.63331324 0.51979489]\n",
            " [0.44822088 0.54610814 0.63331324 0.69905581 0.73444367 0.73444367\n",
            "  0.69905581 0.63331324 0.54610814 0.44822088]\n",
            " [0.36787944 0.44822088 0.51979489 0.57375342 0.60279818 0.60279818\n",
            "  0.57375342 0.51979489 0.44822088 0.36787944]]\n"
          ]
        }
      ],
      "source": [
        "X, Y = np.meshgrid(np.linspace(-1,1,10), np.linspace(-1,1,10))\n",
        "D = np.sqrt(X*X+Y*Y)\n",
        "sigma, mu = 1.0, 0.0\n",
        "G = np.exp(-( (D-mu)**2 / ( 2.0 * sigma**2 ) ) )\n",
        "print(G)"
      ]
    },
    {
      "cell_type": "markdown",
      "id": "97055efa",
      "metadata": {
        "id": "97055efa"
      },
      "source": [
        "#### 57. How to randomly place p elements in a 2D array? (★★☆)"
      ]
    },
    {
      "cell_type": "code",
      "execution_count": null,
      "id": "292e842f",
      "metadata": {
        "id": "292e842f",
        "colab": {
          "base_uri": "https://localhost:8080/"
        },
        "outputId": "d6222ac8-b4dd-44a7-878f-210b4cbad256"
      },
      "outputs": [
        {
          "output_type": "stream",
          "name": "stdout",
          "text": [
            "[[0. 0. 0. 0. 0. 0. 0. 0. 0. 0.]\n",
            " [0. 0. 0. 0. 0. 0. 0. 0. 0. 1.]\n",
            " [0. 0. 0. 0. 0. 0. 0. 0. 0. 0.]\n",
            " [0. 1. 0. 0. 0. 0. 0. 0. 0. 0.]\n",
            " [0. 0. 0. 0. 0. 0. 0. 0. 0. 0.]\n",
            " [0. 0. 0. 0. 0. 0. 0. 0. 0. 0.]\n",
            " [0. 0. 0. 0. 0. 0. 0. 0. 0. 0.]\n",
            " [0. 0. 0. 0. 0. 0. 0. 0. 0. 0.]\n",
            " [0. 0. 0. 1. 0. 0. 0. 0. 0. 0.]\n",
            " [0. 0. 0. 0. 0. 0. 0. 0. 0. 0.]]\n"
          ]
        }
      ],
      "source": [
        "n = 10\n",
        "p = 3\n",
        "Z = np.zeros((n,n))\n",
        "np.put(Z, np.random.choice(range(n*n), p, replace=False),1)\n",
        "print(Z)"
      ]
    },
    {
      "cell_type": "markdown",
      "id": "bfd2513c",
      "metadata": {
        "id": "bfd2513c"
      },
      "source": [
        "#### 58. Subtract the mean of each row of a matrix (★★☆)"
      ]
    },
    {
      "cell_type": "code",
      "execution_count": null,
      "id": "f306ab72",
      "metadata": {
        "id": "f306ab72",
        "colab": {
          "base_uri": "https://localhost:8080/"
        },
        "outputId": "3f5ea82a-3e2e-4efc-f217-9e5cdb7b76da"
      },
      "outputs": [
        {
          "output_type": "stream",
          "name": "stdout",
          "text": [
            "[[ 4.99153665e-01 -3.04740326e-01  3.41215276e-01  3.17522441e-01\n",
            "   6.88804504e-02 -2.71162641e-01 -3.32676779e-01  6.49220096e-02\n",
            "  -3.83465956e-01  3.51859434e-04]\n",
            " [ 2.28513802e-01 -1.72565050e-01  1.00272285e-01 -7.09023122e-02\n",
            "  -5.96174654e-02  3.39634686e-01 -6.87868730e-02  3.17167361e-01\n",
            "  -3.51403439e-01 -2.62312994e-01]\n",
            " [ 3.12076417e-01 -4.43161616e-01 -8.53208419e-02 -6.48233731e-02\n",
            "  -1.01942106e-01  1.97823068e-01  2.73365761e-01  4.19879218e-01\n",
            "  -6.46278414e-02 -4.43268685e-01]\n",
            " [-4.38584943e-01 -1.66309292e-01  4.51298449e-01  2.14777430e-01\n",
            "  -1.89256491e-01 -3.19741248e-01  6.08893514e-02 -9.53292765e-02\n",
            "   4.37226625e-01  4.50293947e-02]\n",
            " [ 1.90410550e-01 -3.04544539e-01  1.45856106e-01  5.92675222e-04\n",
            "  -2.20842182e-01 -4.35698941e-01  1.88914022e-01  2.95776134e-01\n",
            "  -7.21804125e-02  2.11716588e-01]]\n"
          ]
        }
      ],
      "source": [
        "X = np.random.rand(5, 10)\n",
        "\n",
        "# Recent versions of numpy\n",
        "Y = X - X.mean(axis=1, keepdims=True)\n",
        "\n",
        "# Older versions of numpy\n",
        "Y = X - X.mean(axis=1).reshape(-1, 1)\n",
        "\n",
        "print(Y)"
      ]
    },
    {
      "cell_type": "markdown",
      "id": "da9f2f9b",
      "metadata": {
        "id": "da9f2f9b"
      },
      "source": [
        "#### 59. How to sort an array by the nth column? (★★☆)"
      ]
    },
    {
      "cell_type": "code",
      "execution_count": null,
      "id": "68cde57f",
      "metadata": {
        "id": "68cde57f",
        "colab": {
          "base_uri": "https://localhost:8080/"
        },
        "outputId": "f3cdfefd-5807-47a9-e2ec-c1c5f1dd96a9"
      },
      "outputs": [
        {
          "output_type": "stream",
          "name": "stdout",
          "text": [
            "[[3 6 4]\n",
            " [4 5 1]\n",
            " [9 9 4]]\n",
            "[[4 5 1]\n",
            " [3 6 4]\n",
            " [9 9 4]]\n"
          ]
        }
      ],
      "source": [
        "Z = np.random.randint(0,10,(3,3))\n",
        "print(Z)\n",
        "print(Z[Z[:,1].argsort()])"
      ]
    },
    {
      "cell_type": "markdown",
      "id": "5b7be45c",
      "metadata": {
        "id": "5b7be45c"
      },
      "source": [
        "#### 60. How to tell if a given 2D array has null columns? (★★☆)"
      ]
    },
    {
      "cell_type": "code",
      "execution_count": null,
      "id": "7dbe2c27",
      "metadata": {
        "id": "7dbe2c27",
        "colab": {
          "base_uri": "https://localhost:8080/"
        },
        "outputId": "50188719-3a43-4c1a-a5cb-493344756672"
      },
      "outputs": [
        {
          "output_type": "stream",
          "name": "stdout",
          "text": [
            "True\n"
          ]
        }
      ],
      "source": [
        "Z = np.random.randint(0,3,(3,10))\n",
        "print((~Z.any(axis=0)).any())"
      ]
    },
    {
      "cell_type": "markdown",
      "id": "7c18c02e",
      "metadata": {
        "id": "7c18c02e"
      },
      "source": [
        "#### 61. Find the nearest value from a given value in an array (★★☆)"
      ]
    },
    {
      "cell_type": "code",
      "execution_count": null,
      "id": "b78ae9c4",
      "metadata": {
        "id": "b78ae9c4",
        "colab": {
          "base_uri": "https://localhost:8080/"
        },
        "outputId": "fd91fdc2-ef06-4ea3-cefd-148cdb2bd773"
      },
      "outputs": [
        {
          "output_type": "stream",
          "name": "stdout",
          "text": [
            "0.4606542184159146\n"
          ]
        }
      ],
      "source": [
        "Z=np.random.uniform(0,10,100)\n",
        "z = 0.5\n",
        "n = Z.flat[np.abs(Z-z).argmin()]\n",
        "print(n)"
      ]
    },
    {
      "cell_type": "markdown",
      "id": "8174ba2c",
      "metadata": {
        "id": "8174ba2c"
      },
      "source": [
        "#### 62. Considering two arrays with shape (1,3) and (3,1), how to compute their sum using an iterator? (★★☆)"
      ]
    },
    {
      "cell_type": "code",
      "execution_count": null,
      "id": "8a18fe57",
      "metadata": {
        "id": "8a18fe57",
        "colab": {
          "base_uri": "https://localhost:8080/"
        },
        "outputId": "1e289a01-487f-4b4f-c273-07dc3a3dc673"
      },
      "outputs": [
        {
          "output_type": "stream",
          "name": "stdout",
          "text": [
            "[[0 1 2]\n",
            " [1 2 3]\n",
            " [2 3 4]]\n"
          ]
        }
      ],
      "source": [
        "a = np.arange(3).reshape(1,3)\n",
        "b = np.arange(3).reshape(3,1)\n",
        "it = np.nditer([a,b,None])\n",
        "for x,y,z in it: z[...] = x + y\n",
        "print(it.operands[2])"
      ]
    },
    {
      "cell_type": "markdown",
      "id": "9189bd7c",
      "metadata": {
        "id": "9189bd7c"
      },
      "source": [
        "#### 63. Create an array class that has a name attribute (★★☆)"
      ]
    },
    {
      "cell_type": "code",
      "execution_count": null,
      "id": "1c01ed42",
      "metadata": {
        "id": "1c01ed42",
        "colab": {
          "base_uri": "https://localhost:8080/"
        },
        "outputId": "3d71f4dc-f06b-461f-a1b0-08b0d28a9e25"
      },
      "outputs": [
        {
          "output_type": "stream",
          "name": "stdout",
          "text": [
            "arange_10\n"
          ]
        }
      ],
      "source": [
        "class NamedArray(np.ndarray):\n",
        "  def __new__(cls,array,name=\"no name\"):\n",
        "    obj = np.asarray(array).view(cls)\n",
        "    obj.name = name\n",
        "    return obj\n",
        "  \n",
        "  def __array_finalize__(self,obj):\n",
        "    if obj is None: return \n",
        "    self.info  = getattr(obj,\"name\",\"no name\")\n",
        "\n",
        "Z = NamedArray(np.arange(10),\"arange_10\")\n",
        "print(Z.name)"
      ]
    },
    {
      "cell_type": "markdown",
      "id": "f30162d2",
      "metadata": {
        "id": "f30162d2"
      },
      "source": [
        "#### 64. Consider a given vector, how to add 1 to each element indexed by a second vector (be careful with repeated indices)? (★★★)"
      ]
    },
    {
      "cell_type": "code",
      "execution_count": null,
      "id": "093ba36f",
      "metadata": {
        "id": "093ba36f",
        "colab": {
          "base_uri": "https://localhost:8080/"
        },
        "outputId": "fc94b24e-0d58-4532-acb6-b49fac673798"
      },
      "outputs": [
        {
          "output_type": "stream",
          "name": "stdout",
          "text": [
            "[5. 3. 3. 4. 4. 2. 3. 2. 2. 2.]\n"
          ]
        }
      ],
      "source": [
        "Z=np.ones(10)\n",
        "I = np.random.randint(0,len(Z),20)\n",
        "Z += np.bincount(I,minlength=len(Z))\n",
        "print(Z)"
      ]
    },
    {
      "cell_type": "markdown",
      "id": "f5b1c584",
      "metadata": {
        "id": "f5b1c584"
      },
      "source": [
        "#### 65. How to accumulate elements of a vector (X) to an array (F) based on an index list (I)? (★★★)"
      ]
    },
    {
      "cell_type": "code",
      "execution_count": null,
      "id": "c9d92a75",
      "metadata": {
        "id": "c9d92a75",
        "colab": {
          "base_uri": "https://localhost:8080/"
        },
        "outputId": "eb9a8e33-2807-48a0-d825-e3de645e72bd"
      },
      "outputs": [
        {
          "output_type": "stream",
          "name": "stdout",
          "text": [
            "[0. 7. 2. 4. 0. 5. 0. 0. 0. 3.]\n"
          ]
        }
      ],
      "source": [
        "x = [1,2,3,4,5,6]\n",
        "i = [1,2,9,3,5,1]\n",
        "f = np.bincount(i,x)\n",
        "print(f)"
      ]
    },
    {
      "cell_type": "markdown",
      "id": "994c452d",
      "metadata": {
        "id": "994c452d"
      },
      "source": [
        "#### 66. Considering a (w,h,3) image of (dtype=ubyte), compute the number of unique colors (★★☆)"
      ]
    },
    {
      "cell_type": "code",
      "execution_count": null,
      "id": "269cdaea",
      "metadata": {
        "id": "269cdaea",
        "colab": {
          "base_uri": "https://localhost:8080/"
        },
        "outputId": "1fef8ba7-a1eb-45ad-a26e-93a20b05df6c"
      },
      "outputs": [
        {
          "output_type": "stream",
          "name": "stdout",
          "text": [
            "64\n"
          ]
        }
      ],
      "source": [
        "w,h = 256,256\n",
        "i = np.random.randint(0,4,(h,w,3)).astype(np.ubyte)\n",
        "colors = np.unique(i.reshape(-1,3),axis=0)\n",
        "n = len(colors)\n",
        "print(n)"
      ]
    },
    {
      "cell_type": "markdown",
      "id": "4bddeb31",
      "metadata": {
        "id": "4bddeb31"
      },
      "source": [
        "#### 67. Considering a four dimensions array, how to get sum over the last two axis at once? (★★★)"
      ]
    },
    {
      "cell_type": "code",
      "execution_count": null,
      "id": "32af15f5",
      "metadata": {
        "id": "32af15f5",
        "colab": {
          "base_uri": "https://localhost:8080/"
        },
        "outputId": "fb28d506-2d0c-47f1-d7b7-b3e82de6025b"
      },
      "outputs": [
        {
          "output_type": "stream",
          "name": "stdout",
          "text": [
            "[[68 69 54 57]\n",
            " [47 65 53 40]\n",
            " [61 63 53 51]] \n",
            "\n",
            "[[68 69 54 57]\n",
            " [47 65 53 40]\n",
            " [61 63 53 51]]\n"
          ]
        }
      ],
      "source": [
        "A = np.random.randint(0,10,(3,4,3,4))\n",
        "sum = A.sum(axis=(-2,-1))\n",
        "print(sum,\"\\n\")\n",
        "sum = A.reshape(A.shape[:-2]+(-1,)).sum(axis=-1)\n",
        "print(sum)"
      ]
    },
    {
      "cell_type": "markdown",
      "id": "c4cf083c",
      "metadata": {
        "id": "c4cf083c"
      },
      "source": [
        "#### 68. Considering a one-dimensional vector D, how to compute means of subsets of D using a vector S of same size describing subset  indices? (★★★)"
      ]
    },
    {
      "cell_type": "code",
      "execution_count": null,
      "id": "9600a2dd",
      "metadata": {
        "id": "9600a2dd",
        "colab": {
          "base_uri": "https://localhost:8080/"
        },
        "outputId": "83bc7158-b4c7-402f-ac8a-8dd591ee49aa"
      },
      "outputs": [
        {
          "output_type": "stream",
          "name": "stdout",
          "text": [
            "D_counts are:[11 17 12  6 10  9 11 12  6  6]\n",
            "D_sums are:[5.17699705 8.40384031 7.03053326 2.52413598 5.2879457  3.61783663\n",
            " 5.18953869 6.43687896 2.02164688 3.26381806]\n",
            "b_means are:[0.4706361  0.49434355 0.58587777 0.42068933 0.52879457 0.40198185\n",
            " 0.47177624 0.53640658 0.33694115 0.54396968]\n",
            "\n",
            "0    0.470636\n",
            "1    0.494344\n",
            "2    0.585878\n",
            "3    0.420689\n",
            "4    0.528795\n",
            "5    0.401982\n",
            "6    0.471776\n",
            "7    0.536407\n",
            "8    0.336941\n",
            "9    0.543970\n",
            "dtype: float64\n"
          ]
        }
      ],
      "source": [
        "D=np.random.uniform(0,1,100) #uniform gives random floating numbers\n",
        "S=np.random.randint(0,10,100) #randint gives random integers values\n",
        "D_sum= np.bincount(S,weights=D)\n",
        "D_counts = np.bincount(S)\n",
        "print(f\"D_counts are:{D_counts}\")\n",
        "print(f\"D_sums are:{D_sum}\")\n",
        "b_means = D_sum/D_counts\n",
        "print(f\"b_means are:{b_means}\\n\")\n",
        "\n",
        "\n",
        "# Pandas solution as a reference due to more intuitive code\n",
        "import pandas as pd\n",
        "print(pd.Series(D).groupby(S).mean())"
      ]
    },
    {
      "cell_type": "markdown",
      "id": "a5e316db",
      "metadata": {
        "id": "a5e316db"
      },
      "source": [
        "#### 69. How to get the diagonal of a dot product? (★★★)"
      ]
    },
    {
      "cell_type": "code",
      "execution_count": null,
      "id": "94735dbd",
      "metadata": {
        "id": "94735dbd",
        "colab": {
          "base_uri": "https://localhost:8080/"
        },
        "outputId": "e6030b59-ee44-4f8e-8f9a-3fa4290e2c56"
      },
      "outputs": [
        {
          "output_type": "execute_result",
          "data": {
            "text/plain": [
              "array([1.01739356, 1.15620085, 0.76056056, 1.00930766, 1.97566796])"
            ]
          },
          "metadata": {},
          "execution_count": 55
        }
      ],
      "source": [
        "x=np.random.uniform(0,1,(5,5))\n",
        "y=np.random.uniform(0,1,(5,5))\n",
        "#slow version\n",
        "np.diag(np.dot(x,y))\n",
        "#fast version\n",
        "np.sum(x*y.T,axis=1)\n",
        "#faster version\n",
        "np.einsum(\"ij,ji->i\", x,y)"
      ]
    },
    {
      "cell_type": "markdown",
      "id": "de727a7b",
      "metadata": {
        "id": "de727a7b"
      },
      "source": [
        "#### 70. Consider the vector [1, 2, 3, 4, 5], how to build a new vector with 3 consecutive zeros interleaved between each value? (★★★)"
      ]
    },
    {
      "cell_type": "code",
      "execution_count": null,
      "id": "982be812",
      "metadata": {
        "id": "982be812",
        "colab": {
          "base_uri": "https://localhost:8080/"
        },
        "outputId": "ae8da696-9179-4fbf-84b6-ff375597c2e5"
      },
      "outputs": [
        {
          "output_type": "stream",
          "name": "stdout",
          "text": [
            "[1. 0. 0. 0. 2. 0. 0. 0. 3. 0. 0. 0. 4. 0. 0. 0. 5.]\n"
          ]
        }
      ],
      "source": [
        "Z=np.array([1,2,3,4,5])\n",
        "nz = 3\n",
        "Z0 = np.zeros(len(Z)+(len(Z)-1)*(nz))\n",
        "Z0[::nz+1]=Z\n",
        "print(Z0)"
      ]
    },
    {
      "cell_type": "markdown",
      "id": "a9a73d6b",
      "metadata": {
        "id": "a9a73d6b"
      },
      "source": [
        "#### 71. Consider an array of dimension (5,5,3), how to mulitply it by an array with dimensions (5,5)? (★★★)"
      ]
    },
    {
      "cell_type": "code",
      "execution_count": null,
      "id": "282a90cc",
      "metadata": {
        "id": "282a90cc",
        "colab": {
          "base_uri": "https://localhost:8080/"
        },
        "outputId": "9fc6a382-74ff-4b54-a558-8faa4cdf759e"
      },
      "outputs": [
        {
          "output_type": "stream",
          "name": "stdout",
          "text": [
            "[[[2. 2. 2.]\n",
            "  [2. 2. 2.]\n",
            "  [2. 2. 2.]\n",
            "  [2. 2. 2.]\n",
            "  [2. 2. 2.]]\n",
            "\n",
            " [[2. 2. 2.]\n",
            "  [2. 2. 2.]\n",
            "  [2. 2. 2.]\n",
            "  [2. 2. 2.]\n",
            "  [2. 2. 2.]]\n",
            "\n",
            " [[2. 2. 2.]\n",
            "  [2. 2. 2.]\n",
            "  [2. 2. 2.]\n",
            "  [2. 2. 2.]\n",
            "  [2. 2. 2.]]\n",
            "\n",
            " [[2. 2. 2.]\n",
            "  [2. 2. 2.]\n",
            "  [2. 2. 2.]\n",
            "  [2. 2. 2.]\n",
            "  [2. 2. 2.]]\n",
            "\n",
            " [[2. 2. 2.]\n",
            "  [2. 2. 2.]\n",
            "  [2. 2. 2.]\n",
            "  [2. 2. 2.]\n",
            "  [2. 2. 2.]]]\n"
          ]
        }
      ],
      "source": [
        "A = np.ones((5,5,3))\n",
        "B = 2*np.ones((5,5))\n",
        "print(A * B[:,:,None])"
      ]
    },
    {
      "cell_type": "markdown",
      "id": "a951c78f",
      "metadata": {
        "id": "a951c78f"
      },
      "source": [
        "#### 72. How to swap two rows of an array? (★★★)"
      ]
    },
    {
      "cell_type": "code",
      "execution_count": 18,
      "id": "e29b3fde",
      "metadata": {
        "id": "e29b3fde",
        "colab": {
          "base_uri": "https://localhost:8080/"
        },
        "outputId": "1a6a90c6-f816-453a-bb51-9e74b4d52567"
      },
      "outputs": [
        {
          "output_type": "stream",
          "name": "stdout",
          "text": [
            "[[ 0  1  2  3  4]\n",
            " [ 5  6  7  8  9]\n",
            " [10 11 12 13 14]\n",
            " [15 16 17 18 19]\n",
            " [20 21 22 23 24]]\n",
            "Swapping two rows of an array:\n",
            "[[ 5  6  7  8  9]\n",
            " [ 0  1  2  3  4]\n",
            " [10 11 12 13 14]\n",
            " [15 16 17 18 19]\n",
            " [20 21 22 23 24]]\n"
          ]
        }
      ],
      "source": [
        "A=np.arange(25).reshape(5,5)\n",
        "print(A)\n",
        "A[[0,1]]=A[[1,0]]\n",
        "print(\"Swapping two rows of an array:\")\n",
        "print(A)"
      ]
    },
    {
      "cell_type": "markdown",
      "id": "43b639e8",
      "metadata": {
        "id": "43b639e8"
      },
      "source": [
        "#### 73. Consider a set of 10 triplets describing 10 triangles (with shared vertices), find the set of unique line segments composing all the  triangles (★★★)"
      ]
    },
    {
      "cell_type": "code",
      "execution_count": 20,
      "id": "147e1034",
      "metadata": {
        "id": "147e1034",
        "colab": {
          "base_uri": "https://localhost:8080/"
        },
        "outputId": "00c0de10-83d9-40e4-d357-19e9147f0834"
      },
      "outputs": [
        {
          "output_type": "stream",
          "name": "stdout",
          "text": [
            "[( 8, 77) ( 8, 85) (11, 18) (11, 43) (11, 60) (11, 93) (18, 60) (21, 36)\n",
            " (21, 47) (21, 48) (21, 60) (29, 31) (29, 60) (31, 60) (35, 59) (35, 70)\n",
            " (36, 47) (40, 52) (40, 60) (43, 93) (46, 61) (46, 95) (48, 60) (52, 60)\n",
            " (59, 70) (61, 95) (69, 70) (69, 90) (70, 90) (77, 85)]\n"
          ]
        }
      ],
      "source": [
        "faces=np.random.randint(0,100,(10,3))\n",
        "F = np.roll(faces.repeat(2,axis=1),-1,axis=1)\n",
        "F = F.reshape(len(F)*3,2)\n",
        "F = np.sort(F,axis=1)\n",
        "G = F.view( dtype=[('p0',F.dtype),('p1',F.dtype)] )\n",
        "G = np.unique(G)\n",
        "print(G)"
      ]
    },
    {
      "cell_type": "markdown",
      "id": "d41de585",
      "metadata": {
        "id": "d41de585"
      },
      "source": [
        "#### 74. Given a sorted array C that corresponds to a bincount, how to produce an array A such that np.bincount(A) == C? (★★★)"
      ]
    },
    {
      "cell_type": "code",
      "execution_count": 23,
      "id": "5f5d6e36",
      "metadata": {
        "id": "5f5d6e36",
        "colab": {
          "base_uri": "https://localhost:8080/"
        },
        "outputId": "2451fd57-c4b2-42af-d35c-34f2a6da1795"
      },
      "outputs": [
        {
          "output_type": "stream",
          "name": "stdout",
          "text": [
            "[1 1 2 3 4 4 6]\n"
          ]
        }
      ],
      "source": [
        "C=np.bincount([1,1,2,3,4,4,6])\n",
        "A=np.repeat(np.arange(len(C)), C)\n",
        "print(A)"
      ]
    },
    {
      "cell_type": "markdown",
      "id": "b50adf7c",
      "metadata": {
        "id": "b50adf7c"
      },
      "source": [
        "#### 75. How to compute averages using a sliding window over an array? (★★★)"
      ]
    },
    {
      "cell_type": "code",
      "execution_count": 24,
      "id": "e631a9d2",
      "metadata": {
        "id": "e631a9d2",
        "colab": {
          "base_uri": "https://localhost:8080/"
        },
        "outputId": "4bb0b74d-53e8-4198-e71e-b536abf23d93"
      },
      "outputs": [
        {
          "output_type": "stream",
          "name": "stdout",
          "text": [
            "[ 1.  2.  3.  4.  5.  6.  7.  8.  9. 10. 11. 12. 13. 14. 15. 16. 17. 18.]\n"
          ]
        }
      ],
      "source": [
        "def moving_average(a, n=3) :\n",
        "    ret = np.cumsum(a, dtype=float)\n",
        "    ret[n:] = ret[n:] - ret[:-n]\n",
        "    return ret[n - 1:] / n\n",
        "Z = np.arange(20)\n",
        "print(moving_average(Z, n=3))"
      ]
    },
    {
      "cell_type": "markdown",
      "id": "1ab4c50d",
      "metadata": {
        "id": "1ab4c50d"
      },
      "source": [
        "#### 76. Consider a one-dimensional array Z, build a two-dimensional array whose first row is (Z[0],Z[1],Z[2]) and each subsequent row is  shifted by 1 (last row should be (Z[-3],Z[-2],Z[-1]) (★★★)"
      ]
    },
    {
      "cell_type": "code",
      "execution_count": 27,
      "id": "3ccfe2c0",
      "metadata": {
        "id": "3ccfe2c0",
        "colab": {
          "base_uri": "https://localhost:8080/"
        },
        "outputId": "92aaf677-3f88-4fd2-f77b-01f193405ac7"
      },
      "outputs": [
        {
          "output_type": "stream",
          "name": "stdout",
          "text": [
            "[[0 1 2]\n",
            " [1 2 3]\n",
            " [2 3 4]\n",
            " [3 4 5]\n",
            " [4 5 6]\n",
            " [5 6 7]\n",
            " [6 7 8]\n",
            " [7 8 9]]\n",
            "[[0 1 2]\n",
            " [1 2 3]\n",
            " [2 3 4]\n",
            " [3 4 5]\n",
            " [4 5 6]\n",
            " [5 6 7]\n",
            " [6 7 8]\n",
            " [7 8 9]]\n"
          ]
        }
      ],
      "source": [
        "#from numpy.lib.stride_tricks import sliding_window_view\n",
        "\n",
        "#Z = np.arange(20)\n",
        "#print(sliding_window_view(Z, window_shape=3).mean(axis=-1))\n",
        "\n",
        "from numpy.lib import stride_tricks\n",
        "\n",
        "def rolling(a, window):\n",
        "    shape = (a.size - window + 1, window)\n",
        "    strides = (a.strides[0], a.strides[0])\n",
        "    return stride_tricks.as_strided(a, shape=shape, strides=strides)\n",
        "Z = rolling(np.arange(10), 3)\n",
        "print(Z)\n",
        "\n",
        "Z = np.arange(10)\n",
        "print(sliding_window_view(Z, window_shape=3))"
      ]
    },
    {
      "cell_type": "markdown",
      "id": "5b4fe59d",
      "metadata": {
        "id": "5b4fe59d"
      },
      "source": [
        "#### 77. How to negate a boolean, or to change the sign of a float inplace? (★★★)"
      ]
    },
    {
      "cell_type": "code",
      "execution_count": 28,
      "id": "3c2373ff",
      "metadata": {
        "id": "3c2373ff",
        "colab": {
          "base_uri": "https://localhost:8080/"
        },
        "outputId": "1e460a1f-85ce-4eee-969a-b28b28413a7a"
      },
      "outputs": [
        {
          "output_type": "execute_result",
          "data": {
            "text/plain": [
              "array([ 6.07856478e-02,  6.88704908e-01,  1.34045897e-01, -3.35493975e-01,\n",
              "        5.47195746e-02,  2.20045130e-01,  8.06501295e-01,  8.30254398e-01,\n",
              "       -8.30899930e-01,  1.99823396e-01, -1.45532792e-01,  2.95326713e-01,\n",
              "        8.31243760e-01, -7.33525545e-01, -8.74805501e-01,  1.36002845e-01,\n",
              "        2.84108253e-01, -6.02340650e-01,  1.69949849e-01,  8.88610198e-01,\n",
              "       -7.82120529e-01, -8.86677271e-01,  7.73962390e-01, -3.31913141e-01,\n",
              "        9.30266197e-01, -5.09710309e-01,  5.21676469e-01, -3.73090729e-01,\n",
              "        8.28726212e-01, -2.57525356e-01, -3.77982548e-01, -1.71266301e-01,\n",
              "       -9.73985696e-01,  3.22600043e-02,  3.01149080e-01,  8.50789441e-01,\n",
              "       -8.58164584e-01,  5.95079180e-01, -6.60665178e-01,  8.68926355e-01,\n",
              "        1.43240875e-02,  2.34334824e-01,  2.05349036e-01, -9.20126190e-01,\n",
              "       -2.05021659e-02,  8.38883182e-01, -7.59290163e-01,  7.74837226e-01,\n",
              "        3.23744468e-01, -7.47835671e-01,  6.46822600e-01,  5.54165903e-01,\n",
              "       -8.68807183e-01,  8.87943916e-01, -6.69992140e-01,  2.70474321e-01,\n",
              "        7.15213983e-01,  5.32023328e-01,  8.93649410e-01,  3.04144451e-01,\n",
              "        5.79251176e-02,  2.67343234e-01,  3.75467077e-02,  6.13971276e-02,\n",
              "        8.88693308e-01,  9.68337000e-02, -1.78370222e-01, -3.86176319e-05,\n",
              "        1.03458921e-01,  8.61440471e-01, -3.21429929e-01,  6.49180596e-03,\n",
              "        5.06773440e-01, -7.53868189e-01, -3.14957374e-01, -8.15874755e-01,\n",
              "       -9.53995354e-01, -1.11608254e-01,  5.86697997e-01, -9.08121725e-01,\n",
              "       -6.14231289e-01, -2.25064634e-03, -7.17982339e-01, -5.14648715e-01,\n",
              "       -3.02833704e-01,  2.62660657e-01, -2.97979123e-01, -1.53743242e-02,\n",
              "       -7.85179437e-01, -2.80787166e-01, -1.32324624e-01,  3.54578612e-01,\n",
              "        4.16572818e-01,  8.98718178e-02,  4.31466132e-01,  6.09306115e-01,\n",
              "        5.75036140e-01, -7.33119165e-01,  8.99647372e-01,  8.56328984e-01])"
            ]
          },
          "metadata": {},
          "execution_count": 28
        }
      ],
      "source": [
        "Z = np.random.randint(0,2,100)\n",
        "np.logical_not(Z, out=Z)\n",
        "\n",
        "Z = np.random.uniform(-1.0,1.0,100)\n",
        "np.negative(Z, out=Z)"
      ]
    },
    {
      "cell_type": "markdown",
      "id": "119ab5af",
      "metadata": {
        "id": "119ab5af"
      },
      "source": [
        "#### 78. Consider 2 sets of points P0,P1 describing lines (2d) and a point p, how to compute distance from p to each line i (P0[i],P1[i])? (★★★)"
      ]
    },
    {
      "cell_type": "code",
      "execution_count": 29,
      "id": "1d8d06dc",
      "metadata": {
        "id": "1d8d06dc",
        "colab": {
          "base_uri": "https://localhost:8080/"
        },
        "outputId": "b57a3a5f-68d7-4de5-cb35-f60dc73da198"
      },
      "outputs": [
        {
          "output_type": "stream",
          "name": "stdout",
          "text": [
            "[12.04852832 14.95935993 15.9151079   8.24628075 14.07042572 11.62192273\n",
            "  2.15630441  3.10847717 10.5391333   3.18749203]\n"
          ]
        }
      ],
      "source": [
        "def distance(P0, P1, p):\n",
        "    T = P1 - P0\n",
        "    L = (T**2).sum(axis=1)\n",
        "    U = -((P0[:,0]-p[...,0])*T[:,0] + (P0[:,1]-p[...,1])*T[:,1]) / L\n",
        "    U = U.reshape(len(U),1)\n",
        "    D = P0 + U*T - p\n",
        "    return np.sqrt((D**2).sum(axis=1))\n",
        "\n",
        "P0 = np.random.uniform(-10,10,(10,2))\n",
        "P1 = np.random.uniform(-10,10,(10,2))\n",
        "p  = np.random.uniform(-10,10,( 1,2))\n",
        "print(distance(P0, P1, p))"
      ]
    },
    {
      "cell_type": "markdown",
      "id": "e5e7f323",
      "metadata": {
        "id": "e5e7f323"
      },
      "source": [
        "#### 79. Consider 2 sets of points P0,P1 describing lines (2d) and a set of points P, how to compute distance from each point j (P[j]) to each line i (P0[i],P1[i])? (★★★)"
      ]
    },
    {
      "cell_type": "code",
      "execution_count": 30,
      "id": "d0ce77e2",
      "metadata": {
        "id": "d0ce77e2",
        "colab": {
          "base_uri": "https://localhost:8080/"
        },
        "outputId": "536a8ce2-0ffa-477f-dc2e-69a9a06fa57c"
      },
      "outputs": [
        {
          "output_type": "stream",
          "name": "stdout",
          "text": [
            "[[ 4.4464143   2.61445835  2.71960367  5.18262736  4.63921841  0.64793141\n",
            "   5.79843816  5.76117444  9.10218656  2.47351895]\n",
            " [14.44132774  2.57357751  9.33168218  5.85633848  9.68712815  2.81645513\n",
            "  10.48566625  0.36302656  2.70299912 10.53597925]\n",
            " [18.70700581  9.41066282  9.42851728  3.55951565  3.69121726  3.58620936\n",
            "   4.38426798  5.98592712  1.77422112  5.79116249]\n",
            " [14.01678288  0.33563558 10.96290167  8.36360649 12.93393497  6.01625641\n",
            "  13.72721955  2.31017458  4.73561996 13.66980319]\n",
            " [18.94292792  8.92706175 10.06830676  4.31352984  4.38424068  2.94950933\n",
            "   5.06536664  5.82852528  2.47302086  6.55783954]\n",
            " [10.52819877  5.47055074  2.49242085  1.41105642  4.28523765  1.85237646\n",
            "   5.24534891  0.77630391  4.42683239  3.93894761]\n",
            " [ 1.24903513  6.05263359  0.18426812  0.16062186 13.34541869  8.22410458\n",
            "  14.55867148 12.61052507  5.3223544  10.26028031]\n",
            " [ 6.1673459   9.5033742   5.72157195 10.33236677  2.69116362  7.98026945\n",
            "   1.54530744  0.76216695 13.07267291  4.37350039]\n",
            " [12.034331   11.48235675  0.12214386  5.90037585  2.10966898  8.24967267\n",
            "   1.16137532  3.58856022  7.88671018  2.03283826]\n",
            " [12.47714668  2.18322197  7.25669062  4.09429628  9.16882179  2.59370117\n",
            "  10.03542463  1.658964    0.7298754   9.4273208 ]]\n"
          ]
        }
      ],
      "source": [
        "P0 = np.random.uniform(-10, 10, (10,2))\n",
        "P1 = np.random.uniform(-10,10,(10,2))\n",
        "p = np.random.uniform(-10, 10, (10,2))\n",
        "print(np.array([distance(P0,P1,p_i) for p_i in p]))"
      ]
    },
    {
      "cell_type": "markdown",
      "id": "9b9d03eb",
      "metadata": {
        "id": "9b9d03eb"
      },
      "source": [
        "#### 80. Consider an arbitrary array, write a function that extract a subpart with a fixed shape and centered on a given element (pad with a `fill` value when necessary) (★★★)"
      ]
    },
    {
      "cell_type": "code",
      "execution_count": 32,
      "id": "ec2b7ae3",
      "metadata": {
        "id": "ec2b7ae3",
        "colab": {
          "base_uri": "https://localhost:8080/"
        },
        "outputId": "89984704-6eee-4cef-ad67-a64aa6bbef40"
      },
      "outputs": [
        {
          "output_type": "stream",
          "name": "stdout",
          "text": [
            "[[5 5 9 2 4 9 7 7 5 1]\n",
            " [1 9 6 7 1 5 5 0 0 4]\n",
            " [4 4 5 9 0 5 6 2 3 5]\n",
            " [6 1 5 5 5 3 5 7 0 5]\n",
            " [4 8 3 4 0 6 0 6 9 3]\n",
            " [7 0 3 8 9 5 7 5 9 8]\n",
            " [7 9 0 4 7 4 3 7 3 0]\n",
            " [3 7 6 0 7 5 6 8 1 4]\n",
            " [5 4 3 8 2 8 4 1 2 9]\n",
            " [2 9 5 1 7 4 8 6 4 7]]\n",
            "[[0 0 0 0 0]\n",
            " [0 5 5 9 2]\n",
            " [0 1 9 6 7]\n",
            " [0 4 4 5 9]\n",
            " [0 6 1 5 5]]\n"
          ]
        },
        {
          "output_type": "stream",
          "name": "stderr",
          "text": [
            "/usr/local/lib/python3.7/dist-packages/ipykernel_launcher.py:23: FutureWarning: Using a non-tuple sequence for multidimensional indexing is deprecated; use `arr[tuple(seq)]` instead of `arr[seq]`. In the future this will be interpreted as an array index, `arr[np.array(seq)]`, which will result either in an error or a different result.\n"
          ]
        }
      ],
      "source": [
        "Z = np.random.randint(0,10,(10,10))\n",
        "shape = (5,5)\n",
        "fill  = 0\n",
        "position = (1,1)\n",
        "\n",
        "R = np.ones(shape, dtype=Z.dtype)*fill\n",
        "P  = np.array(list(position)).astype(int)\n",
        "Rs = np.array(list(R.shape)).astype(int)\n",
        "Zs = np.array(list(Z.shape)).astype(int)\n",
        "\n",
        "R_start = np.zeros((len(shape),)).astype(int)\n",
        "R_stop  = np.array(list(shape)).astype(int)\n",
        "Z_start = (P-Rs//2)\n",
        "Z_stop  = (P+Rs//2)+Rs%2\n",
        "\n",
        "R_start = (R_start - np.minimum(Z_start,0)).tolist()\n",
        "Z_start = (np.maximum(Z_start,0)).tolist()\n",
        "R_stop = np.maximum(R_start, (R_stop - np.maximum(Z_stop-Zs,0))).tolist()\n",
        "Z_stop = (np.minimum(Z_stop,Zs)).tolist()\n",
        "\n",
        "r = [slice(start,stop) for start,stop in zip(R_start,R_stop)]\n",
        "z = [slice(start,stop) for start,stop in zip(Z_start,Z_stop)]\n",
        "R[r] = Z[z]\n",
        "print(Z)\n",
        "print(R)"
      ]
    },
    {
      "cell_type": "markdown",
      "id": "27794913",
      "metadata": {
        "id": "27794913"
      },
      "source": [
        "#### 81. Consider an array Z = [1,2,3,4,5,6,7,8,9,10,11,12,13,14], how to generate an array R = [[1,2,3,4], [2,3,4,5], [3,4,5,6], ..., [11,12,13,14]]? (★★★)"
      ]
    },
    {
      "cell_type": "code",
      "execution_count": null,
      "id": "f3e7878b",
      "metadata": {
        "id": "f3e7878b"
      },
      "outputs": [],
      "source": [
        "Z = np.arange(1,15,dtype=np.uint32)\n",
        "R = stride_tricks.as_strided(Z,(11,4),(4,4))\n",
        "print(R)\n",
        "\n",
        "# Author: Jeff Luo (@Jeff1999)\n",
        "\n",
        "Z = np.arange(1, 15, dtype=np.uint32)\n",
        "print(sliding_window_view(Z, window_shape=4))"
      ]
    },
    {
      "cell_type": "markdown",
      "id": "fae786f5",
      "metadata": {
        "id": "fae786f5"
      },
      "source": [
        "#### 82. Compute a matrix rank (★★★)"
      ]
    },
    {
      "cell_type": "code",
      "execution_count": 33,
      "id": "64b9615b",
      "metadata": {
        "id": "64b9615b",
        "colab": {
          "base_uri": "https://localhost:8080/"
        },
        "outputId": "fd0a13be-bbd7-4990-d798-d9e1445ba0c1"
      },
      "outputs": [
        {
          "output_type": "stream",
          "name": "stdout",
          "text": [
            "10\n"
          ]
        }
      ],
      "source": [
        "Z = np.random.uniform(0,1,(10,10))\n",
        "U, S, V = np.linalg.svd(Z) # Singular Value Decomposition\n",
        "rank = np.sum(S > 1e-10)\n",
        "print(rank)"
      ]
    },
    {
      "cell_type": "markdown",
      "id": "c85aa0b9",
      "metadata": {
        "id": "c85aa0b9"
      },
      "source": [
        "#### 83. How to find the most frequent value in an array?"
      ]
    },
    {
      "cell_type": "code",
      "execution_count": 38,
      "id": "056be85b",
      "metadata": {
        "id": "056be85b",
        "colab": {
          "base_uri": "https://localhost:8080/"
        },
        "outputId": "2fe6f655-8a34-484d-fbce-be49ab9d05eb"
      },
      "outputs": [
        {
          "output_type": "stream",
          "name": "stdout",
          "text": [
            "6\n"
          ]
        }
      ],
      "source": [
        "z =np.random.randint(0,10,50)\n",
        "print(np.bincount(z).argmax())"
      ]
    },
    {
      "cell_type": "markdown",
      "id": "0ff2344d",
      "metadata": {
        "id": "0ff2344d"
      },
      "source": [
        "#### 84. Extract all the contiguous 3x3 blocks from a random 10x10 matrix (★★★)"
      ]
    },
    {
      "cell_type": "code",
      "execution_count": 39,
      "id": "d58b1318",
      "metadata": {
        "id": "d58b1318",
        "colab": {
          "base_uri": "https://localhost:8080/"
        },
        "outputId": "353d01d9-d3ba-4bc9-d467-24b3bc57ba7b"
      },
      "outputs": [
        {
          "output_type": "stream",
          "name": "stdout",
          "text": [
            "[[[[2 0 1]\n",
            "   [2 1 0]\n",
            "   [3 0 2]]\n",
            "\n",
            "  [[0 1 0]\n",
            "   [1 0 4]\n",
            "   [0 2 3]]\n",
            "\n",
            "  [[1 0 2]\n",
            "   [0 4 3]\n",
            "   [2 3 0]]\n",
            "\n",
            "  [[0 2 0]\n",
            "   [4 3 4]\n",
            "   [3 0 2]]\n",
            "\n",
            "  [[2 0 3]\n",
            "   [3 4 0]\n",
            "   [0 2 4]]\n",
            "\n",
            "  [[0 3 4]\n",
            "   [4 0 0]\n",
            "   [2 4 3]]\n",
            "\n",
            "  [[3 4 2]\n",
            "   [0 0 1]\n",
            "   [4 3 2]]\n",
            "\n",
            "  [[4 2 3]\n",
            "   [0 1 4]\n",
            "   [3 2 0]]]\n",
            "\n",
            "\n",
            " [[[2 1 0]\n",
            "   [3 0 2]\n",
            "   [1 1 3]]\n",
            "\n",
            "  [[1 0 4]\n",
            "   [0 2 3]\n",
            "   [1 3 2]]\n",
            "\n",
            "  [[0 4 3]\n",
            "   [2 3 0]\n",
            "   [3 2 1]]\n",
            "\n",
            "  [[4 3 4]\n",
            "   [3 0 2]\n",
            "   [2 1 3]]\n",
            "\n",
            "  [[3 4 0]\n",
            "   [0 2 4]\n",
            "   [1 3 1]]\n",
            "\n",
            "  [[4 0 0]\n",
            "   [2 4 3]\n",
            "   [3 1 2]]\n",
            "\n",
            "  [[0 0 1]\n",
            "   [4 3 2]\n",
            "   [1 2 1]]\n",
            "\n",
            "  [[0 1 4]\n",
            "   [3 2 0]\n",
            "   [2 1 1]]]\n",
            "\n",
            "\n",
            " [[[3 0 2]\n",
            "   [1 1 3]\n",
            "   [0 1 3]]\n",
            "\n",
            "  [[0 2 3]\n",
            "   [1 3 2]\n",
            "   [1 3 1]]\n",
            "\n",
            "  [[2 3 0]\n",
            "   [3 2 1]\n",
            "   [3 1 2]]\n",
            "\n",
            "  [[3 0 2]\n",
            "   [2 1 3]\n",
            "   [1 2 4]]\n",
            "\n",
            "  [[0 2 4]\n",
            "   [1 3 1]\n",
            "   [2 4 2]]\n",
            "\n",
            "  [[2 4 3]\n",
            "   [3 1 2]\n",
            "   [4 2 1]]\n",
            "\n",
            "  [[4 3 2]\n",
            "   [1 2 1]\n",
            "   [2 1 0]]\n",
            "\n",
            "  [[3 2 0]\n",
            "   [2 1 1]\n",
            "   [1 0 0]]]\n",
            "\n",
            "\n",
            " [[[1 1 3]\n",
            "   [0 1 3]\n",
            "   [1 0 0]]\n",
            "\n",
            "  [[1 3 2]\n",
            "   [1 3 1]\n",
            "   [0 0 4]]\n",
            "\n",
            "  [[3 2 1]\n",
            "   [3 1 2]\n",
            "   [0 4 4]]\n",
            "\n",
            "  [[2 1 3]\n",
            "   [1 2 4]\n",
            "   [4 4 0]]\n",
            "\n",
            "  [[1 3 1]\n",
            "   [2 4 2]\n",
            "   [4 0 2]]\n",
            "\n",
            "  [[3 1 2]\n",
            "   [4 2 1]\n",
            "   [0 2 4]]\n",
            "\n",
            "  [[1 2 1]\n",
            "   [2 1 0]\n",
            "   [2 4 4]]\n",
            "\n",
            "  [[2 1 1]\n",
            "   [1 0 0]\n",
            "   [4 4 2]]]\n",
            "\n",
            "\n",
            " [[[0 1 3]\n",
            "   [1 0 0]\n",
            "   [4 4 4]]\n",
            "\n",
            "  [[1 3 1]\n",
            "   [0 0 4]\n",
            "   [4 4 4]]\n",
            "\n",
            "  [[3 1 2]\n",
            "   [0 4 4]\n",
            "   [4 4 2]]\n",
            "\n",
            "  [[1 2 4]\n",
            "   [4 4 0]\n",
            "   [4 2 4]]\n",
            "\n",
            "  [[2 4 2]\n",
            "   [4 0 2]\n",
            "   [2 4 3]]\n",
            "\n",
            "  [[4 2 1]\n",
            "   [0 2 4]\n",
            "   [4 3 3]]\n",
            "\n",
            "  [[2 1 0]\n",
            "   [2 4 4]\n",
            "   [3 3 1]]\n",
            "\n",
            "  [[1 0 0]\n",
            "   [4 4 2]\n",
            "   [3 1 0]]]\n",
            "\n",
            "\n",
            " [[[1 0 0]\n",
            "   [4 4 4]\n",
            "   [3 4 4]]\n",
            "\n",
            "  [[0 0 4]\n",
            "   [4 4 4]\n",
            "   [4 4 1]]\n",
            "\n",
            "  [[0 4 4]\n",
            "   [4 4 2]\n",
            "   [4 1 3]]\n",
            "\n",
            "  [[4 4 0]\n",
            "   [4 2 4]\n",
            "   [1 3 4]]\n",
            "\n",
            "  [[4 0 2]\n",
            "   [2 4 3]\n",
            "   [3 4 2]]\n",
            "\n",
            "  [[0 2 4]\n",
            "   [4 3 3]\n",
            "   [4 2 1]]\n",
            "\n",
            "  [[2 4 4]\n",
            "   [3 3 1]\n",
            "   [2 1 2]]\n",
            "\n",
            "  [[4 4 2]\n",
            "   [3 1 0]\n",
            "   [1 2 3]]]\n",
            "\n",
            "\n",
            " [[[4 4 4]\n",
            "   [3 4 4]\n",
            "   [0 2 2]]\n",
            "\n",
            "  [[4 4 4]\n",
            "   [4 4 1]\n",
            "   [2 2 0]]\n",
            "\n",
            "  [[4 4 2]\n",
            "   [4 1 3]\n",
            "   [2 0 1]]\n",
            "\n",
            "  [[4 2 4]\n",
            "   [1 3 4]\n",
            "   [0 1 1]]\n",
            "\n",
            "  [[2 4 3]\n",
            "   [3 4 2]\n",
            "   [1 1 1]]\n",
            "\n",
            "  [[4 3 3]\n",
            "   [4 2 1]\n",
            "   [1 1 4]]\n",
            "\n",
            "  [[3 3 1]\n",
            "   [2 1 2]\n",
            "   [1 4 1]]\n",
            "\n",
            "  [[3 1 0]\n",
            "   [1 2 3]\n",
            "   [4 1 3]]]\n",
            "\n",
            "\n",
            " [[[3 4 4]\n",
            "   [0 2 2]\n",
            "   [2 4 1]]\n",
            "\n",
            "  [[4 4 1]\n",
            "   [2 2 0]\n",
            "   [4 1 2]]\n",
            "\n",
            "  [[4 1 3]\n",
            "   [2 0 1]\n",
            "   [1 2 0]]\n",
            "\n",
            "  [[1 3 4]\n",
            "   [0 1 1]\n",
            "   [2 0 0]]\n",
            "\n",
            "  [[3 4 2]\n",
            "   [1 1 1]\n",
            "   [0 0 4]]\n",
            "\n",
            "  [[4 2 1]\n",
            "   [1 1 4]\n",
            "   [0 4 4]]\n",
            "\n",
            "  [[2 1 2]\n",
            "   [1 4 1]\n",
            "   [4 4 3]]\n",
            "\n",
            "  [[1 2 3]\n",
            "   [4 1 3]\n",
            "   [4 3 3]]]]\n"
          ]
        }
      ],
      "source": [
        "Z = np.random.randint(0,5,(10,10))\n",
        "n = 3\n",
        "i = 1 + (Z.shape[0]-3)\n",
        "j = 1 + (Z.shape[1]-3)\n",
        "C = stride_tricks.as_strided(Z, shape=(i, j, n, n), strides=Z.strides + Z.strides)\n",
        "print(C)"
      ]
    },
    {
      "cell_type": "markdown",
      "id": "1a18b263",
      "metadata": {
        "id": "1a18b263"
      },
      "source": [
        "#### 85. Create a 2D array subclass such that Z[i,j] == Z[j,i] (★★★)"
      ]
    },
    {
      "cell_type": "code",
      "execution_count": 40,
      "id": "87f17adc",
      "metadata": {
        "id": "87f17adc",
        "colab": {
          "base_uri": "https://localhost:8080/"
        },
        "outputId": "37bad829-35e9-4dea-eca4-3f481047b379"
      },
      "outputs": [
        {
          "output_type": "stream",
          "name": "stdout",
          "text": [
            "[[ 3 11 18 15  2]\n",
            " [11  2 10  7  7]\n",
            " [18 10  6 42  5]\n",
            " [15  7 42  4 10]\n",
            " [ 2  7  5 10  2]]\n"
          ]
        }
      ],
      "source": [
        "class Symetric(np.ndarray):\n",
        "    def __setitem__(self, index, value):\n",
        "        i,j = index\n",
        "        super(Symetric, self).__setitem__((i,j), value)\n",
        "        super(Symetric, self).__setitem__((j,i), value)\n",
        "\n",
        "def symetric(Z):\n",
        "    return np.asarray(Z + Z.T - np.diag(Z.diagonal())).view(Symetric)\n",
        "\n",
        "S = symetric(np.random.randint(0,10,(5,5)))\n",
        "S[2,3] = 42\n",
        "print(S)"
      ]
    },
    {
      "cell_type": "markdown",
      "id": "f85f2cad",
      "metadata": {
        "id": "f85f2cad"
      },
      "source": [
        "#### 86. Consider a set of p matrices wich shape (n,n) and a set of p vectors with shape (n,1). How to compute the sum of of the p matrix products at once? (result has shape (n,1)) (★★★)"
      ]
    },
    {
      "cell_type": "code",
      "execution_count": 41,
      "id": "8d230557",
      "metadata": {
        "id": "8d230557",
        "colab": {
          "base_uri": "https://localhost:8080/"
        },
        "outputId": "216b453e-d438-4272-b73b-99f5ec97b981"
      },
      "outputs": [
        {
          "output_type": "stream",
          "name": "stdout",
          "text": [
            "[[200.]\n",
            " [200.]\n",
            " [200.]\n",
            " [200.]\n",
            " [200.]\n",
            " [200.]\n",
            " [200.]\n",
            " [200.]\n",
            " [200.]\n",
            " [200.]\n",
            " [200.]\n",
            " [200.]\n",
            " [200.]\n",
            " [200.]\n",
            " [200.]\n",
            " [200.]\n",
            " [200.]\n",
            " [200.]\n",
            " [200.]\n",
            " [200.]]\n"
          ]
        }
      ],
      "source": [
        "p, n = 10, 20\n",
        "M = np.ones((p,n,n))\n",
        "V = np.ones((p,n,1))\n",
        "S = np.tensordot(M, V, axes=[[0, 2], [0, 1]])\n",
        "print(S)"
      ]
    },
    {
      "cell_type": "markdown",
      "id": "5afb72c8",
      "metadata": {
        "id": "5afb72c8"
      },
      "source": [
        "#### 87. Consider a 16x16 array, how to get the block-sum (block size is 4x4)? (★★★)"
      ]
    },
    {
      "cell_type": "code",
      "execution_count": 43,
      "id": "e86f47a9",
      "metadata": {
        "id": "e86f47a9",
        "colab": {
          "base_uri": "https://localhost:8080/"
        },
        "outputId": "db6a73cc-a076-4d64-e7f4-8a885aa19900"
      },
      "outputs": [
        {
          "output_type": "stream",
          "name": "stdout",
          "text": [
            "[[16. 16. 16. 16.]\n",
            " [16. 16. 16. 16.]\n",
            " [16. 16. 16. 16.]\n",
            " [16. 16. 16. 16.]]\n",
            "[[16. 16. 16. 16.]\n",
            " [16. 16. 16. 16.]\n",
            " [16. 16. 16. 16.]\n",
            " [16. 16. 16. 16.]]\n"
          ]
        }
      ],
      "source": [
        "Z = np.ones((16,16))\n",
        "k = 4\n",
        "S = np.add.reduceat(np.add.reduceat(Z, np.arange(0, Z.shape[0], k), axis=0),\n",
        "                                       np.arange(0, Z.shape[1], k), axis=1)\n",
        "print(S)\n",
        "\n",
        "Z = np.ones((16, 16))\n",
        "k = 4\n",
        "print(sliding_window_view(Z, window_shape=(k, k))[::k, ::k].sum(axis=(-2, -1)))"
      ]
    },
    {
      "cell_type": "markdown",
      "id": "6094d37c",
      "metadata": {
        "id": "6094d37c"
      },
      "source": [
        "#### 88. How to implement the Game of Life using numpy arrays? (★★★)"
      ]
    },
    {
      "cell_type": "code",
      "execution_count": 44,
      "id": "a93e715f",
      "metadata": {
        "id": "a93e715f",
        "colab": {
          "base_uri": "https://localhost:8080/"
        },
        "outputId": "9124aae3-a0f5-451e-b77a-76712b7305f8"
      },
      "outputs": [
        {
          "output_type": "stream",
          "name": "stdout",
          "text": [
            "[[0 0 0 ... 0 0 0]\n",
            " [0 0 0 ... 0 0 0]\n",
            " [0 0 0 ... 0 0 0]\n",
            " ...\n",
            " [0 0 0 ... 0 0 0]\n",
            " [0 0 0 ... 0 0 0]\n",
            " [0 0 0 ... 0 0 0]]\n"
          ]
        }
      ],
      "source": [
        "def iterate(Z):\n",
        "    # Count neighbours\n",
        "    N = (Z[0:-2,0:-2] + Z[0:-2,1:-1] + Z[0:-2,2:] +\n",
        "         Z[1:-1,0:-2]                + Z[1:-1,2:] +\n",
        "         Z[2:  ,0:-2] + Z[2:  ,1:-1] + Z[2:  ,2:])\n",
        "\n",
        "    # Apply rules\n",
        "    birth = (N==3) & (Z[1:-1,1:-1]==0)\n",
        "    survive = ((N==2) | (N==3)) & (Z[1:-1,1:-1]==1)\n",
        "    Z[...] = 0\n",
        "    Z[1:-1,1:-1][birth | survive] = 1\n",
        "    return Z\n",
        "\n",
        "Z = np.random.randint(0,2,(50,50))\n",
        "for i in range(100): Z = iterate(Z)\n",
        "print(Z)"
      ]
    },
    {
      "cell_type": "markdown",
      "id": "a173cf96",
      "metadata": {
        "id": "a173cf96"
      },
      "source": [
        "#### 89. How to get the n largest values of an array (★★★)"
      ]
    },
    {
      "cell_type": "code",
      "execution_count": 45,
      "id": "b7c2ff35",
      "metadata": {
        "id": "b7c2ff35",
        "colab": {
          "base_uri": "https://localhost:8080/"
        },
        "outputId": "ef37427d-5e72-4e29-c286-3431d4e6a07b"
      },
      "outputs": [
        {
          "output_type": "stream",
          "name": "stdout",
          "text": [
            "[9995 9996 9997 9998 9999]\n",
            "[9996 9999 9998 9997 9995]\n"
          ]
        }
      ],
      "source": [
        "Z = np.arange(10000)\n",
        "np.random.shuffle(Z)\n",
        "n = 5\n",
        "\n",
        "# Slow\n",
        "print (Z[np.argsort(Z)[-n:]])\n",
        "\n",
        "# Fast\n",
        "print (Z[np.argpartition(-Z,n)[:n]])"
      ]
    },
    {
      "cell_type": "markdown",
      "id": "15db2d01",
      "metadata": {
        "id": "15db2d01"
      },
      "source": [
        "#### 90. Given an arbitrary number of vectors, build the cartesian product (every combinations of every item) (★★★)"
      ]
    },
    {
      "cell_type": "code",
      "execution_count": 46,
      "id": "a9a4633d",
      "metadata": {
        "id": "a9a4633d",
        "colab": {
          "base_uri": "https://localhost:8080/"
        },
        "outputId": "d0a5323d-4f7b-4dc7-f79d-f393eaaf472f"
      },
      "outputs": [
        {
          "output_type": "stream",
          "name": "stdout",
          "text": [
            "[[1 4 6]\n",
            " [1 4 7]\n",
            " [1 5 6]\n",
            " [1 5 7]\n",
            " [2 4 6]\n",
            " [2 4 7]\n",
            " [2 5 6]\n",
            " [2 5 7]\n",
            " [3 4 6]\n",
            " [3 4 7]\n",
            " [3 5 6]\n",
            " [3 5 7]]\n"
          ]
        }
      ],
      "source": [
        "def cartesian(arrays):\n",
        "    arrays = [np.asarray(a) for a in arrays]\n",
        "    shape = (len(x) for x in arrays)\n",
        "\n",
        "    ix = np.indices(shape, dtype=int)\n",
        "    ix = ix.reshape(len(arrays), -1).T\n",
        "\n",
        "    for n, arr in enumerate(arrays):\n",
        "        ix[:, n] = arrays[n][ix[:, n]]\n",
        "\n",
        "    return ix\n",
        "\n",
        "print (cartesian(([1, 2, 3], [4, 5], [6, 7])))"
      ]
    },
    {
      "cell_type": "markdown",
      "id": "5d94d1ef",
      "metadata": {
        "id": "5d94d1ef"
      },
      "source": [
        "#### 91. How to create a record array from a regular array? (★★★)"
      ]
    },
    {
      "cell_type": "code",
      "execution_count": 47,
      "id": "b1dae380",
      "metadata": {
        "id": "b1dae380",
        "colab": {
          "base_uri": "https://localhost:8080/"
        },
        "outputId": "39c4ff4a-d88a-4883-a514-b2ed46696e2c"
      },
      "outputs": [
        {
          "output_type": "stream",
          "name": "stdout",
          "text": [
            "[(b'Hello', 2.5, 3) (b'World', 3.6, 2)]\n"
          ]
        }
      ],
      "source": [
        "Z = np.array([(\"Hello\", 2.5, 3),\n",
        "              (\"World\", 3.6, 2)])\n",
        "R = np.core.records.fromarrays(Z.T,\n",
        "                               names='col1, col2, col3',\n",
        "                               formats = 'S8, f8, i8')\n",
        "print(R)"
      ]
    },
    {
      "cell_type": "markdown",
      "id": "114ccc36",
      "metadata": {
        "id": "114ccc36"
      },
      "source": [
        "#### 92. Consider a large vector Z, compute Z to the power of 3 using 3 different methods (★★★)"
      ]
    },
    {
      "cell_type": "code",
      "execution_count": 48,
      "id": "877c65d6",
      "metadata": {
        "id": "877c65d6",
        "colab": {
          "base_uri": "https://localhost:8080/"
        },
        "outputId": "29667111-5762-4fc1-8a85-69d581e7c353"
      },
      "outputs": [
        {
          "output_type": "stream",
          "name": "stdout",
          "text": [
            "2.11 s ± 7.43 ms per loop (mean ± std. dev. of 7 runs, 1 loop each)\n",
            "61.4 ms ± 1.01 ms per loop (mean ± std. dev. of 7 runs, 10 loops each)\n",
            "52.6 ms ± 982 µs per loop (mean ± std. dev. of 7 runs, 10 loops each)\n"
          ]
        }
      ],
      "source": [
        "x = np.random.rand(int(5e7))\n",
        "\n",
        "%timeit np.power(x,3)\n",
        "%timeit x*x*x\n",
        "%timeit np.einsum('i,i,i->i',x,x,x)"
      ]
    },
    {
      "cell_type": "markdown",
      "id": "d614fee4",
      "metadata": {
        "id": "d614fee4"
      },
      "source": [
        "#### 93. Consider two arrays A and B of shape (8,3) and (2,2). How to find rows of A that contain elements of each row of B regardless of the order of the elements in B? (★★★)"
      ]
    },
    {
      "cell_type": "code",
      "execution_count": 49,
      "id": "e6807a84",
      "metadata": {
        "id": "e6807a84",
        "colab": {
          "base_uri": "https://localhost:8080/"
        },
        "outputId": "ff5381ae-8161-4aad-d1fd-b90817cc181a"
      },
      "outputs": [
        {
          "output_type": "stream",
          "name": "stdout",
          "text": [
            "[0 1 2 3 5]\n"
          ]
        }
      ],
      "source": [
        "A = np.random.randint(0,5,(8,3))\n",
        "B = np.random.randint(0,5,(2,2))\n",
        "\n",
        "C = (A[..., np.newaxis, np.newaxis] == B)\n",
        "rows = np.where(C.any((3,1)).all(1))[0]\n",
        "print(rows)"
      ]
    },
    {
      "cell_type": "markdown",
      "id": "b0eedca6",
      "metadata": {
        "id": "b0eedca6"
      },
      "source": [
        "#### 94. Considering a 10x3 matrix, extract rows with unequal values (e.g. [2,2,3]) (★★★)"
      ]
    },
    {
      "cell_type": "code",
      "execution_count": 50,
      "id": "fc136ce2",
      "metadata": {
        "id": "fc136ce2",
        "colab": {
          "base_uri": "https://localhost:8080/"
        },
        "outputId": "66be5470-fe76-44a4-bb60-7693bd9fccc0"
      },
      "outputs": [
        {
          "output_type": "stream",
          "name": "stdout",
          "text": [
            "[[0 3 4]\n",
            " [4 0 2]\n",
            " [2 1 3]\n",
            " [4 2 2]\n",
            " [1 3 0]\n",
            " [4 0 0]\n",
            " [4 2 2]\n",
            " [1 1 1]\n",
            " [2 3 4]\n",
            " [1 2 4]]\n",
            "[[0 3 4]\n",
            " [4 0 2]\n",
            " [2 1 3]\n",
            " [4 2 2]\n",
            " [1 3 0]\n",
            " [4 0 0]\n",
            " [4 2 2]\n",
            " [2 3 4]\n",
            " [1 2 4]]\n",
            "[[0 3 4]\n",
            " [4 0 2]\n",
            " [2 1 3]\n",
            " [4 2 2]\n",
            " [1 3 0]\n",
            " [4 0 0]\n",
            " [4 2 2]\n",
            " [2 3 4]\n",
            " [1 2 4]]\n"
          ]
        }
      ],
      "source": [
        "Z = np.random.randint(0,5,(10,3))\n",
        "print(Z)\n",
        "# solution for arrays of all dtypes (including string arrays and record arrays)\n",
        "E = np.all(Z[:,1:] == Z[:,:-1], axis=1)\n",
        "U = Z[~E]\n",
        "print(U)\n",
        "# soluiton for numerical arrays only, will work for any number of columns in Z\n",
        "U = Z[Z.max(axis=1) != Z.min(axis=1),:]\n",
        "print(U)"
      ]
    },
    {
      "cell_type": "markdown",
      "id": "a65ec1cf",
      "metadata": {
        "id": "a65ec1cf"
      },
      "source": [
        "#### 95. Convert a vector of ints into a matrix binary representation (★★★)"
      ]
    },
    {
      "cell_type": "code",
      "execution_count": 51,
      "id": "323cdf4c",
      "metadata": {
        "id": "323cdf4c",
        "colab": {
          "base_uri": "https://localhost:8080/"
        },
        "outputId": "59f31354-9881-4e87-f0af-03a5283e7021"
      },
      "outputs": [
        {
          "output_type": "stream",
          "name": "stdout",
          "text": [
            "[[0 0 0 0 0 0 0 0]\n",
            " [0 0 0 0 0 0 0 1]\n",
            " [0 0 0 0 0 0 1 0]\n",
            " [0 0 0 0 0 0 1 1]\n",
            " [0 0 0 0 1 1 1 1]\n",
            " [0 0 0 1 0 0 0 0]\n",
            " [0 0 1 0 0 0 0 0]\n",
            " [0 1 0 0 0 0 0 0]\n",
            " [1 0 0 0 0 0 0 0]]\n",
            "[[0 0 0 0 0 0 0 0]\n",
            " [0 0 0 0 0 0 0 1]\n",
            " [0 0 0 0 0 0 1 0]\n",
            " [0 0 0 0 0 0 1 1]\n",
            " [0 0 0 0 1 1 1 1]\n",
            " [0 0 0 1 0 0 0 0]\n",
            " [0 0 1 0 0 0 0 0]\n",
            " [0 1 0 0 0 0 0 0]\n",
            " [1 0 0 0 0 0 0 0]]\n"
          ]
        }
      ],
      "source": [
        "I = np.array([0, 1, 2, 3, 15, 16, 32, 64, 128])\n",
        "B = ((I.reshape(-1,1) & (2**np.arange(8))) != 0).astype(int)\n",
        "print(B[:,::-1])\n",
        "\n",
        "# Author: Daniel T. McDonald\n",
        "\n",
        "I = np.array([0, 1, 2, 3, 15, 16, 32, 64, 128], dtype=np.uint8)\n",
        "print(np.unpackbits(I[:, np.newaxis], axis=1))"
      ]
    },
    {
      "cell_type": "markdown",
      "id": "75b9397f",
      "metadata": {
        "id": "75b9397f"
      },
      "source": [
        "#### 96. Given a two dimensional array, how to extract unique rows? (★★★)"
      ]
    },
    {
      "cell_type": "code",
      "execution_count": 53,
      "id": "9bb56a47",
      "metadata": {
        "id": "9bb56a47",
        "colab": {
          "base_uri": "https://localhost:8080/"
        },
        "outputId": "8f8e64d7-127e-4677-8d14-6cabb63a364c"
      },
      "outputs": [
        {
          "output_type": "stream",
          "name": "stdout",
          "text": [
            "[[0 0 0]\n",
            " [0 1 1]\n",
            " [1 0 1]]\n",
            "[[0 0 0]\n",
            " [0 1 1]\n",
            " [1 0 1]]\n"
          ]
        }
      ],
      "source": [
        "Z = np.random.randint(0,2,(6,3))\n",
        "T = np.ascontiguousarray(Z).view(np.dtype((np.void, Z.dtype.itemsize * Z.shape[1])))\n",
        "_, idx = np.unique(T, return_index=True)\n",
        "uZ = Z[idx]\n",
        "print(uZ)\n",
        "\n",
        "uZ = np.unique(Z, axis=0)\n",
        "print(uZ)"
      ]
    },
    {
      "cell_type": "markdown",
      "id": "82aaf21b",
      "metadata": {
        "id": "82aaf21b"
      },
      "source": [
        "#### 97. Considering 2 vectors A & B, write the einsum equivalent of inner, outer, sum, and mul function (★★★)"
      ]
    },
    {
      "cell_type": "code",
      "execution_count": 54,
      "id": "cedcefd9",
      "metadata": {
        "id": "cedcefd9",
        "colab": {
          "base_uri": "https://localhost:8080/"
        },
        "outputId": "e7b23462-92f2-4fd5-b9ab-6f190789f277"
      },
      "outputs": [
        {
          "output_type": "execute_result",
          "data": {
            "text/plain": [
              "array([[0.16922219, 0.09776101, 0.06720094, 0.07270679, 0.03224544,\n",
              "        0.18621726, 0.08321814, 0.10034522, 0.04938002, 0.09970691],\n",
              "       [0.59266948, 0.34238986, 0.23535887, 0.25464212, 0.11293369,\n",
              "        0.65219156, 0.29145618, 0.35144061, 0.17294441, 0.34920505],\n",
              "       [0.1102619 , 0.06369917, 0.04378683, 0.04737434, 0.0210105 ,\n",
              "        0.12133555, 0.05422333, 0.065383  , 0.03217506, 0.06496709],\n",
              "       [0.21593179, 0.12474551, 0.08575009, 0.0927757 , 0.04114599,\n",
              "        0.23761792, 0.10618845, 0.12804304, 0.06301015, 0.12722854],\n",
              "       [0.32306107, 0.18663494, 0.1282929 , 0.1388041 , 0.06155957,\n",
              "        0.35550624, 0.15887125, 0.19156846, 0.0942711 , 0.19034987],\n",
              "       [0.32160026, 0.18579103, 0.12771279, 0.13817646, 0.06128121,\n",
              "        0.35389873, 0.15815288, 0.19070224, 0.09384483, 0.18948915],\n",
              "       [0.45206775, 0.26116313, 0.17952359, 0.19423219, 0.08614191,\n",
              "        0.49746913, 0.22231268, 0.26806673, 0.13191601, 0.26636152],\n",
              "       [0.04569278, 0.02639708, 0.01814536, 0.01963203, 0.0087068 ,\n",
              "        0.05028173, 0.02247027, 0.02709486, 0.01333342, 0.02692251],\n",
              "       [0.05960186, 0.03443247, 0.02366889, 0.02560811, 0.01135719,\n",
              "        0.06558771, 0.02931032, 0.03534266, 0.01739217, 0.03511784],\n",
              "       [0.55378603, 0.31992659, 0.21991761, 0.23793573, 0.10552441,\n",
              "        0.60940303, 0.27233452, 0.32838354, 0.16159799, 0.32629465]])"
            ]
          },
          "metadata": {},
          "execution_count": 54
        }
      ],
      "source": [
        "A = np.random.uniform(0,1,10)\n",
        "B = np.random.uniform(0,1,10)\n",
        "\n",
        "np.einsum('i->', A)       # np.sum(A)\n",
        "np.einsum('i,i->i', A, B) # A * B\n",
        "np.einsum('i,i', A, B)    # np.inner(A, B)\n",
        "np.einsum('i,j->ij', A, B)    # np.outer(A, B)"
      ]
    },
    {
      "cell_type": "markdown",
      "id": "7741e17f",
      "metadata": {
        "id": "7741e17f"
      },
      "source": [
        "#### 98. Considering a path described by two vectors (X,Y), how to sample it using equidistant samples (★★★)?"
      ]
    },
    {
      "cell_type": "code",
      "execution_count": 55,
      "id": "0b2432fe",
      "metadata": {
        "id": "0b2432fe"
      },
      "outputs": [],
      "source": [
        "phi = np.arange(0, 10*np.pi, 0.1)\n",
        "a = 1\n",
        "x = a*phi*np.cos(phi)\n",
        "y = a*phi*np.sin(phi)\n",
        "\n",
        "dr = (np.diff(x)**2 + np.diff(y)**2)**.5 # segment lengths\n",
        "r = np.zeros_like(x)\n",
        "r[1:] = np.cumsum(dr)                # integrate path\n",
        "r_int = np.linspace(0, r.max(), 200) # regular spaced path\n",
        "x_int = np.interp(r_int, r, x)       # integrate path\n",
        "y_int = np.interp(r_int, r, y)"
      ]
    },
    {
      "cell_type": "markdown",
      "id": "340d6f36",
      "metadata": {
        "id": "340d6f36"
      },
      "source": [
        "#### 99. Given an integer n and a 2D array X, select from X the rows which can be interpreted as draws from a multinomial distribution with n degrees, i.e., the rows which only contain integers and which sum to n. (★★★)"
      ]
    },
    {
      "cell_type": "code",
      "execution_count": 56,
      "id": "a75323ae",
      "metadata": {
        "id": "a75323ae",
        "colab": {
          "base_uri": "https://localhost:8080/"
        },
        "outputId": "5831840a-8683-498c-ec96-9616ac9d5d12"
      },
      "outputs": [
        {
          "output_type": "stream",
          "name": "stdout",
          "text": [
            "[[2. 0. 1. 1.]]\n"
          ]
        }
      ],
      "source": [
        "X = np.asarray([[1.0, 0.0, 3.0, 8.0],\n",
        "                [2.0, 0.0, 1.0, 1.0],\n",
        "                [1.5, 2.5, 1.0, 0.0]])\n",
        "n = 4\n",
        "M = np.logical_and.reduce(np.mod(X, 1) == 0, axis=-1)\n",
        "M &= (X.sum(axis=-1) == n)\n",
        "print(X[M])"
      ]
    },
    {
      "cell_type": "markdown",
      "id": "19721849",
      "metadata": {
        "id": "19721849"
      },
      "source": [
        "#### 100. Compute bootstrapped 95% confidence intervals for the mean of a 1D array X (i.e., resample the elements of an array with replacement N times, compute the mean of each sample, and then compute percentiles over the means). (★★★)"
      ]
    },
    {
      "cell_type": "code",
      "execution_count": 57,
      "id": "87309c6f",
      "metadata": {
        "id": "87309c6f",
        "colab": {
          "base_uri": "https://localhost:8080/"
        },
        "outputId": "d18e6981-94dc-47d6-ec8c-e75783c4bc35"
      },
      "outputs": [
        {
          "output_type": "stream",
          "name": "stdout",
          "text": [
            "[-0.24083914  0.09659645]\n"
          ]
        }
      ],
      "source": [
        "X = np.random.randn(100) # random 1D array\n",
        "N = 1000 # number of bootstrap samples\n",
        "idx = np.random.randint(0, X.size, (N, X.size))\n",
        "means = X[idx].mean(axis=1)\n",
        "confint = np.percentile(means, [2.5, 97.5])\n",
        "print(confint)"
      ]
    }
  ],
  "metadata": {
    "colab": {
      "provenance": [],
      "collapsed_sections": []
    },
    "language_info": {
      "name": "python"
    },
    "kernelspec": {
      "name": "python3",
      "display_name": "Python 3"
    },
    "gpuClass": "standard"
  },
  "nbformat": 4,
  "nbformat_minor": 5
}