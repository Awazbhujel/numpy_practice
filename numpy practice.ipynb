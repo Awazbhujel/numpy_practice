{
  "nbformat": 4,
  "nbformat_minor": 0,
  "metadata": {
    "colab": {
      "name": "Untitled57.ipynb",
      "provenance": [],
      "authorship_tag": "ABX9TyN7IjXHa9XxFC6EzVbXH0dd"
    },
    "kernelspec": {
      "name": "python3",
      "display_name": "Python 3"
    },
    "language_info": {
      "name": "python"
    }
  },
  "cells": [
    {
      "cell_type": "code",
      "execution_count": 1,
      "metadata": {
        "id": "N20kq3UMzrUT"
      },
      "outputs": [],
      "source": [
        "import numpy as np"
      ]
    },
    {
      "cell_type": "code",
      "source": [
        "x =np.array([[1,2,3,5.5],[1,2,3,4]],dtype=int)\n",
        "print(x)\n"
      ],
      "metadata": {
        "colab": {
          "base_uri": "https://localhost:8080/"
        },
        "id": "aeLHnAc0z-g9",
        "outputId": "ca4701af-16c1-4215-bd6d-028c8804704d"
      },
      "execution_count": 25,
      "outputs": [
        {
          "output_type": "stream",
          "name": "stdout",
          "text": [
            "[[1 2 3 5]\n",
            " [1 2 3 4]]\n"
          ]
        }
      ]
    },
    {
      "cell_type": "code",
      "source": [
        "print(x.shape)\n",
        "print(x.ndim)\n",
        "print(x.size)"
      ],
      "metadata": {
        "colab": {
          "base_uri": "https://localhost:8080/"
        },
        "id": "WzEYN73Iz-kD",
        "outputId": "fd5273b0-98f8-46f6-92e4-74d2507dcb0f"
      },
      "execution_count": 19,
      "outputs": [
        {
          "output_type": "stream",
          "name": "stdout",
          "text": [
            "(2, 4)\n",
            "2\n",
            "8\n"
          ]
        }
      ]
    },
    {
      "cell_type": "code",
      "source": [
        "np.zeros((3,3,2))"
      ],
      "metadata": {
        "colab": {
          "base_uri": "https://localhost:8080/"
        },
        "id": "pdorT__3z-mr",
        "outputId": "9dc8a38a-7f87-449f-f723-771400ea2bea"
      },
      "execution_count": 31,
      "outputs": [
        {
          "output_type": "execute_result",
          "data": {
            "text/plain": [
              "array([[[0., 0.],\n",
              "        [0., 0.],\n",
              "        [0., 0.]],\n",
              "\n",
              "       [[0., 0.],\n",
              "        [0., 0.],\n",
              "        [0., 0.]],\n",
              "\n",
              "       [[0., 0.],\n",
              "        [0., 0.],\n",
              "        [0., 0.]]])"
            ]
          },
          "metadata": {},
          "execution_count": 31
        }
      ]
    },
    {
      "cell_type": "code",
      "source": [
        "np.ones((2,3))"
      ],
      "metadata": {
        "colab": {
          "base_uri": "https://localhost:8080/"
        },
        "id": "Bi_XUKaQz-pv",
        "outputId": "958ac127-79e2-4600-d9e7-0574ee4347a7"
      },
      "execution_count": 38,
      "outputs": [
        {
          "output_type": "execute_result",
          "data": {
            "text/plain": [
              "array([[1., 1., 1.],\n",
              "       [1., 1., 1.]])"
            ]
          },
          "metadata": {},
          "execution_count": 38
        }
      ]
    },
    {
      "cell_type": "code",
      "source": [
        "np.random.rand(2,3)"
      ],
      "metadata": {
        "colab": {
          "base_uri": "https://localhost:8080/"
        },
        "id": "qnTHCtzPz-tC",
        "outputId": "50eb7658-b25a-457c-805d-b8c509c81123"
      },
      "execution_count": 39,
      "outputs": [
        {
          "output_type": "execute_result",
          "data": {
            "text/plain": [
              "array([[0.20822248, 0.74857709, 0.89290903],\n",
              "       [0.91054269, 0.77031994, 0.08755822]])"
            ]
          },
          "metadata": {},
          "execution_count": 39
        }
      ]
    },
    {
      "cell_type": "code",
      "source": [
        "#choice\n",
        "np.full((2,2),7)"
      ],
      "metadata": {
        "colab": {
          "base_uri": "https://localhost:8080/"
        },
        "id": "TIpG8MOPz-wd",
        "outputId": "991fb8d2-2a71-4ba3-a1f0-e622f6516214"
      },
      "execution_count": 40,
      "outputs": [
        {
          "output_type": "execute_result",
          "data": {
            "text/plain": [
              "array([[7, 7],\n",
              "       [7, 7]])"
            ]
          },
          "metadata": {},
          "execution_count": 40
        }
      ]
    },
    {
      "cell_type": "code",
      "source": [
        "#identity matrix\n",
        "np.eye(3)"
      ],
      "metadata": {
        "colab": {
          "base_uri": "https://localhost:8080/"
        },
        "id": "dEp_9xL10AGT",
        "outputId": "d0699a8f-409f-4317-a774-925fb72725eb"
      },
      "execution_count": 42,
      "outputs": [
        {
          "output_type": "execute_result",
          "data": {
            "text/plain": [
              "array([[1., 0., 0.],\n",
              "       [0., 1., 0.],\n",
              "       [0., 0., 1.]])"
            ]
          },
          "metadata": {},
          "execution_count": 42
        }
      ]
    },
    {
      "cell_type": "code",
      "source": [
        "np.arange(2,8)\n",
        "np.arange(2,8,2)"
      ],
      "metadata": {
        "colab": {
          "base_uri": "https://localhost:8080/"
        },
        "id": "ww3Tevhm0ABt",
        "outputId": "d288ba15-6151-437b-e0b0-375c8896f168"
      },
      "execution_count": 50,
      "outputs": [
        {
          "output_type": "execute_result",
          "data": {
            "text/plain": [
              "array([2, 4, 6])"
            ]
          },
          "metadata": {},
          "execution_count": 50
        }
      ]
    },
    {
      "cell_type": "code",
      "source": [
        "np.linspace(0,1,5)"
      ],
      "metadata": {
        "colab": {
          "base_uri": "https://localhost:8080/"
        },
        "id": "R0WOk16sz_Ob",
        "outputId": "a310668a-776f-4d07-dc34-e865027fd2f8"
      },
      "execution_count": 49,
      "outputs": [
        {
          "output_type": "execute_result",
          "data": {
            "text/plain": [
              "array([0.  , 0.25, 0.5 , 0.75, 1.  ])"
            ]
          },
          "metadata": {},
          "execution_count": 49
        }
      ]
    },
    {
      "cell_type": "code",
      "source": [
        "x.reshape(4,2)"
      ],
      "metadata": {
        "colab": {
          "base_uri": "https://localhost:8080/"
        },
        "id": "IoAMn-Kz7mwm",
        "outputId": "a086543e-beb5-4523-e27a-f6509205f3d5"
      },
      "execution_count": 54,
      "outputs": [
        {
          "output_type": "execute_result",
          "data": {
            "text/plain": [
              "array([[1, 2],\n",
              "       [3, 5],\n",
              "       [1, 2],\n",
              "       [3, 4]])"
            ]
          },
          "metadata": {},
          "execution_count": 54
        }
      ]
    },
    {
      "cell_type": "code",
      "source": [
        "a = np.ones((2,2))\n",
        "print(a)\n",
        "print(a.ndim)\n",
        "#making 1day array\n",
        "b = a.flatten()\n",
        "c = a.ravel()\n",
        "print(b.ndim)\n",
        "print(c)\n",
        "c[0]=0\n",
        "print(c)"
      ],
      "metadata": {
        "colab": {
          "base_uri": "https://localhost:8080/"
        },
        "id": "EHyGhJNQ7mzm",
        "outputId": "61eee1c5-aa34-46bd-d2c0-08f5068ab790"
      },
      "execution_count": 59,
      "outputs": [
        {
          "output_type": "stream",
          "name": "stdout",
          "text": [
            "[[1. 1.]\n",
            " [1. 1.]]\n",
            "2\n",
            "1\n",
            "[1. 1. 1. 1.]\n",
            "[0. 1. 1. 1.]\n"
          ]
        }
      ]
    },
    {
      "cell_type": "code",
      "source": [
        "a = np.array([[1,2,3],[4,5,6]])\n",
        "print(a)\n",
        "print(\"transpose of array a:\")\n",
        "b = np.transpose(a)\n",
        "print(b)"
      ],
      "metadata": {
        "colab": {
          "base_uri": "https://localhost:8080/"
        },
        "id": "QptqoNyJ7m22",
        "outputId": "a96a95bd-fa92-4f75-ffeb-5d9a5837c17b"
      },
      "execution_count": 61,
      "outputs": [
        {
          "output_type": "stream",
          "name": "stdout",
          "text": [
            "[[1 2 3]\n",
            " [4 5 6]]\n",
            "transpose of array a:\n",
            "[[1 4]\n",
            " [2 5]\n",
            " [3 6]]\n"
          ]
        }
      ]
    },
    {
      "cell_type": "code",
      "source": [
        "#Slicing 1-D NumPy arrays\n",
        "a = np.array([1,2,3,4,5,6])\n",
        "a[2:]\n",
        "a[:3]\n",
        "a[1:3]\n",
        "a[:-1:2]"
      ],
      "metadata": {
        "colab": {
          "base_uri": "https://localhost:8080/"
        },
        "id": "iFrxE7ra7m5S",
        "outputId": "d765d887-b199-45d7-fe5f-283969fd21af"
      },
      "execution_count": 69,
      "outputs": [
        {
          "output_type": "execute_result",
          "data": {
            "text/plain": [
              "array([1, 3, 5])"
            ]
          },
          "metadata": {},
          "execution_count": 69
        }
      ]
    },
    {
      "cell_type": "code",
      "source": [
        "#Slicing 2-D NumPy arrays\n",
        "a = np.array([[1,2,3,4],[4,5,6,7]])\n",
        "print(a)\n",
        "a[:3,1:-1]\n",
        "a[::2,::2]\n",
        "a[1:,1::]\n",
        "a[0,2]\n",
        "a[1,-1]\n",
        "a[0,-1]\n",
        "a[0,-2]"
      ],
      "metadata": {
        "colab": {
          "base_uri": "https://localhost:8080/"
        },
        "id": "P1vW2pfA7m7o",
        "outputId": "c70d3b53-3250-4478-9943-79c34142963f"
      },
      "execution_count": 101,
      "outputs": [
        {
          "output_type": "stream",
          "name": "stdout",
          "text": [
            "[[1 2 3 4]\n",
            " [4 5 6 7]]\n"
          ]
        },
        {
          "output_type": "execute_result",
          "data": {
            "text/plain": [
              "3"
            ]
          },
          "metadata": {},
          "execution_count": 101
        }
      ]
    },
    {
      "cell_type": "code",
      "source": [
        "#Slicing 3-D NumPy arrays\n",
        "a = np.array([[[1,2],[3,4],[5,6]],[[7,8],[9,10],[11,12]]])\n",
        "print(a)\n",
        "a[:,:,:1]\n",
        "a[:,1:,::]\n",
        "a[:,1:,1:]\n",
        "a[:,2:,::]"
      ],
      "metadata": {
        "colab": {
          "base_uri": "https://localhost:8080/"
        },
        "id": "VyveNYBWz_Ri",
        "outputId": "da837436-bc5b-43bf-b7bf-85730a7c5be2"
      },
      "execution_count": 110,
      "outputs": [
        {
          "output_type": "stream",
          "name": "stdout",
          "text": [
            "[[[ 1  2]\n",
            "  [ 3  4]\n",
            "  [ 5  6]]\n",
            "\n",
            " [[ 7  8]\n",
            "  [ 9 10]\n",
            "  [11 12]]]\n"
          ]
        },
        {
          "output_type": "execute_result",
          "data": {
            "text/plain": [
              "array([[[ 5,  6]],\n",
              "\n",
              "       [[11, 12]]])"
            ]
          },
          "metadata": {},
          "execution_count": 110
        }
      ]
    },
    {
      "cell_type": "code",
      "source": [
        "#Stacking and Concatenating NumPy arrays\n",
        "a = np.ones(5)\n",
        "b= np.zeros(5)\n",
        "v = np.hstack((a,b))\n",
        "print(v)\n",
        "h = np.vstack((a,b))\n",
        "print(h)\n",
        "c = np.concatenate((a,b))\n",
        "print(c)"
      ],
      "metadata": {
        "colab": {
          "base_uri": "https://localhost:8080/"
        },
        "id": "DJd85AGUz_VP",
        "outputId": "86ae41f5-d9d5-4b0e-f58c-f5fecc4d16ea"
      },
      "execution_count": 121,
      "outputs": [
        {
          "output_type": "stream",
          "name": "stdout",
          "text": [
            "[1. 1. 1. 1. 1. 0. 0. 0. 0. 0.]\n",
            "[[1. 1. 1. 1. 1.]\n",
            " [0. 0. 0. 0. 0.]]\n",
            "[1. 1. 1. 1. 1. 0. 0. 0. 0. 0.]\n"
          ]
        }
      ]
    },
    {
      "cell_type": "code",
      "source": [
        "a = np.array([[1,2],[3,4]])\n",
        "np.append(a,[[6,7]],axis=0)"
      ],
      "metadata": {
        "colab": {
          "base_uri": "https://localhost:8080/"
        },
        "id": "SE-_Me4xz_aa",
        "outputId": "812ee086-d7ad-4994-8289-b6fb2867b2da"
      },
      "execution_count": 129,
      "outputs": [
        {
          "output_type": "execute_result",
          "data": {
            "text/plain": [
              "array([[1, 2],\n",
              "       [3, 4],\n",
              "       [6, 7]])"
            ]
          },
          "metadata": {},
          "execution_count": 129
        }
      ]
    },
    {
      "cell_type": "code",
      "source": [
        "np.mean(a)\n",
        "np.max(a)\n",
        "np.min(a)\n",
        "np.average(a)\n",
        "np.sum(a)\n",
        "np.diff(a)\n"
      ],
      "metadata": {
        "colab": {
          "base_uri": "https://localhost:8080/"
        },
        "id": "mn0gL0aSz_ea",
        "outputId": "73be5ca9-22e0-49a2-8c63-132eef1ed5a1"
      },
      "execution_count": 162,
      "outputs": [
        {
          "output_type": "execute_result",
          "data": {
            "text/plain": [
              "array([0.6, 0.6, 0.6, 0.6, 0.6])"
            ]
          },
          "metadata": {},
          "execution_count": 162
        }
      ]
    },
    {
      "cell_type": "code",
      "source": [
        "#Mean, Median and Standard deviation\n",
        "a = np.arange(2,15,2)\n",
        "np.mean(a)\n",
        "np.median(a)\n",
        "np.std(a)"
      ],
      "metadata": {
        "colab": {
          "base_uri": "https://localhost:8080/"
        },
        "id": "i4LkjIAdz_hw",
        "outputId": "e6dded44-35c3-4640-ba6b-4bf5c052d9f9"
      },
      "execution_count": 141,
      "outputs": [
        {
          "output_type": "execute_result",
          "data": {
            "text/plain": [
              "4.0"
            ]
          },
          "metadata": {},
          "execution_count": 141
        }
      ]
    },
    {
      "cell_type": "code",
      "source": [
        "a = np.array([1,4,2,5,3,6,8,7,9])\n",
        "np.sort(a)"
      ],
      "metadata": {
        "colab": {
          "base_uri": "https://localhost:8080/"
        },
        "id": "7ZpBSlPQz_lO",
        "outputId": "3c010902-de56-4f42-90e4-574999697128"
      },
      "execution_count": 142,
      "outputs": [
        {
          "output_type": "execute_result",
          "data": {
            "text/plain": [
              "array([1, 2, 3, 4, 5, 6, 7, 8, 9])"
            ]
          },
          "metadata": {},
          "execution_count": 142
        }
      ]
    },
    {
      "cell_type": "code",
      "source": [
        "a = np.linspace(2,5,6)\n",
        "b = np.linspace(3,2,6)\n",
        "c = np.vstack((a,b))\n",
        "np.sort(c,axis=1)\n"
      ],
      "metadata": {
        "colab": {
          "base_uri": "https://localhost:8080/"
        },
        "id": "v7BzVeGcJsYg",
        "outputId": "7a196e08-ee1c-4af9-baf1-55de82e322d7"
      },
      "execution_count": 161,
      "outputs": [
        {
          "output_type": "execute_result",
          "data": {
            "text/plain": [
              "array([[2. , 2.6, 3.2, 3.8, 4.4, 5. ],\n",
              "       [2. , 2.2, 2.4, 2.6, 2.8, 3. ]])"
            ]
          },
          "metadata": {},
          "execution_count": 161
        }
      ]
    },
    {
      "cell_type": "code",
      "source": [
        "c.size\n",
        "c.resize(6,2)\n",
        "print(c)"
      ],
      "metadata": {
        "colab": {
          "base_uri": "https://localhost:8080/"
        },
        "id": "XAiBH2gCKFEC",
        "outputId": "9bb2e8f2-02c7-4275-8ca1-5201d0625e49"
      },
      "execution_count": 166,
      "outputs": [
        {
          "output_type": "stream",
          "name": "stdout",
          "text": [
            "[[2.  2.6]\n",
            " [3.2 3.8]\n",
            " [4.4 5. ]\n",
            " [3.  2.8]\n",
            " [2.6 2.4]\n",
            " [2.2 2. ]]\n"
          ]
        }
      ]
    },
    {
      "cell_type": "code",
      "source": [
        "c.nbytes"
      ],
      "metadata": {
        "colab": {
          "base_uri": "https://localhost:8080/"
        },
        "id": "fSoG-pxoKFJ2",
        "outputId": "f0ed569d-fd12-489b-88fe-32a9c2ada7c0"
      },
      "execution_count": 167,
      "outputs": [
        {
          "output_type": "execute_result",
          "data": {
            "text/plain": [
              "96"
            ]
          },
          "metadata": {},
          "execution_count": 167
        }
      ]
    },
    {
      "cell_type": "code",
      "source": [
        "np.split(a,3,axis=0)"
      ],
      "metadata": {
        "colab": {
          "base_uri": "https://localhost:8080/"
        },
        "id": "gPMSiFASQTwN",
        "outputId": "c57e1817-bd26-4a50-cf46-4a01695f2d71"
      },
      "execution_count": 175,
      "outputs": [
        {
          "output_type": "execute_result",
          "data": {
            "text/plain": [
              "[array([2. , 2.6]), array([3.2, 3.8]), array([4.4, 5. ])]"
            ]
          },
          "metadata": {},
          "execution_count": 175
        }
      ]
    },
    {
      "cell_type": "code",
      "source": [
        "np.random.randint(40)\n",
        "np.random.rand(3,4)\n",
        "np.random.randn(2,5,3)\n"
      ],
      "metadata": {
        "colab": {
          "base_uri": "https://localhost:8080/"
        },
        "id": "RHOQo_eFQ1c2",
        "outputId": "1d8de5c4-bd6b-421b-bf8e-eac0ae057444"
      },
      "execution_count": 185,
      "outputs": [
        {
          "output_type": "execute_result",
          "data": {
            "text/plain": [
              "array([[[ 1.56956983,  0.57000077,  0.94475253],\n",
              "        [-0.47337479, -0.89391931,  1.4634256 ],\n",
              "        [ 0.30446307,  0.44386858,  0.14428814],\n",
              "        [ 0.63721593, -0.18073431,  0.54742856],\n",
              "        [-0.44288097, -0.53548097,  0.30859408]],\n",
              "\n",
              "       [[-1.25319604,  0.23451797, -1.46539329],\n",
              "        [ 0.96652519, -1.64479421, -1.72086647],\n",
              "        [ 0.70353019,  0.01885237,  0.41704376],\n",
              "        [ 0.90827188, -0.39065412, -0.86422773],\n",
              "        [-0.45822421, -0.38635218, -1.26226887]]])"
            ]
          },
          "metadata": {},
          "execution_count": 185
        }
      ]
    },
    {
      "cell_type": "code",
      "source": [
        "a = np.genfromtxt(\"/content/odd_numbers.csv\",delimiter=\",\",dtype=int)\n",
        "a"
      ],
      "metadata": {
        "colab": {
          "base_uri": "https://localhost:8080/"
        },
        "id": "II3cfmMdQZhF",
        "outputId": "50e32e70-377b-4b9e-d536-38a7d1b216b2"
      },
      "execution_count": 190,
      "outputs": [
        {
          "output_type": "execute_result",
          "data": {
            "text/plain": [
              "array([[ 1,  3,  5,  7,  9],\n",
              "       [11, 13, 15, 17, 19],\n",
              "       [21, 23, 25, 27, 29],\n",
              "       [31, 33, 35, 37, 39],\n",
              "       [43, 45, 47, 49, -1]])"
            ]
          },
          "metadata": {},
          "execution_count": 190
        }
      ]
    },
    {
      "cell_type": "code",
      "source": [
        "print(a.shape)\n",
        "print(a.size)\n",
        "print(a.ndim)\n",
        "a.reshape(25)"
      ],
      "metadata": {
        "colab": {
          "base_uri": "https://localhost:8080/"
        },
        "id": "vZwMDRHyQZnQ",
        "outputId": "9cbf2c29-de96-4b09-e829-4f07bcff708e"
      },
      "execution_count": 192,
      "outputs": [
        {
          "output_type": "stream",
          "name": "stdout",
          "text": [
            "(5, 5)\n",
            "25\n",
            "2\n"
          ]
        },
        {
          "output_type": "execute_result",
          "data": {
            "text/plain": [
              "array([ 1,  3,  5,  7,  9, 11, 13, 15, 17, 19, 21, 23, 25, 27, 29, 31, 33,\n",
              "       35, 37, 39, 43, 45, 47, 49, -1])"
            ]
          },
          "metadata": {},
          "execution_count": 192
        }
      ]
    },
    {
      "cell_type": "code",
      "source": [
        "x = np.savetxt(\"even.txt\",a)"
      ],
      "metadata": {
        "id": "1m_AkGZwQZyQ"
      },
      "execution_count": 232,
      "outputs": []
    },
    {
      "cell_type": "code",
      "source": [
        ""
      ],
      "metadata": {
        "id": "wz4-Ede6SbBI"
      },
      "execution_count": null,
      "outputs": []
    }
  ]
}