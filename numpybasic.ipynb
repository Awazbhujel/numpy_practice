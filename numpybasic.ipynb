{
  "nbformat": 4,
  "nbformat_minor": 0,
  "metadata": {
    "colab": {
      "name": "Untitled9.ipynb",
      "provenance": [],
      "authorship_tag": "ABX9TyNHN9JD77I/ZSTDcoB/7RXd"
    },
    "kernelspec": {
      "name": "python3",
      "display_name": "Python 3"
    },
    "language_info": {
      "name": "python"
    }
  },
  "cells": [
    {
      "cell_type": "code",
      "execution_count": null,
      "metadata": {
        "id": "YoHrVzbyENj4"
      },
      "outputs": [],
      "source": [
        "import numpy as np\n",
        "import matplotlib.pyplot as plt"
      ]
    },
    {
      "cell_type": "code",
      "source": [
        "aa=np.ones(5)"
      ],
      "metadata": {
        "id": "Zmc7ZlMIEhlc"
      },
      "execution_count": null,
      "outputs": []
    },
    {
      "cell_type": "code",
      "source": [
        "np.linspace(1,2,10)"
      ],
      "metadata": {
        "colab": {
          "base_uri": "https://localhost:8080/"
        },
        "id": "R8evCEBvEqHJ",
        "outputId": "afd88754-d559-4f0c-c4f6-b9e304cd99e4"
      },
      "execution_count": null,
      "outputs": [
        {
          "output_type": "execute_result",
          "data": {
            "text/plain": [
              "array([1.        , 1.11111111, 1.22222222, 1.33333333, 1.44444444,\n",
              "       1.55555556, 1.66666667, 1.77777778, 1.88888889, 2.        ])"
            ]
          },
          "metadata": {},
          "execution_count": 29
        }
      ]
    },
    {
      "cell_type": "code",
      "source": [
        "a = (([1,2,3,4])*2)\n",
        "np.a"
      ],
      "metadata": {
        "colab": {
          "base_uri": "https://localhost:8080/"
        },
        "id": "CnCKd6Y9Hka2",
        "outputId": "a34de82a-c34d-4590-eaa1-419d3283fdb3"
      },
      "execution_count": null,
      "outputs": [
        {
          "output_type": "execute_result",
          "data": {
            "text/plain": [
              "[1, 2, 3, 4]"
            ]
          },
          "metadata": {},
          "execution_count": 43
        }
      ]
    },
    {
      "cell_type": "code",
      "source": [
        "4*aa"
      ],
      "metadata": {
        "colab": {
          "base_uri": "https://localhost:8080/"
        },
        "id": "gSBkWp2DHkdf",
        "outputId": "a0eceaa2-87e5-4cfc-e872-2c6c320ab193"
      },
      "execution_count": null,
      "outputs": [
        {
          "output_type": "execute_result",
          "data": {
            "text/plain": [
              "array([4., 4., 4., 4., 4.])"
            ]
          },
          "metadata": {},
          "execution_count": 48
        }
      ]
    },
    {
      "cell_type": "code",
      "source": [
        "0.5/aa"
      ],
      "metadata": {
        "colab": {
          "base_uri": "https://localhost:8080/"
        },
        "id": "zs3xi1jyHkga",
        "outputId": "32b92bf5-7d19-4d13-b9ec-f3a5b4e1a5d8"
      },
      "execution_count": null,
      "outputs": [
        {
          "output_type": "execute_result",
          "data": {
            "text/plain": [
              "array([0.5, 0.5, 0.5, 0.5, 0.5])"
            ]
          },
          "metadata": {},
          "execution_count": 50
        }
      ]
    },
    {
      "cell_type": "code",
      "source": [
        "aa =1/aa+aa+aa*5\n",
        "print(aa)"
      ],
      "metadata": {
        "colab": {
          "base_uri": "https://localhost:8080/"
        },
        "id": "9TAeHdlcHkjP",
        "outputId": "1632c9ef-efdf-4c95-8174-0792808422e1"
      },
      "execution_count": null,
      "outputs": [
        {
          "output_type": "stream",
          "name": "stdout",
          "text": [
            "[7. 7. 7. 7. 7.]\n"
          ]
        }
      ]
    },
    {
      "cell_type": "code",
      "source": [
        "x = np.linspace(0,1,100)\n",
        "y = x**2"
      ],
      "metadata": {
        "id": "g2gaWlK_Hkm0"
      },
      "execution_count": null,
      "outputs": []
    },
    {
      "cell_type": "code",
      "source": [
        "plt.plot(x,y)"
      ],
      "metadata": {
        "colab": {
          "base_uri": "https://localhost:8080/",
          "height": 282
        },
        "id": "OqDmFNu9Ja2Y",
        "outputId": "534c66fc-d980-422e-b745-ad6589381349"
      },
      "execution_count": null,
      "outputs": [
        {
          "output_type": "execute_result",
          "data": {
            "text/plain": [
              "[<matplotlib.lines.Line2D at 0x7ff84426da50>]"
            ]
          },
          "metadata": {},
          "execution_count": 65
        },
        {
          "output_type": "display_data",
          "data": {
            "text/plain": [
              "<Figure size 432x288 with 1 Axes>"
            ],
            "image/png": "[encoded data removed]"
          },
          "metadata": {
            "needs_background": "light"
          }
        }
      ]
    },
    {
      "cell_type": "code",
      "source": [
        "plt.hist(aa)"
      ],
      "metadata": {
        "colab": {
          "base_uri": "https://localhost:8080/",
          "height": 317
        },
        "id": "Ho_z378kJa4r",
        "outputId": "68e91c58-2684-4061-fdad-44171137019d"
      },
      "execution_count": null,
      "outputs": [
        {
          "output_type": "execute_result",
          "data": {
            "text/plain": [
              "(array([0., 0., 0., 0., 0., 5., 0., 0., 0., 0.]),\n",
              " array([6.5, 6.6, 6.7, 6.8, 6.9, 7. , 7.1, 7.2, 7.3, 7.4, 7.5]),\n",
              " <a list of 10 Patch objects>)"
            ]
          },
          "metadata": {},
          "execution_count": 67
        },
        {
          "output_type": "display_data",
          "data": {
            "text/plain": [
              "<Figure size 432x288 with 1 Axes>"
            ],
            "image/png": "[encoded data removed]"
          },
          "metadata": {
            "needs_background": "light"
          }
        }
      ]
    },
    {
      "cell_type": "code",
      "source": [
        "def f(xx):\n",
        "  return xx**2 * np.sin(xx) / np.exp(-xx)\n",
        "\n",
        "xx = np.linspace(1,10,100)\n",
        "yy = f(xx)"
      ],
      "metadata": {
        "id": "DxUv0KwIJa7R"
      },
      "execution_count": null,
      "outputs": []
    },
    {
      "cell_type": "code",
      "source": [
        "plt.plot(xx,yy)"
      ],
      "metadata": {
        "colab": {
          "base_uri": "https://localhost:8080/",
          "height": 293
        },
        "id": "doEvXAbtJa-g",
        "outputId": "5c40ee17-8f94-4967-841e-c4bfe2b1b61c"
      },
      "execution_count": null,
      "outputs": [
        {
          "output_type": "execute_result",
          "data": {
            "text/plain": [
              "[<matplotlib.lines.Line2D at 0x7ff843b8d0d0>]"
            ]
          },
          "metadata": {},
          "execution_count": 71
        },
        {
          "output_type": "display_data",
          "data": {
            "text/plain": [
              "<Figure size 432x288 with 1 Axes>"
            ],
            "image/png": "[encoded data removed]"
          },
          "metadata": {
            "needs_background": "light"
          }
        }
      ]
    },
    {
      "cell_type": "code",
      "source": [
        "a1 = np.array([2,4,6,8,10])\n",
        "a1"
      ],
      "metadata": {
        "colab": {
          "base_uri": "https://localhost:8080/"
        },
        "id": "j73SKDeyJbBI",
        "outputId": "328063c9-7962-493d-a7ef-09961cd6c443"
      },
      "execution_count": null,
      "outputs": [
        {
          "output_type": "execute_result",
          "data": {
            "text/plain": [
              "array([ 2,  4,  6,  8, 10])"
            ]
          },
          "metadata": {},
          "execution_count": 72
        }
      ]
    },
    {
      "cell_type": "code",
      "source": [
        "a1[a1<3]"
      ],
      "metadata": {
        "colab": {
          "base_uri": "https://localhost:8080/"
        },
        "id": "KOxulHalJbDq",
        "outputId": "095db8d3-63e0-4ea9-ef6f-8b7847108556"
      },
      "execution_count": null,
      "outputs": [
        {
          "output_type": "execute_result",
          "data": {
            "text/plain": [
              "array([2])"
            ]
          },
          "metadata": {},
          "execution_count": 80
        }
      ]
    },
    {
      "cell_type": "code",
      "source": [
        "name = np.array([\"awaz\",\"bil\",\"asmin\",\"bob\"])\n",
        "name"
      ],
      "metadata": {
        "colab": {
          "base_uri": "https://localhost:8080/"
        },
        "id": "6DLdTsSLJbF3",
        "outputId": "bc38c74b-b24d-4680-8163-d063af96d118"
      },
      "execution_count": null,
      "outputs": [
        {
          "output_type": "execute_result",
          "data": {
            "text/plain": [
              "array(['awaz', 'bil', 'asmin', 'bob'], dtype='<U5')"
            ]
          },
          "metadata": {},
          "execution_count": 83
        }
      ]
    },
    {
      "cell_type": "code",
      "source": [
        "first_letter = np.vectorize(lambda s:s[0])(name) == \"a\"\n",
        "name[first_letter]"
      ],
      "metadata": {
        "colab": {
          "base_uri": "https://localhost:8080/"
        },
        "id": "9pZ5aTb0NOlJ",
        "outputId": "00bf61a6-348b-44c0-ab71-4f4c82894cc0"
      },
      "execution_count": null,
      "outputs": [
        {
          "output_type": "execute_result",
          "data": {
            "text/plain": [
              "array(['awaz', 'asmin'], dtype='<U5')"
            ]
          },
          "metadata": {},
          "execution_count": 88
        }
      ]
    },
    {
      "cell_type": "code",
      "source": [
        "aa"
      ],
      "metadata": {
        "colab": {
          "base_uri": "https://localhost:8080/"
        },
        "id": "3soDf_b_NOpB",
        "outputId": "21ad18b2-3eae-44a1-c781-d209a2ceb673"
      },
      "execution_count": null,
      "outputs": [
        {
          "output_type": "execute_result",
          "data": {
            "text/plain": [
              "array([7., 7., 7., 7., 7.])"
            ]
          },
          "metadata": {},
          "execution_count": 89
        }
      ]
    },
    {
      "cell_type": "code",
      "source": [
        "aa =aa*2\n",
        "print(aa)"
      ],
      "metadata": {
        "colab": {
          "base_uri": "https://localhost:8080/"
        },
        "id": "vzdncEJxJbJf",
        "outputId": "23c7a29d-1d90-4739-ea95-84f927e98dd5"
      },
      "execution_count": null,
      "outputs": [
        {
          "output_type": "stream",
          "name": "stdout",
          "text": [
            "[28. 28. 28. 28. 28.]\n"
          ]
        }
      ]
    },
    {
      "cell_type": "code",
      "source": [
        "aa=2*"
      ],
      "metadata": {
        "colab": {
          "base_uri": "https://localhost:8080/"
        },
        "id": "FuMqPjfQEqKL",
        "outputId": "99a486ff-3d03-4d8f-ed0f-a6d425ab8e2f"
      },
      "execution_count": null,
      "outputs": [
        {
          "output_type": "execute_result",
          "data": {
            "text/plain": [
              "array([], dtype=float64)"
            ]
          },
          "metadata": {},
          "execution_count": 107
        }
      ]
    },
    {
      "cell_type": "code",
      "source": [
        "import numpy as np"
      ],
      "metadata": {
        "id": "1BQdWriJ0tBM"
      },
      "execution_count": null,
      "outputs": []
    },
    {
      "cell_type": "code",
      "source": [
        "b= 2*np.random.randn(1000)+ 10\n"
      ],
      "metadata": {
        "id": "C62IhNu6EqN8"
      },
      "execution_count": null,
      "outputs": []
    },
    {
      "cell_type": "code",
      "source": [
        "np.mean(b)\n"
      ],
      "metadata": {
        "colab": {
          "base_uri": "https://localhost:8080/"
        },
        "id": "IKRarCIg1V2j",
        "outputId": "eadcb347-b675-437e-c103-78d760c7ada7"
      },
      "execution_count": null,
      "outputs": [
        {
          "output_type": "execute_result",
          "data": {
            "text/plain": [
              "10.06699723260682"
            ]
          },
          "metadata": {},
          "execution_count": 11
        }
      ]
    },
    {
      "cell_type": "code",
      "source": [
        "np.std(b)"
      ],
      "metadata": {
        "colab": {
          "base_uri": "https://localhost:8080/"
        },
        "id": "MeiIgudS2H34",
        "outputId": "2c9efcce-1c64-4103-ce20-f4445bdeba66"
      },
      "execution_count": null,
      "outputs": [
        {
          "output_type": "execute_result",
          "data": {
            "text/plain": [
              "1.956526770763964"
            ]
          },
          "metadata": {},
          "execution_count": 12
        }
      ]
    },
    {
      "cell_type": "code",
      "source": [
        "np.percentile(b,80)"
      ],
      "metadata": {
        "colab": {
          "base_uri": "https://localhost:8080/"
        },
        "id": "r_lP6DT12H7m",
        "outputId": "9321c4fb-e640-42dd-de9f-2f8c321f2424"
      },
      "execution_count": null,
      "outputs": [
        {
          "output_type": "execute_result",
          "data": {
            "text/plain": [
              "11.703172749658089"
            ]
          },
          "metadata": {},
          "execution_count": 13
        }
      ]
    },
    {
      "cell_type": "code",
      "source": [
        "x = np.linspace(1,10,100)\n",
        "y = 1/x**2 * np.sin(x)\n",
        "dydx = np.gradient(y, x)\n",
        "y_int = np.cumsum(y)* (x[1]-x[0])\n"
      ],
      "metadata": {
        "id": "yiOIh1d61V5Z"
      },
      "execution_count": null,
      "outputs": []
    },
    {
      "cell_type": "code",
      "source": [
        "plt.plot(x,y)\n",
        "plt.plot(x, dydx)\n",
        "plt.plot(x,y_int)"
      ],
      "metadata": {
        "colab": {
          "base_uri": "https://localhost:8080/",
          "height": 282
        },
        "id": "T17Mrmv41V8p",
        "outputId": "149559d9-ae03-43df-f435-86e98b036467"
      },
      "execution_count": null,
      "outputs": [
        {
          "output_type": "execute_result",
          "data": {
            "text/plain": [
              "[<matplotlib.lines.Line2D at 0x7fbe49913110>]"
            ]
          },
          "metadata": {},
          "execution_count": 37
        },
        {
          "output_type": "display_data",
          "data": {
            "text/plain": [
              "<Figure size 432x288 with 1 Axes>"
            ],
            "image/png": "[encoded data removed]"
          },
          "metadata": {
            "needs_background": "light"
          }
        }
      ]
    },
    {
      "cell_type": "code",
      "source": [
        "import numpy as np\n",
        "import matplotlib.pyplot as plt\n"
      ],
      "metadata": {
        "id": "vLwTEpku00d7"
      },
      "execution_count": null,
      "outputs": []
    },
    {
      "cell_type": "code",
      "source": [
        "N = 10000\n",
        "x = np.linspace(0,10,N+1)\n",
        "y = np.exp(-x/10)*np.sin(x)\n",
        "plt.plot(x,y)"
      ],
      "metadata": {
        "colab": {
          "base_uri": "https://localhost:8080/",
          "height": 282
        },
        "id": "SBzag8LkFnLy",
        "outputId": "85de4f08-af88-465f-bbfe-4588af203529"
      },
      "execution_count": null,
      "outputs": [
        {
          "output_type": "execute_result",
          "data": {
            "text/plain": [
              "[<matplotlib.lines.Line2D at 0x7f3c0aeba390>]"
            ]
          },
          "metadata": {},
          "execution_count": 3
        },
        {
          "output_type": "display_data",
          "data": {
            "text/plain": [
              "<Figure size 432x288 with 1 Axes>"
            ],
            "image/png": "[encoded data removed]"
          },
          "metadata": {
            "needs_background": "light"
          }
        }
      ]
    },
    {
      "cell_type": "code",
      "source": [
        "y[(x>=4)*(x<=7)]"
      ],
      "metadata": {
        "colab": {
          "base_uri": "https://localhost:8080/"
        },
        "id": "c4ktsG6bFnOK",
        "outputId": "52d020d0-8c4d-4186-eb2b-edbc5a0c7d96"
      },
      "execution_count": null,
      "outputs": [
        {
          "output_type": "execute_result",
          "data": {
            "text/plain": [
              "array([-0.50729988, -0.50768701, -0.50807354, ...,  0.32556559,\n",
              "        0.32590794,  0.32624989])"
            ]
          },
          "metadata": {},
          "execution_count": 7
        }
      ]
    },
    {
      "cell_type": "code",
      "source": [
        "nums = np.arange(0,10001,1)\n",
        "sum(nums[(nums%4 !=0)*(nums%7 !=0)])"
      ],
      "metadata": {
        "colab": {
          "base_uri": "https://localhost:8080/"
        },
        "id": "i_fwMNQSFnRn",
        "outputId": "092cb53a-e44c-4e7b-9542-09415b1cde8d"
      },
      "execution_count": null,
      "outputs": [
        {
          "output_type": "execute_result",
          "data": {
            "text/plain": [
              "32147142"
            ]
          },
          "metadata": {},
          "execution_count": 18
        }
      ]
    },
    {
      "cell_type": "code",
      "source": [
        "ab= np.array([[4,5,4],[1,2,3],[6,7,8]])\n",
        "ab"
      ],
      "metadata": {
        "id": "gQRCHLYt00hj",
        "colab": {
          "base_uri": "https://localhost:8080/"
        },
        "outputId": "26f94689-7348-4a26-e7d6-0509daf58962"
      },
      "execution_count": null,
      "outputs": [
        {
          "output_type": "execute_result",
          "data": {
            "text/plain": [
              "array([[4, 5, 4],\n",
              "       [1, 2, 3],\n",
              "       [6, 7, 8]])"
            ]
          },
          "metadata": {},
          "execution_count": 26
        }
      ]
    },
    {
      "cell_type": "code",
      "source": [
        "ab.ravel()\n",
        "ab"
      ],
      "metadata": {
        "id": "KBTVbXZREqR_",
        "colab": {
          "base_uri": "https://localhost:8080/"
        },
        "outputId": "99c28f79-9a32-4890-c2dc-6d42bbd46d6b"
      },
      "execution_count": null,
      "outputs": [
        {
          "output_type": "execute_result",
          "data": {
            "text/plain": [
              "array([[4, 5, 4],\n",
              "       [1, 2, 3],\n",
              "       [6, 7, 8]])"
            ]
          },
          "metadata": {},
          "execution_count": 28
        }
      ]
    },
    {
      "cell_type": "code",
      "source": [
        "ab>4"
      ],
      "metadata": {
        "id": "LLiHuCxREqVC",
        "colab": {
          "base_uri": "https://localhost:8080/"
        },
        "outputId": "1529314d-73f0-46b9-a6d7-0a339e403f23"
      },
      "execution_count": null,
      "outputs": [
        {
          "output_type": "execute_result",
          "data": {
            "text/plain": [
              "array([[False,  True, False],\n",
              "       [False, False, False],\n",
              "       [ True,  True,  True]])"
            ]
          },
          "metadata": {},
          "execution_count": 30
        }
      ]
    },
    {
      "cell_type": "code",
      "source": [
        "a1 = np.random.randn(3,3)\n",
        "a1[ab>4]"
      ],
      "metadata": {
        "colab": {
          "base_uri": "https://localhost:8080/"
        },
        "id": "_vOlbMxUNQeS",
        "outputId": "dd507409-fdce-4ae2-985c-7046c36af9a2"
      },
      "execution_count": null,
      "outputs": [
        {
          "output_type": "execute_result",
          "data": {
            "text/plain": [
              "array([ 0.48401231, -0.66902706, -0.07750123,  0.87247296])"
            ]
          },
          "metadata": {},
          "execution_count": 35
        }
      ]
    },
    {
      "cell_type": "code",
      "source": [
        "ab"
      ],
      "metadata": {
        "colab": {
          "base_uri": "https://localhost:8080/"
        },
        "id": "bc9wGBmXNQhE",
        "outputId": "db48de89-651e-4066-ce72-dfd958a777ca"
      },
      "execution_count": null,
      "outputs": [
        {
          "output_type": "execute_result",
          "data": {
            "text/plain": [
              "array([[4, 5, 4],\n",
              "       [1, 2, 3],\n",
              "       [6, 7, 8]])"
            ]
          },
          "metadata": {},
          "execution_count": 36
        }
      ]
    },
    {
      "cell_type": "code",
      "source": [
        "ab[2]"
      ],
      "metadata": {
        "colab": {
          "base_uri": "https://localhost:8080/"
        },
        "id": "Ptv1y_74NQjY",
        "outputId": "5e521c97-2889-4356-8c83-f9d5159766d7"
      },
      "execution_count": null,
      "outputs": [
        {
          "output_type": "execute_result",
          "data": {
            "text/plain": [
              "array([6, 7, 8])"
            ]
          },
          "metadata": {},
          "execution_count": 39
        }
      ]
    },
    {
      "cell_type": "code",
      "source": [
        "a = np.array([[1,2,3],[4,5,6],[7,8,9]])\n",
        "b = np.array([1,2,3])\n",
        "c = np.array([-1,2,-3])"
      ],
      "metadata": {
        "id": "MZxVyfGCOi2Q"
      },
      "execution_count": null,
      "outputs": []
    },
    {
      "cell_type": "code",
      "source": [
        "a"
      ],
      "metadata": {
        "colab": {
          "base_uri": "https://localhost:8080/"
        },
        "id": "tNnoanM-SWlb",
        "outputId": "bde17700-25d5-4d37-935c-7baea826ec3c"
      },
      "execution_count": null,
      "outputs": [
        {
          "output_type": "execute_result",
          "data": {
            "text/plain": [
              "array([[1, 2, 3],\n",
              "       [4, 5, 6],\n",
              "       [7, 8, 9]])"
            ]
          },
          "metadata": {},
          "execution_count": 71
        }
      ]
    },
    {
      "cell_type": "code",
      "source": [
        "a.T"
      ],
      "metadata": {
        "colab": {
          "base_uri": "https://localhost:8080/"
        },
        "id": "2hKe5v4uNQmX",
        "outputId": "06a4fd1a-6de9-4b8a-f867-21c955112c39"
      },
      "execution_count": null,
      "outputs": [
        {
          "output_type": "execute_result",
          "data": {
            "text/plain": [
              "array([[1, 4, 7],\n",
              "       [2, 5, 8],\n",
              "       [3, 6, 9]])"
            ]
          },
          "metadata": {},
          "execution_count": 70
        }
      ]
    },
    {
      "cell_type": "code",
      "source": [
        "a = np.array([[3,2,1],[5,-5,4],[6,0,1]])\n",
        "b = np.array([4,3,0])"
      ],
      "metadata": {
        "id": "iIb4JJmYSVxu"
      },
      "execution_count": null,
      "outputs": []
    },
    {
      "cell_type": "code",
      "source": [
        "np.linalg.solve(a,c)"
      ],
      "metadata": {
        "colab": {
          "base_uri": "https://localhost:8080/"
        },
        "id": "qAriOpE_S9W7",
        "outputId": "44a8024f-4666-44b3-c6b4-ca8a49acc9b9"
      },
      "execution_count": null,
      "outputs": [
        {
          "output_type": "execute_result",
          "data": {
            "text/plain": [
              "array([-0.71698113, -0.0754717 ,  1.30188679])"
            ]
          },
          "metadata": {},
          "execution_count": 74
        }
      ]
    },
    {
      "cell_type": "code",
      "source": [
        "a = np.array([[3,2,1],[5,-5,4],[6,0,1]])\n",
        "np.linalg.eig(a)"
      ],
      "metadata": {
        "colab": {
          "base_uri": "https://localhost:8080/"
        },
        "id": "Z3l4W4g8NQo_",
        "outputId": "03ba4e35-24f8-4f6f-f4e0-364a5a694a43"
      },
      "execution_count": null,
      "outputs": [
        {
          "output_type": "execute_result",
          "data": {
            "text/plain": [
              "(array([ 5.98847677, -1.66137965, -5.32709712]),\n",
              " array([[-0.55522613, -0.36439757,  0.25391074],\n",
              "        [-0.49573499,  0.43853605, -0.93677764],\n",
              "        [-0.66781043,  0.82152331, -0.24078411]]))"
            ]
          },
          "metadata": {},
          "execution_count": 75
        }
      ]
    },
    {
      "cell_type": "code",
      "source": [
        "import numpy as np\n",
        "import matplotlib.pyplot as plt\n"
      ],
      "metadata": {
        "id": "u95KFUqVFOT5"
      },
      "execution_count": null,
      "outputs": []
    },
    {
      "cell_type": "code",
      "source": [
        "var1=list(range(10))\n",
        "var2 = list(range(10,20))\n",
        "var3 = list(range(20,30))\n"
      ],
      "metadata": {
        "id": "-9tEQTvlFOZS"
      },
      "execution_count": null,
      "outputs": []
    },
    {
      "cell_type": "code",
      "source": [
        "print(var1)\n",
        "print(var2)\n",
        "print(var3)"
      ],
      "metadata": {
        "id": "Vy18ptCJFOcL",
        "colab": {
          "base_uri": "https://localhost:8080/"
        },
        "outputId": "cb4926cc-6e71-45fd-e437-6500aa218372"
      },
      "execution_count": null,
      "outputs": [
        {
          "output_type": "stream",
          "name": "stdout",
          "text": [
            "[0, 1, 2, 3, 4, 5, 6, 7, 8, 9]\n",
            "[10, 11, 12, 13, 14, 15, 16, 17, 18, 19]\n",
            "[20, 21, 22, 23, 24, 25, 26, 27, 28, 29]\n"
          ]
        }
      ]
    },
    {
      "cell_type": "code",
      "source": [
        "total_var =[var1,var2,var3]\n",
        "total_var"
      ],
      "metadata": {
        "id": "gGHZOdPiFOfD",
        "colab": {
          "base_uri": "https://localhost:8080/"
        },
        "outputId": "55a55962-f371-465d-ab4b-4769b21b4ad7"
      },
      "execution_count": null,
      "outputs": [
        {
          "output_type": "execute_result",
          "data": {
            "text/plain": [
              "[[0, 1, 2, 3, 4, 5, 6, 7, 8, 9],\n",
              " [10, 11, 12, 13, 14, 15, 16, 17, 18, 19],\n",
              " [20, 21, 22, 23, 24, 25, 26, 27, 28, 29]]"
            ]
          },
          "metadata": {},
          "execution_count": 7
        }
      ]
    },
    {
      "cell_type": "code",
      "source": [
        "[sum(i) for i in total_var]"
      ],
      "metadata": {
        "id": "D9toYRaLFOhz",
        "colab": {
          "base_uri": "https://localhost:8080/"
        },
        "outputId": "72b43116-1e53-4f45-9345-f3f4aafc80f2"
      },
      "execution_count": null,
      "outputs": [
        {
          "output_type": "execute_result",
          "data": {
            "text/plain": [
              "[45, 145, 245]"
            ]
          },
          "metadata": {},
          "execution_count": 11
        }
      ]
    },
    {
      "cell_type": "code",
      "source": [
        "total_var"
      ],
      "metadata": {
        "id": "t_twYxv_FOky",
        "colab": {
          "base_uri": "https://localhost:8080/"
        },
        "outputId": "70875bf9-cba5-43dd-844a-6a0833efe8d4"
      },
      "execution_count": null,
      "outputs": [
        {
          "output_type": "execute_result",
          "data": {
            "text/plain": [
              "[[0, 1, 2, 3, 4, 5, 6, 7, 8, 9],\n",
              " [10, 11, 12, 13, 14, 15, 16, 17, 18, 19],\n",
              " [20, 21, 22, 23, 24, 25, 26, 27, 28, 29]]"
            ]
          },
          "metadata": {},
          "execution_count": 12
        }
      ]
    },
    {
      "cell_type": "code",
      "source": [
        "np.array(total_var)"
      ],
      "metadata": {
        "colab": {
          "base_uri": "https://localhost:8080/"
        },
        "id": "G0kvM8IDB2jG",
        "outputId": "dd53a044-48da-4d7e-8cd6-357ef0776c1b"
      },
      "execution_count": null,
      "outputs": [
        {
          "output_type": "execute_result",
          "data": {
            "text/plain": [
              "array([[ 0,  1,  2,  3,  4,  5,  6,  7,  8,  9],\n",
              "       [10, 11, 12, 13, 14, 15, 16, 17, 18, 19],\n",
              "       [20, 21, 22, 23, 24, 25, 26, 27, 28, 29]])"
            ]
          },
          "metadata": {},
          "execution_count": 13
        }
      ]
    },
    {
      "cell_type": "code",
      "source": [
        "a  =np.array([[1,2,3],[4,5,6],[7,8,9]])\n",
        "a"
      ],
      "metadata": {
        "id": "Pxo-3o35B2l3",
        "colab": {
          "base_uri": "https://localhost:8080/"
        },
        "outputId": "d21f03b4-dc4a-4eab-9f6f-986c1f5fa179"
      },
      "execution_count": null,
      "outputs": [
        {
          "output_type": "execute_result",
          "data": {
            "text/plain": [
              "array([[1, 2, 3],\n",
              "       [4, 5, 6],\n",
              "       [7, 8, 9]])"
            ]
          },
          "metadata": {},
          "execution_count": 2
        }
      ]
    },
    {
      "cell_type": "code",
      "source": [
        "np.sum(a,axis=0)"
      ],
      "metadata": {
        "colab": {
          "base_uri": "https://localhost:8080/"
        },
        "id": "5CNuJw1hReoW",
        "outputId": "ccad7979-13ac-4808-bc93-ae366a7cab98"
      },
      "execution_count": null,
      "outputs": [
        {
          "output_type": "execute_result",
          "data": {
            "text/plain": [
              "array([12, 15, 18])"
            ]
          },
          "metadata": {},
          "execution_count": 8
        }
      ]
    },
    {
      "cell_type": "code",
      "source": [
        "np.max(a,axis=1)"
      ],
      "metadata": {
        "colab": {
          "base_uri": "https://localhost:8080/"
        },
        "id": "cRlZDB4aReq3",
        "outputId": "bb25b537-f6b8-47ba-a4b4-575139b96fea"
      },
      "execution_count": null,
      "outputs": [
        {
          "output_type": "execute_result",
          "data": {
            "text/plain": [
              "array([3, 6, 9])"
            ]
          },
          "metadata": {},
          "execution_count": 13
        }
      ]
    },
    {
      "cell_type": "code",
      "source": [
        "a = np.random.random(6)\n",
        "a"
      ],
      "metadata": {
        "colab": {
          "base_uri": "https://localhost:8080/"
        },
        "id": "-uIfNKWpRetS",
        "outputId": "5b07c9bb-b805-4b08-e737-9a297661f779"
      },
      "execution_count": null,
      "outputs": [
        {
          "output_type": "execute_result",
          "data": {
            "text/plain": [
              "array([0.64929647, 0.5558836 , 0.73836714, 0.09662779, 0.69375752,\n",
              "       0.58991127])"
            ]
          },
          "metadata": {},
          "execution_count": 20
        }
      ]
    },
    {
      "cell_type": "code",
      "source": [
        "a.reshape(3,2)"
      ],
      "metadata": {
        "colab": {
          "base_uri": "https://localhost:8080/"
        },
        "id": "io3pFfxXRevy",
        "outputId": "881d1c44-879a-4636-b865-bb61fa17e6c0"
      },
      "execution_count": null,
      "outputs": [
        {
          "output_type": "execute_result",
          "data": {
            "text/plain": [
              "array([[0.64929647, 0.5558836 ],\n",
              "       [0.73836714, 0.09662779],\n",
              "       [0.69375752, 0.58991127]])"
            ]
          },
          "metadata": {},
          "execution_count": 23
        }
      ]
    },
    {
      "cell_type": "code",
      "source": [
        "smp=np.random.random(25)\n",
        "smp"
      ],
      "metadata": {
        "colab": {
          "base_uri": "https://localhost:8080/"
        },
        "id": "U7oRs7QfRezC",
        "outputId": "e95728b2-1201-4837-8feb-8a0c44934831"
      },
      "execution_count": null,
      "outputs": [
        {
          "output_type": "execute_result",
          "data": {
            "text/plain": [
              "array([0.79470566, 0.20686466, 0.1379896 , 0.40899343, 0.22799992,\n",
              "       0.12798882, 0.41481579, 0.43610189, 0.51542306, 0.03220898,\n",
              "       0.62472178, 0.18330399, 0.52306451, 0.03049225, 0.2227452 ,\n",
              "       0.81633465, 0.14026951, 0.49279792, 0.83327155, 0.30067702,\n",
              "       0.0728719 , 0.29903603, 0.54185778, 0.14566016, 0.62149694])"
            ]
          },
          "metadata": {},
          "execution_count": 27
        }
      ]
    },
    {
      "cell_type": "code",
      "source": [
        "smp =smp.reshape(5,5)"
      ],
      "metadata": {
        "id": "HCKsHHC-Le78"
      },
      "execution_count": null,
      "outputs": []
    },
    {
      "cell_type": "code",
      "source": [
        "smp=abs(smp-.5)"
      ],
      "metadata": {
        "id": "VHr3BN1rLfNb"
      },
      "execution_count": null,
      "outputs": []
    },
    {
      "cell_type": "code",
      "source": [
        "np.argmin(smp,axis = 0)"
      ],
      "metadata": {
        "colab": {
          "base_uri": "https://localhost:8080/"
        },
        "id": "dI1uvoBjLfQ_",
        "outputId": "af0c1516-efa5-43c4-8969-4b96590c3962"
      },
      "execution_count": null,
      "outputs": [
        {
          "output_type": "execute_result",
          "data": {
            "text/plain": [
              "array([2, 1, 3, 1, 4])"
            ]
          },
          "metadata": {},
          "execution_count": 34
        }
      ]
    },
    {
      "cell_type": "code",
      "source": [
        "np.argmin(smp,axis = 1)"
      ],
      "metadata": {
        "colab": {
          "base_uri": "https://localhost:8080/"
        },
        "id": "-N8FkgWARe2C",
        "outputId": "e0598cad-af8e-4c10-e598-a95b46efce98"
      },
      "execution_count": null,
      "outputs": [
        {
          "output_type": "execute_result",
          "data": {
            "text/plain": [
              "array([3, 3, 2, 2, 2])"
            ]
          },
          "metadata": {},
          "execution_count": 35
        }
      ]
    },
    {
      "cell_type": "code",
      "source": [
        "smp1=np.random.random(6000)\n"
      ],
      "metadata": {
        "id": "2pNcTBGUB2oV"
      },
      "execution_count": null,
      "outputs": []
    },
    {
      "cell_type": "code",
      "source": [
        "smp1.reshape(100,60)"
      ],
      "metadata": {
        "id": "ApXZ9G-yB2rC",
        "colab": {
          "base_uri": "https://localhost:8080/"
        },
        "outputId": "fab80912-14e0-4382-c76e-88f46d116179"
      },
      "execution_count": null,
      "outputs": [
        {
          "output_type": "execute_result",
          "data": {
            "text/plain": [
              "array([[0.65338508, 0.7240809 , 0.05681928, ..., 0.02421119, 0.3326227 ,\n",
              "        0.6785159 ],\n",
              "       [0.57214713, 0.36841174, 0.16496424, ..., 0.4895986 , 0.19785529,\n",
              "        0.92292664],\n",
              "       [0.28455634, 0.05202842, 0.90005552, ..., 0.93342364, 0.51235993,\n",
              "        0.04249392],\n",
              "       ...,\n",
              "       [0.69669758, 0.26253517, 0.73249844, ..., 0.11818785, 0.44778075,\n",
              "        0.13228316],\n",
              "       [0.58383996, 0.41550097, 0.35524898, ..., 0.57431764, 0.59331505,\n",
              "        0.05527501],\n",
              "       [0.08317793, 0.19889905, 0.84595881, ..., 0.93121259, 0.52835009,\n",
              "        0.6091458 ]])"
            ]
          },
          "metadata": {},
          "execution_count": 47
        }
      ]
    },
    {
      "cell_type": "code",
      "source": [
        "smp1 = np.var(smp1,axis=0)"
      ],
      "metadata": {
        "id": "_CHE8WsrB2uM",
        "colab": {
          "base_uri": "https://localhost:8080/"
        },
        "outputId": "60c996e8-6339-4c21-b2bb-da0ab8323050"
      },
      "execution_count": null,
      "outputs": [
        {
          "output_type": "execute_result",
          "data": {
            "text/plain": [
              "0.08361958650229724"
            ]
          },
          "metadata": {},
          "execution_count": 48
        }
      ]
    },
    {
      "cell_type": "code",
      "source": [
        "inorder =np.argsort(smp1)"
      ],
      "metadata": {
        "id": "-nkCjMXlM4Hq"
      },
      "execution_count": null,
      "outputs": []
    },
    {
      "cell_type": "code",
      "source": [
        "inorder[:-5:]"
      ],
      "metadata": {
        "colab": {
          "base_uri": "https://localhost:8080/"
        },
        "id": "xpRliKyiM4Ks",
        "outputId": "27afd761-24b1-4e61-e66f-0c10e2818d66"
      },
      "execution_count": null,
      "outputs": [
        {
          "output_type": "execute_result",
          "data": {
            "text/plain": [
              "array([2074, 1365, 1065, ...,  266, 4490, 3870])"
            ]
          },
          "metadata": {},
          "execution_count": 51
        }
      ]
    },
    {
      "cell_type": "code",
      "source": [
        "data = np.random.random(28).reshape(7,4)\n",
        "data"
      ],
      "metadata": {
        "colab": {
          "base_uri": "https://localhost:8080/"
        },
        "id": "UJc_xJMcM4NX",
        "outputId": "007589be-a58e-4aed-9947-a7db87528faf"
      },
      "execution_count": null,
      "outputs": [
        {
          "output_type": "execute_result",
          "data": {
            "text/plain": [
              "array([[0.73824622, 0.28842302, 0.92830596, 0.86976299],\n",
              "       [0.97761849, 0.43104338, 0.20308793, 0.23326754],\n",
              "       [0.62721671, 0.98087174, 0.20015082, 0.71179653],\n",
              "       [0.56865886, 0.76504276, 0.16470739, 0.0306665 ],\n",
              "       [0.22059962, 0.61014159, 0.86499655, 0.28541544],\n",
              "       [0.24957378, 0.37724826, 0.71345781, 0.94413106],\n",
              "       [0.57195373, 0.55759468, 0.58176625, 0.17438679]])"
            ]
          },
          "metadata": {},
          "execution_count": 52
        }
      ]
    },
    {
      "cell_type": "code",
      "source": [
        "data+np.array([1,2,3,4])"
      ],
      "metadata": {
        "colab": {
          "base_uri": "https://localhost:8080/"
        },
        "id": "44otnMM3M4QO",
        "outputId": "af3b41b1-c7d2-4623-9faa-1536fa78c568"
      },
      "execution_count": null,
      "outputs": [
        {
          "output_type": "execute_result",
          "data": {
            "text/plain": [
              "array([[1.73824622, 2.28842302, 3.92830596, 4.86976299],\n",
              "       [1.97761849, 2.43104338, 3.20308793, 4.23326754],\n",
              "       [1.62721671, 2.98087174, 3.20015082, 4.71179653],\n",
              "       [1.56865886, 2.76504276, 3.16470739, 4.0306665 ],\n",
              "       [1.22059962, 2.61014159, 3.86499655, 4.28541544],\n",
              "       [1.24957378, 2.37724826, 3.71345781, 4.94413106],\n",
              "       [1.57195373, 2.55759468, 3.58176625, 4.17438679]])"
            ]
          },
          "metadata": {},
          "execution_count": 54
        }
      ]
    },
    {
      "cell_type": "code",
      "source": [
        "amatrix = np.array([[1,1],[0,1]])\n",
        "bmatrix = np.array([[2,0],[3,4]])\n"
      ],
      "metadata": {
        "id": "QQdaq9_INu-N"
      },
      "execution_count": null,
      "outputs": []
    },
    {
      "cell_type": "code",
      "source": [
        "amatrix"
      ],
      "metadata": {
        "colab": {
          "base_uri": "https://localhost:8080/"
        },
        "id": "WqOm2vAZNvAj",
        "outputId": "0c6e4d94-77a7-4643-9313-85e929727e7f"
      },
      "execution_count": null,
      "outputs": [
        {
          "output_type": "execute_result",
          "data": {
            "text/plain": [
              "array([[1, 1],\n",
              "       [0, 1]])"
            ]
          },
          "metadata": {},
          "execution_count": 57
        }
      ]
    },
    {
      "cell_type": "code",
      "source": [
        "bmatrix"
      ],
      "metadata": {
        "colab": {
          "base_uri": "https://localhost:8080/"
        },
        "id": "j2vced3qNvDr",
        "outputId": "c584e3a8-4f88-440f-da1f-76325d31bf8a"
      },
      "execution_count": null,
      "outputs": [
        {
          "output_type": "execute_result",
          "data": {
            "text/plain": [
              "array([[2, 0],\n",
              "       [3, 4]])"
            ]
          },
          "metadata": {},
          "execution_count": 58
        }
      ]
    },
    {
      "cell_type": "code",
      "source": [
        "amatrix * bmatrix"
      ],
      "metadata": {
        "colab": {
          "base_uri": "https://localhost:8080/"
        },
        "id": "QP2CyuzMNvGn",
        "outputId": "4efa0639-df23-4b5b-b0ea-27be3b2d54c5"
      },
      "execution_count": null,
      "outputs": [
        {
          "output_type": "execute_result",
          "data": {
            "text/plain": [
              "array([[2, 0],\n",
              "       [0, 4]])"
            ]
          },
          "metadata": {},
          "execution_count": 59
        }
      ]
    },
    {
      "cell_type": "code",
      "source": [
        "amatrix.dot(amatrix)"
      ],
      "metadata": {
        "colab": {
          "base_uri": "https://localhost:8080/"
        },
        "id": "_3PW8HS2Oq2g",
        "outputId": "ebc74d8b-e907-476d-8e01-7be00fa96eeb"
      },
      "execution_count": null,
      "outputs": [
        {
          "output_type": "execute_result",
          "data": {
            "text/plain": [
              "array([[1, 2],\n",
              "       [0, 1]])"
            ]
          },
          "metadata": {},
          "execution_count": 60
        }
      ]
    },
    {
      "cell_type": "code",
      "source": [
        "np.dot(amatrix,bmatrix)"
      ],
      "metadata": {
        "colab": {
          "base_uri": "https://localhost:8080/"
        },
        "id": "krvuChgKOq5y",
        "outputId": "faea685e-604b-4686-fdef-a7545b24f345"
      },
      "execution_count": null,
      "outputs": [
        {
          "output_type": "execute_result",
          "data": {
            "text/plain": [
              "array([[5, 4],\n",
              "       [3, 4]])"
            ]
          },
          "metadata": {},
          "execution_count": 61
        }
      ]
    },
    {
      "cell_type": "code",
      "source": [
        "np.ones((2,2,2))"
      ],
      "metadata": {
        "colab": {
          "base_uri": "https://localhost:8080/"
        },
        "id": "nhkQSDPXQn9T",
        "outputId": "3c56b6ed-e172-4aa2-e4b3-b55346df0620"
      },
      "execution_count": null,
      "outputs": [
        {
          "output_type": "execute_result",
          "data": {
            "text/plain": [
              "array([[[1., 1.],\n",
              "        [1., 1.]],\n",
              "\n",
              "       [[1., 1.],\n",
              "        [1., 1.]]])"
            ]
          },
          "metadata": {},
          "execution_count": 67
        }
      ]
    },
    {
      "cell_type": "code",
      "source": [
        "np.zeros((2,2,2))"
      ],
      "metadata": {
        "colab": {
          "base_uri": "https://localhost:8080/"
        },
        "id": "de0rDNlgRht7",
        "outputId": "ce99d8ca-f629-443c-e8bb-788eb7a44220"
      },
      "execution_count": null,
      "outputs": [
        {
          "output_type": "execute_result",
          "data": {
            "text/plain": [
              "array([[[0., 0.],\n",
              "        [0., 0.]],\n",
              "\n",
              "       [[0., 0.],\n",
              "        [0., 0.]]])"
            ]
          },
          "metadata": {},
          "execution_count": 68
        }
      ]
    },
    {
      "cell_type": "code",
      "source": [
        "arr= np.linspace(0,10,100)"
      ],
      "metadata": {
        "id": "EsKWoSEgRhxb"
      },
      "execution_count": null,
      "outputs": []
    },
    {
      "cell_type": "code",
      "source": [
        "np.exp(arr)"
      ],
      "metadata": {
        "colab": {
          "base_uri": "https://localhost:8080/"
        },
        "id": "hAXsdS6XQn_x",
        "outputId": "e21d3cd0-59ca-491e-8b79-555b8b92eaa7"
      },
      "execution_count": null,
      "outputs": [
        {
          "output_type": "execute_result",
          "data": {
            "text/plain": [
              "array([1.00000000e+00, 1.21824940e+01, 1.48413159e+02, 1.80804241e+03,\n",
              "       2.20264658e+04])"
            ]
          },
          "metadata": {},
          "execution_count": 74
        }
      ]
    },
    {
      "cell_type": "code",
      "source": [
        "np.arange(20).reshape(5,4)"
      ],
      "metadata": {
        "colab": {
          "base_uri": "https://localhost:8080/"
        },
        "id": "ctLga5cAQoCc",
        "outputId": "c2fc5152-a1b7-49c1-89b1-22b4d1f970eb"
      },
      "execution_count": null,
      "outputs": [
        {
          "output_type": "execute_result",
          "data": {
            "text/plain": [
              "array([[ 0,  1,  2,  3],\n",
              "       [ 4,  5,  6,  7],\n",
              "       [ 8,  9, 10, 11],\n",
              "       [12, 13, 14, 15],\n",
              "       [16, 17, 18, 19]])"
            ]
          },
          "metadata": {},
          "execution_count": 76
        }
      ]
    },
    {
      "cell_type": "code",
      "source": [
        "arr[np.newaxis,:].ravel()"
      ],
      "metadata": {
        "colab": {
          "base_uri": "https://localhost:8080/"
        },
        "id": "9sMJTsYXQoFX",
        "outputId": "100c9fe9-ebb0-4940-9cc1-a7990b484771"
      },
      "execution_count": null,
      "outputs": [
        {
          "output_type": "execute_result",
          "data": {
            "text/plain": [
              "array([ 0.        ,  0.1010101 ,  0.2020202 ,  0.3030303 ,  0.4040404 ,\n",
              "        0.50505051,  0.60606061,  0.70707071,  0.80808081,  0.90909091,\n",
              "        1.01010101,  1.11111111,  1.21212121,  1.31313131,  1.41414141,\n",
              "        1.51515152,  1.61616162,  1.71717172,  1.81818182,  1.91919192,\n",
              "        2.02020202,  2.12121212,  2.22222222,  2.32323232,  2.42424242,\n",
              "        2.52525253,  2.62626263,  2.72727273,  2.82828283,  2.92929293,\n",
              "        3.03030303,  3.13131313,  3.23232323,  3.33333333,  3.43434343,\n",
              "        3.53535354,  3.63636364,  3.73737374,  3.83838384,  3.93939394,\n",
              "        4.04040404,  4.14141414,  4.24242424,  4.34343434,  4.44444444,\n",
              "        4.54545455,  4.64646465,  4.74747475,  4.84848485,  4.94949495,\n",
              "        5.05050505,  5.15151515,  5.25252525,  5.35353535,  5.45454545,\n",
              "        5.55555556,  5.65656566,  5.75757576,  5.85858586,  5.95959596,\n",
              "        6.06060606,  6.16161616,  6.26262626,  6.36363636,  6.46464646,\n",
              "        6.56565657,  6.66666667,  6.76767677,  6.86868687,  6.96969697,\n",
              "        7.07070707,  7.17171717,  7.27272727,  7.37373737,  7.47474747,\n",
              "        7.57575758,  7.67676768,  7.77777778,  7.87878788,  7.97979798,\n",
              "        8.08080808,  8.18181818,  8.28282828,  8.38383838,  8.48484848,\n",
              "        8.58585859,  8.68686869,  8.78787879,  8.88888889,  8.98989899,\n",
              "        9.09090909,  9.19191919,  9.29292929,  9.39393939,  9.49494949,\n",
              "        9.5959596 ,  9.6969697 ,  9.7979798 ,  9.8989899 , 10.        ])"
            ]
          },
          "metadata": {},
          "execution_count": 80
        }
      ]
    },
    {
      "cell_type": "code",
      "source": [
        "input_layer=np.random.random(20)\n",
        "input_layer\n"
      ],
      "metadata": {
        "colab": {
          "base_uri": "https://localhost:8080/"
        },
        "id": "OabOGTE6Oq9R",
        "outputId": "d6316e6f-7dd1-46d1-d1ca-766c4fcb9e5a"
      },
      "execution_count": null,
      "outputs": [
        {
          "output_type": "execute_result",
          "data": {
            "text/plain": [
              "array([0.44400802, 0.53762845, 0.81984386, 0.15230673, 0.13074976,\n",
              "       0.73268492, 0.34594178, 0.04551482, 0.45124401, 0.48482683,\n",
              "       0.60327879, 0.1175394 , 0.6352196 , 0.59125878, 0.87747418,\n",
              "       0.24771827, 0.74069531, 0.26029095, 0.33298216, 0.49357723])"
            ]
          },
          "metadata": {},
          "execution_count": 82
        }
      ]
    },
    {
      "cell_type": "code",
      "source": [
        "hidden_layer = np.random.randn(500,20)\n",
        "hidden_layer"
      ],
      "metadata": {
        "colab": {
          "base_uri": "https://localhost:8080/"
        },
        "id": "uRTLBpJlOq_4",
        "outputId": "fad4bc86-0785-4711-e503-86969cb364f7"
      },
      "execution_count": null,
      "outputs": [
        {
          "output_type": "execute_result",
          "data": {
            "text/plain": [
              "array([[ 1.07082705, -0.11037795, -0.12398598, ...,  0.07786752,\n",
              "         0.34017791,  1.45452569],\n",
              "       [-0.44929868, -1.14289506,  1.1628    , ...,  1.41426721,\n",
              "        -0.57379168, -0.19713633],\n",
              "       [-0.30160021, -2.05056043, -0.10946862, ...,  1.36664076,\n",
              "        -0.3611952 , -1.26862461],\n",
              "       ...,\n",
              "       [ 0.19566506, -2.10706199,  1.28491662, ..., -0.46365938,\n",
              "        -0.11265581, -0.90149221],\n",
              "       [ 0.71192377, -1.25635463, -0.2998763 , ..., -0.02088557,\n",
              "         0.24105611, -1.04623817],\n",
              "       [ 0.14201328, -0.4609626 , -1.01295799, ...,  0.62725405,\n",
              "         0.21651492, -0.93490628]])"
            ]
          },
          "metadata": {},
          "execution_count": 83
        }
      ]
    },
    {
      "cell_type": "code",
      "source": [
        "biaslayer=np.random.random(500)"
      ],
      "metadata": {
        "id": "9I2GQ6WISEz3"
      },
      "execution_count": null,
      "outputs": []
    },
    {
      "cell_type": "code",
      "source": [
        "input_layer.shape,hidden_layer.shape,biaslayer.shape"
      ],
      "metadata": {
        "colab": {
          "base_uri": "https://localhost:8080/"
        },
        "id": "kppmF70IVNwO",
        "outputId": "31041cd2-fc4b-426e-874e-a2011ac8cf59"
      },
      "execution_count": null,
      "outputs": [
        {
          "output_type": "execute_result",
          "data": {
            "text/plain": [
              "((20,), (500, 20), (500,))"
            ]
          },
          "metadata": {},
          "execution_count": 85
        }
      ]
    },
    {
      "cell_type": "code",
      "source": [
        "output = np.dot(hidden_layer,input_layer)+biaslayer\n",
        "output"
      ],
      "metadata": {
        "colab": {
          "base_uri": "https://localhost:8080/"
        },
        "id": "tArJ04cwVNz1",
        "outputId": "2968885a-aa54-4745-8e6d-d7610a1c8226"
      },
      "execution_count": null,
      "outputs": [
        {
          "output_type": "execute_result",
          "data": {
            "text/plain": [
              "array([ 2.60943108e+00,  2.30711857e+00,  4.68708809e-01,  4.35832317e+00,\n",
              "       -2.40124623e+00,  6.20631710e-01,  1.12591388e+00, -1.73846523e+00,\n",
              "        8.51896725e-01, -1.38466605e+00, -3.29095904e-02,  4.89434385e-01,\n",
              "       -3.11377724e+00,  1.42850091e+00, -6.05980111e+00,  1.62536316e+00,\n",
              "        1.18466941e+00,  4.68899718e+00,  4.56543522e-01,  1.15253932e+00,\n",
              "       -2.38175049e-01, -2.87800723e+00,  1.61769349e+00,  5.90498053e-01,\n",
              "       -1.41566141e+00,  3.04484104e-01, -1.31212769e+00, -2.84841058e+00,\n",
              "        1.16382763e+00,  1.29132625e+00,  3.29045172e-01,  3.55791534e-01,\n",
              "        3.56890204e+00,  1.35379577e+00,  3.32333436e+00,  1.85283870e+00,\n",
              "        1.33191651e+00,  1.48899368e+00, -5.01296019e+00, -3.73451102e+00,\n",
              "        4.06451238e+00,  5.14395638e+00, -4.00481657e-01, -1.09102131e+00,\n",
              "        4.12423101e+00, -1.34260723e+00, -1.54678251e+00,  1.50860077e+00,\n",
              "        1.39126672e+00,  1.38494601e-01,  3.61558182e+00,  1.52970605e+00,\n",
              "       -5.96139283e-01, -4.07610303e+00,  5.28679125e-01, -2.87818129e+00,\n",
              "       -1.95724679e+00,  2.75535320e-01,  3.49416885e+00, -3.42667203e+00,\n",
              "        3.39702395e+00, -1.35338720e+00, -2.35805317e+00,  3.35673842e+00,\n",
              "        4.63095019e+00,  1.29540482e+00, -7.98911912e-02, -4.46019400e+00,\n",
              "        1.36376183e+00,  2.88021287e-01,  5.66649261e-01,  1.18455825e+00,\n",
              "       -1.73370436e-02,  2.53776513e+00,  4.74840035e-01,  1.25603443e+00,\n",
              "        6.04851724e-01,  3.40291954e+00, -1.48909366e+00, -2.55016858e+00,\n",
              "        1.13708763e+00,  4.17326262e+00,  1.37641483e+00, -4.53743241e+00,\n",
              "        3.08981094e+00, -6.85781519e-01,  2.05678977e+00,  5.85506731e-01,\n",
              "       -7.04667099e-01, -1.73390938e+00,  4.54994176e+00, -1.18233542e+00,\n",
              "        4.49505480e+00,  1.89063928e+00,  1.50006650e+00,  4.25977582e+00,\n",
              "        2.60605051e-01, -1.67348479e-01,  1.69536089e+00,  3.01264656e+00,\n",
              "       -7.92491705e-01, -1.17739386e+00,  2.31285274e+00,  7.35229241e-01,\n",
              "       -1.52383176e+00,  3.00463461e-01, -3.34007914e+00,  9.29049510e-01,\n",
              "        1.59642616e+00,  1.63269733e+00, -5.22424230e-01,  3.71972598e+00,\n",
              "        2.46702173e+00, -1.42753440e+00,  2.11607765e+00, -1.57381235e+00,\n",
              "       -3.62653961e+00,  2.15817336e+00,  4.69434608e+00,  7.91654875e-01,\n",
              "        1.85188403e+00,  6.21628915e+00,  4.98651279e-01, -1.73564873e+00,\n",
              "        2.81535355e-01, -2.05751350e+00, -4.20928887e-01,  1.52230704e+00,\n",
              "        9.40680922e-01,  4.57096310e-02, -2.15437413e-01,  6.56510771e-01,\n",
              "        8.56907140e-01,  5.17955513e+00,  1.89686032e+00, -1.67846218e+00,\n",
              "       -2.81976951e+00,  7.75629668e-01, -7.54681035e-01,  7.21287176e-01,\n",
              "        7.66839751e-01,  2.87331837e+00,  1.61647997e+00, -2.57372620e+00,\n",
              "        4.11860595e+00, -6.46114702e-01,  1.02957701e+00,  3.46476661e+00,\n",
              "       -1.26811396e+00, -8.65024848e-01,  5.71343306e+00,  2.98256148e-01,\n",
              "       -1.24875446e+00, -1.83987708e+00, -2.20235198e+00,  4.40825979e+00,\n",
              "       -1.25717752e+00,  2.73135121e+00,  2.48842460e-02, -1.54684740e+00,\n",
              "       -4.16280341e+00,  2.96685204e-01,  1.96902744e+00, -1.07119285e+00,\n",
              "        1.27522647e+00,  2.43682568e+00,  7.74488458e-01,  4.96161362e+00,\n",
              "        3.36075552e-01, -2.01654025e+00,  1.64246535e+00,  4.60019915e+00,\n",
              "        2.90349252e+00,  3.22870585e+00,  5.89640654e-01,  6.61054729e-01,\n",
              "       -2.91386813e+00, -3.04646752e+00, -2.54470788e+00, -1.82071971e+00,\n",
              "       -2.04358937e+00, -1.56882628e+00, -4.77763495e-01, -1.64531929e+00,\n",
              "       -8.29198995e-01, -1.15526759e+00, -4.08336212e-01,  3.20624007e-01,\n",
              "        2.79768922e+00,  1.09017481e+00, -2.23396537e+00,  4.47739607e+00,\n",
              "        6.10404454e-01,  1.37377482e-01,  3.13857178e-01, -4.54918051e-01,\n",
              "        2.53462019e+00,  1.16389116e+00,  3.30472614e+00,  2.13538156e+00,\n",
              "        2.46270340e+00,  4.14510550e+00,  2.22931862e+00,  4.07990958e+00,\n",
              "        3.51167265e-01,  9.45559496e-01,  1.54975737e+00,  1.46897439e-01,\n",
              "        5.40302137e+00, -1.92305835e+00,  3.22352573e+00,  1.71720344e+00,\n",
              "        1.76222985e+00,  7.10104132e-01,  6.40568526e+00, -1.52347990e+00,\n",
              "        1.39558063e+00, -7.57032652e-01,  2.82305053e+00, -5.82854869e+00,\n",
              "        3.28409819e-01,  4.54188624e-02,  1.53704464e-01,  1.70994606e-01,\n",
              "        3.62972673e+00, -2.11199312e+00,  1.09725037e+00, -1.36642600e-01,\n",
              "       -5.87423760e-01,  1.27085486e-01,  6.46507948e-01,  2.99999977e+00,\n",
              "        6.41515640e+00,  4.75750799e-01,  7.37917048e-01, -4.44899838e+00,\n",
              "        3.25544062e-01,  1.96540904e+00,  2.14829224e+00, -1.25979024e+00,\n",
              "        3.63139160e+00,  2.80545560e+00,  1.48766758e+00,  4.23579867e+00,\n",
              "        1.73398143e+00,  1.34622971e+00,  1.47670617e+00,  1.26894478e+00,\n",
              "       -2.96505796e+00, -1.68619697e+00,  1.06362224e+00,  1.93108950e+00,\n",
              "        2.30963325e+00, -2.29559200e-01, -4.68400157e-01,  2.52462328e+00,\n",
              "        3.14781285e+00, -3.20114523e+00,  6.07289357e-01,  2.25093197e+00,\n",
              "        7.07726319e-01,  1.00846638e+00, -2.99495832e+00,  1.65555920e+00,\n",
              "        4.00199504e+00, -3.22425919e+00,  9.67349189e-01, -1.86727105e+00,\n",
              "        9.12178543e-01,  1.10532504e+00,  1.67590297e+00, -3.85415738e+00,\n",
              "        4.25154532e+00, -7.24125769e-02, -3.79038926e+00, -6.43583502e-01,\n",
              "       -7.95592626e-01,  3.53872080e+00,  4.82931517e-02,  2.72542739e+00,\n",
              "       -1.84298063e+00, -2.71770811e+00,  1.34295581e+00,  7.00368517e-01,\n",
              "        1.87012562e+00,  1.51032976e+00,  1.38449814e+00, -3.40138207e+00,\n",
              "       -2.60980351e-01,  2.89142625e+00,  7.14922241e-01,  1.29652280e+00,\n",
              "       -2.28164906e-02, -2.53257001e+00,  1.03066234e+00,  8.98500825e-01,\n",
              "       -6.05065224e-01, -3.80399550e+00,  2.23035793e+00,  1.13409393e-01,\n",
              "        8.88275232e-01, -3.08931701e+00, -1.18704175e+00,  6.88387394e-01,\n",
              "       -5.38170647e-02,  8.39621340e-01, -1.71183920e+00, -9.15981287e-01,\n",
              "       -1.45269480e+00, -2.31941344e+00, -2.36168526e+00,  1.34049290e+00,\n",
              "       -8.14968133e-01,  1.46616098e+00,  3.12565837e+00, -2.39747917e+00,\n",
              "       -2.41452386e+00, -7.29635616e-01, -1.93837443e+00, -2.99571557e+00,\n",
              "        9.93092725e-01,  6.45074716e-01,  2.39151538e+00,  4.94581153e+00,\n",
              "        2.01718533e+00, -1.59315573e+00, -2.73054434e-02,  3.25218734e+00,\n",
              "        2.51796779e+00,  1.77647021e+00, -3.16171594e+00, -3.39440271e-03,\n",
              "       -1.34443080e+00, -3.63875259e+00, -3.97150627e-02,  1.20253318e+00,\n",
              "        6.30090295e+00, -1.27475123e+00,  4.57259797e+00,  6.69415781e-01,\n",
              "       -3.46418640e+00,  1.57814863e+00,  2.12960881e+00,  2.00622591e+00,\n",
              "       -1.03497117e+00, -3.69575097e-01, -1.25975097e+00, -2.75366212e+00,\n",
              "       -3.51930317e+00, -2.21960122e+00,  4.79441448e+00, -2.75320052e+00,\n",
              "        2.52979262e+00,  4.18151605e+00,  2.00766477e+00, -2.08867403e+00,\n",
              "        2.69511194e-01, -2.32433524e+00,  2.93307784e+00, -1.18113093e+00,\n",
              "       -7.54642118e-01, -8.74211243e-01, -2.96575744e+00, -4.67139580e+00,\n",
              "        4.67247551e-01, -1.38033267e+00, -2.82924797e+00,  1.72006879e+00,\n",
              "       -2.73203674e+00,  3.04534173e+00,  4.83415466e-01,  3.27786211e+00,\n",
              "        3.65042576e+00,  1.53952202e+00,  8.33644010e-02,  2.82133626e+00,\n",
              "       -5.61563150e-01,  1.96774918e+00,  6.90754634e+00,  1.30366032e+00,\n",
              "       -1.44626344e+00,  3.11965311e+00,  1.28842311e+00, -4.53288757e+00,\n",
              "        4.12050495e+00,  6.15973915e+00,  3.69427755e-01,  3.71488472e+00,\n",
              "       -9.23176488e-01,  9.75122872e-01, -2.57461014e-01, -2.08702083e+00,\n",
              "       -9.40613656e-01,  3.01363646e-01,  3.97397947e+00,  1.14676483e+00,\n",
              "        1.48979050e+00,  5.28682213e+00, -3.97743995e-01, -1.65159006e+00,\n",
              "       -6.95737919e-01,  4.25906358e+00,  1.09750020e-01,  2.39270737e-01,\n",
              "        7.16421436e-01, -2.64042967e+00,  3.77154020e+00, -3.28379468e+00,\n",
              "        9.99006079e-01,  2.16738533e+00, -9.54807319e-01,  2.95718623e+00,\n",
              "        1.01854192e+00, -5.42404818e-01,  2.16666557e+00, -4.03100201e+00,\n",
              "        7.73185201e+00,  3.88668074e+00,  2.05992428e+00,  1.98775918e+00,\n",
              "        2.20434299e+00,  2.48978461e+00,  2.73400132e+00, -1.10735037e-01,\n",
              "       -1.21278397e+00,  2.99925916e+00, -3.57422743e+00, -1.58973403e+00,\n",
              "        1.86676945e+00, -2.87077986e+00, -1.75030114e-02, -1.74362604e+00,\n",
              "        3.02617707e-01,  3.81745555e+00, -3.07528449e+00, -1.13453250e+00,\n",
              "        2.60045754e-01,  7.88367874e-01, -3.50711090e+00,  1.33698315e-01,\n",
              "        1.67026539e+00,  1.30754242e+00, -1.82132848e+00, -1.02823300e+00,\n",
              "        3.07712031e+00,  2.76172062e+00,  9.10110039e-01, -2.65657546e+00,\n",
              "        6.97274632e-01, -6.90610455e-01,  2.05931592e+00,  9.04687546e-01,\n",
              "        2.55153896e+00, -3.96706491e+00, -4.90334240e-02,  3.35981138e+00,\n",
              "       -1.06708141e+00, -9.94101507e-01,  2.12613980e+00,  2.21125244e+00,\n",
              "        6.96259786e-01,  4.25042022e+00, -4.64777879e+00,  1.71570411e+00,\n",
              "        5.36393902e-01,  3.03518859e+00, -3.69070625e+00,  2.28214037e+00,\n",
              "        5.83021776e-01,  1.69375498e+00,  9.34378869e-01,  3.49832980e+00,\n",
              "        1.96460910e+00,  1.02404581e+00, -2.83478577e+00,  4.96937299e-01,\n",
              "       -9.74174581e-01,  3.95432946e+00,  2.77971154e+00, -3.82541464e+00,\n",
              "       -9.82449173e-01,  1.69127671e+00,  1.73378373e+00, -4.60473564e-01,\n",
              "        5.26023463e+00,  4.96794886e+00,  4.09526987e+00, -2.99628994e-01,\n",
              "        2.54769256e+00,  5.55400571e-01, -1.16111837e+00,  4.20371720e+00,\n",
              "        1.21068539e+00,  3.55546737e-01, -3.18669526e-01,  3.41009582e-01,\n",
              "        3.84935099e+00, -3.97898696e-01,  4.24911421e-01, -2.39107977e+00])"
            ]
          },
          "metadata": {},
          "execution_count": 87
        }
      ]
    },
    {
      "cell_type": "code",
      "source": [
        "output.shape"
      ],
      "metadata": {
        "colab": {
          "base_uri": "https://localhost:8080/"
        },
        "id": "EsmbHTj7SE3P",
        "outputId": "73c54c43-a378-4a18-c316-71177739148f"
      },
      "execution_count": null,
      "outputs": [
        {
          "output_type": "execute_result",
          "data": {
            "text/plain": [
              "(500,)"
            ]
          },
          "metadata": {},
          "execution_count": 88
        }
      ]
    },
    {
      "cell_type": "code",
      "source": [
        "output[:10]"
      ],
      "metadata": {
        "colab": {
          "base_uri": "https://localhost:8080/"
        },
        "id": "S7UGgfI6YC9c",
        "outputId": "3f8f491f-48f9-48cf-c17b-75a52b2e37df"
      },
      "execution_count": null,
      "outputs": [
        {
          "output_type": "execute_result",
          "data": {
            "text/plain": [
              "array([ 2.60943108,  2.30711857,  0.46870881,  4.35832317, -2.40124623,\n",
              "        0.62063171,  1.12591388, -1.73846523,  0.85189673, -1.38466605])"
            ]
          },
          "metadata": {},
          "execution_count": 93
        }
      ]
    },
    {
      "cell_type": "code",
      "source": [
        ""
      ],
      "metadata": {
        "id": "7fZt4vw8YDBL"
      },
      "execution_count": null,
      "outputs": []
    },
    {
      "cell_type": "code",
      "source": [
        "output = np.maximum(0,output).shape"
      ],
      "metadata": {
        "id": "hMitDSjFT7Pg"
      },
      "execution_count": null,
      "outputs": []
    },
    {
      "cell_type": "code",
      "source": [
        "output[:10]"
      ],
      "metadata": {
        "colab": {
          "base_uri": "https://localhost:8080/"
        },
        "id": "oWBUPPtMT7SU",
        "outputId": "0f382237-b751-423d-c434-8531d0896a06"
      },
      "execution_count": null,
      "outputs": [
        {
          "output_type": "execute_result",
          "data": {
            "text/plain": [
              "array([2.60943108, 2.30711857, 0.46870881, 4.35832317, 0.        ,\n",
              "       0.62063171, 1.12591388, 0.        , 0.85189673, 0.        ])"
            ]
          },
          "metadata": {},
          "execution_count": 95
        }
      ]
    }
  ]
}